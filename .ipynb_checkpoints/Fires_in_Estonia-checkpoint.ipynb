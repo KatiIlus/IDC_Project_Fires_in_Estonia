{
 "cells": [
  {
   "cell_type": "markdown",
   "metadata": {},
   "source": [
    "# D8 - Building fires in Estonia\n",
    "## Karolin Kivilaan, Kati Ilus, Geitrud Pank"
   ]
  },
  {
   "cell_type": "code",
   "execution_count": null,
   "metadata": {},
   "outputs": [],
   "source": [
    "import numpy as np\n",
    "import pandas as pd\n",
    "import apyori\n",
    "import matplotlib.pyplot as plt\n",
    "from sklearn.cluster import KMeans\n",
    "\n",
    "data_df = pd.read_csv(\"hoonetulekahjud.csv\")\n",
    "data = data_df.values\n",
    "data_df"
   ]
  },
  {
   "cell_type": "markdown",
   "metadata": {},
   "source": [
    "### Basic plotting"
   ]
  },
  {
   "cell_type": "code",
   "execution_count": null,
   "metadata": {},
   "outputs": [],
   "source": [
    "year2014 = []\n",
    "year2015 = []\n",
    "year2016 = []\n",
    "year2017 = []\n",
    "year2018 = []\n",
    "year2019 = []\n",
    "year2020 = []\n",
    "for i in data:\n",
    "    if i[1] == 2014:\n",
    "        year2014.append(i)\n",
    "    elif i[1] == 2015:\n",
    "        year2015.append(i)\n",
    "    elif i[1] == 2016:\n",
    "        year2016.append(i)\n",
    "    elif i[1] == 2017:\n",
    "        year2017.append(i)\n",
    "    elif i[1] == 2018:\n",
    "        year2018.append(i)\n",
    "    elif i[1] == 2019:\n",
    "        year2019.append(i)\n",
    "    elif i[1] == 2020:\n",
    "        year2020.append(i)\n",
    "#print(year2014)"
   ]
  },
  {
   "cell_type": "code",
   "execution_count": null,
   "metadata": {},
   "outputs": [],
   "source": [
    "def fires_in_a_year(year):\n",
    "    counter = 0\n",
    "    for i in year:\n",
    "        counter += int(i[5])\n",
    "    return counter\n",
    "print(fires_in_a_year(year2016))"
   ]
  },
  {
   "cell_type": "code",
   "execution_count": null,
   "metadata": {},
   "outputs": [],
   "source": [
    "def different_causes(year):\n",
    "    array = []\n",
    "    for i in year:\n",
    "        for j in range(i[5]):\n",
    "            array.append(i[3])\n",
    "    return array\n",
    "o = pd.Index(different_causes(year2020))\n",
    "o.value_counts().plot(kind='bar')\n",
    "plt.show()"
   ]
  },
  {
   "cell_type": "code",
   "execution_count": null,
   "metadata": {},
   "outputs": [],
   "source": [
    "def fires_by_county(year):\n",
    "    array = []\n",
    "    for i in year:\n",
    "        for j in range(i[5]):\n",
    "            array.append(i[0])\n",
    "    return array\n",
    "y2019 = pd.Index(fires_by_county(year2019))\n",
    "y2019.value_counts().plot(kind='bar', color='#fb1dbf')\n",
    "plt.show()"
   ]
  },
  {
   "cell_type": "code",
   "execution_count": null,
   "metadata": {},
   "outputs": [],
   "source": [
    "import matplotlib.pyplot as plt\n",
    "fig = plt.figure()\n",
    "ax = fig.add_axes([0,0,1,1])\n",
    "langs = ['Year 2014', 'Year 2015', 'Year 2016', 'Year 2017', 'Year 2018', 'Year 2019', 'Year 2020']\n",
    "counts = [fires_in_a_year(year2014), fires_in_a_year(year2015), fires_in_a_year(year2016), fires_in_a_year(year2017), fires_in_a_year(year2018), fires_in_a_year(year2019), fires_in_a_year(year2020)] \n",
    "ax.bar(langs,counts, color='#0203aa')\n",
    "ax.set_title('Building fires by year')\n",
    "plt.show()"
   ]
  },
  {
   "cell_type": "code",
   "execution_count": null,
   "metadata": {},
   "outputs": [],
   "source": [
    "#Clustering fires by month\n",
    "k = data_df.loc[data_df['Aasta'] == 2014]\n",
    "plt.scatter(k['Hoonetulekahjud'], k['Kuu'])\n",
    "plt.xlabel('Building fires')\n",
    "plt.ylabel('Month')\n",
    "plt.show()"
   ]
  },
  {
   "cell_type": "code",
   "execution_count": null,
   "metadata": {
    "scrolled": true
   },
   "outputs": [],
   "source": []
  },
  {
   "cell_type": "code",
   "execution_count": null,
   "metadata": {},
   "outputs": [],
   "source": []
  }
 ],
 "metadata": {
  "kernelspec": {
   "display_name": "Python 3",
   "language": "python",
   "name": "python3"
  },
  "language_info": {
   "codemirror_mode": {
    "name": "ipython",
    "version": 3
   },
   "file_extension": ".py",
   "mimetype": "text/x-python",
   "name": "python",
   "nbconvert_exporter": "python",
   "pygments_lexer": "ipython3",
   "version": "3.8.5"
  }
 },
 "nbformat": 4,
 "nbformat_minor": 4
}
