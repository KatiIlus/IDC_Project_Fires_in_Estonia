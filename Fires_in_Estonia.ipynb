{
 "cells": [
  {
   "cell_type": "markdown",
   "metadata": {},
   "source": [
    "# D8 - Building fires in Estonia\n",
    "## Karolin Kivilaan, Kati Ilus, Geitrud Pank"
   ]
  },
  {
   "cell_type": "code",
   "execution_count": 13,
   "metadata": {},
   "outputs": [
    {
     "data": {
      "text/html": [
       "<div>\n",
       "<style scoped>\n",
       "    .dataframe tbody tr th:only-of-type {\n",
       "        vertical-align: middle;\n",
       "    }\n",
       "\n",
       "    .dataframe tbody tr th {\n",
       "        vertical-align: top;\n",
       "    }\n",
       "\n",
       "    .dataframe thead th {\n",
       "        text-align: right;\n",
       "    }\n",
       "</style>\n",
       "<table border=\"1\" class=\"dataframe\">\n",
       "  <thead>\n",
       "    <tr style=\"text-align: right;\">\n",
       "      <th></th>\n",
       "      <th>Maakond</th>\n",
       "      <th>Aasta</th>\n",
       "      <th>Hoone liik</th>\n",
       "      <th>Tekkepõhjus</th>\n",
       "      <th>Kuu</th>\n",
       "      <th>Hoonetulekahjud</th>\n",
       "    </tr>\n",
       "  </thead>\n",
       "  <tbody>\n",
       "    <tr>\n",
       "      <th>0</th>\n",
       "      <td>Valga maakond</td>\n",
       "      <td>2014</td>\n",
       "      <td>Mitteeluhooned</td>\n",
       "      <td>!Sisestamata!</td>\n",
       "      <td>3</td>\n",
       "      <td>1</td>\n",
       "    </tr>\n",
       "    <tr>\n",
       "      <th>1</th>\n",
       "      <td>Tartu maakond</td>\n",
       "      <td>2014</td>\n",
       "      <td>Mitteeluhooned</td>\n",
       "      <td>!Sisestamata!</td>\n",
       "      <td>3</td>\n",
       "      <td>3</td>\n",
       "    </tr>\n",
       "    <tr>\n",
       "      <th>2</th>\n",
       "      <td>Rapla maakond</td>\n",
       "      <td>2014</td>\n",
       "      <td>Mitteeluhooned</td>\n",
       "      <td>!Sisestamata!</td>\n",
       "      <td>3</td>\n",
       "      <td>1</td>\n",
       "    </tr>\n",
       "    <tr>\n",
       "      <th>3</th>\n",
       "      <td>Lääne maakond</td>\n",
       "      <td>2014</td>\n",
       "      <td>Mitteeluhooned</td>\n",
       "      <td>!Sisestamata!</td>\n",
       "      <td>3</td>\n",
       "      <td>1</td>\n",
       "    </tr>\n",
       "    <tr>\n",
       "      <th>4</th>\n",
       "      <td>Harju maakond</td>\n",
       "      <td>2014</td>\n",
       "      <td>Mitteeluhooned</td>\n",
       "      <td>!Sisestamata!</td>\n",
       "      <td>3</td>\n",
       "      <td>2</td>\n",
       "    </tr>\n",
       "    <tr>\n",
       "      <th>...</th>\n",
       "      <td>...</td>\n",
       "      <td>...</td>\n",
       "      <td>...</td>\n",
       "      <td>...</td>\n",
       "      <td>...</td>\n",
       "      <td>...</td>\n",
       "    </tr>\n",
       "    <tr>\n",
       "      <th>5660</th>\n",
       "      <td>Ida-Viru maakond</td>\n",
       "      <td>2020</td>\n",
       "      <td>!Sisestamata!</td>\n",
       "      <td>!Sisestamata!</td>\n",
       "      <td>11</td>\n",
       "      <td>1</td>\n",
       "    </tr>\n",
       "    <tr>\n",
       "      <th>5661</th>\n",
       "      <td>Ida-Viru maakond</td>\n",
       "      <td>2020</td>\n",
       "      <td>Eluhooned</td>\n",
       "      <td>Lahtise tule kasutamisel</td>\n",
       "      <td>11</td>\n",
       "      <td>1</td>\n",
       "    </tr>\n",
       "    <tr>\n",
       "      <th>5662</th>\n",
       "      <td>Harju maakond</td>\n",
       "      <td>2020</td>\n",
       "      <td>!Sisestamata!</td>\n",
       "      <td>!Sisestamata!</td>\n",
       "      <td>11</td>\n",
       "      <td>1</td>\n",
       "    </tr>\n",
       "    <tr>\n",
       "      <th>5663</th>\n",
       "      <td>Harju maakond</td>\n",
       "      <td>2020</td>\n",
       "      <td>Eluhooned</td>\n",
       "      <td>!Sisestamata!</td>\n",
       "      <td>11</td>\n",
       "      <td>1</td>\n",
       "    </tr>\n",
       "    <tr>\n",
       "      <th>5664</th>\n",
       "      <td>Harju maakond</td>\n",
       "      <td>2020</td>\n",
       "      <td>Mitteeluhooned</td>\n",
       "      <td>!Sisestamata!</td>\n",
       "      <td>11</td>\n",
       "      <td>5</td>\n",
       "    </tr>\n",
       "  </tbody>\n",
       "</table>\n",
       "<p>5665 rows × 6 columns</p>\n",
       "</div>"
      ],
      "text/plain": [
       "               Maakond  Aasta      Hoone liik               Tekkepõhjus  Kuu  \\\n",
       "0        Valga maakond   2014  Mitteeluhooned             !Sisestamata!    3   \n",
       "1        Tartu maakond   2014  Mitteeluhooned             !Sisestamata!    3   \n",
       "2        Rapla maakond   2014  Mitteeluhooned             !Sisestamata!    3   \n",
       "3        Lääne maakond   2014  Mitteeluhooned             !Sisestamata!    3   \n",
       "4        Harju maakond   2014  Mitteeluhooned             !Sisestamata!    3   \n",
       "...                ...    ...             ...                       ...  ...   \n",
       "5660  Ida-Viru maakond   2020   !Sisestamata!             !Sisestamata!   11   \n",
       "5661  Ida-Viru maakond   2020       Eluhooned  Lahtise tule kasutamisel   11   \n",
       "5662     Harju maakond   2020   !Sisestamata!             !Sisestamata!   11   \n",
       "5663     Harju maakond   2020       Eluhooned             !Sisestamata!   11   \n",
       "5664     Harju maakond   2020  Mitteeluhooned             !Sisestamata!   11   \n",
       "\n",
       "      Hoonetulekahjud  \n",
       "0                   1  \n",
       "1                   3  \n",
       "2                   1  \n",
       "3                   1  \n",
       "4                   2  \n",
       "...               ...  \n",
       "5660                1  \n",
       "5661                1  \n",
       "5662                1  \n",
       "5663                1  \n",
       "5664                5  \n",
       "\n",
       "[5665 rows x 6 columns]"
      ]
     },
     "execution_count": 13,
     "metadata": {},
     "output_type": "execute_result"
    }
   ],
   "source": [
    "import numpy as np\n",
    "import pandas as pd\n",
    "import apyori\n",
    "import matplotlib.pyplot as plt\n",
    "from sklearn.cluster import KMeans\n",
    "\n",
    "data_df = pd.read_csv(\"hoonetulekahjud.csv\")\n",
    "data = data_df.values\n",
    "data_with_months = []\n",
    "data_copy = data.copy()\n",
    "for i in data_copy:\n",
    "    if i[4] == 1:\n",
    "        i[4] = 'January'\n",
    "    elif i[4] == 2:\n",
    "        i[4] = 'February'\n",
    "    elif i[4] == 3:\n",
    "        i[4] = 'March'\n",
    "    elif i[4] == 4:\n",
    "        i[4] = 'April'\n",
    "    elif i[4] == 5:\n",
    "        i[4] = 'May'\n",
    "    elif i[4] == 6:\n",
    "        i[4] = 'June'\n",
    "    elif i[4] == 7:\n",
    "        i[4] = 'July'\n",
    "    elif i[4] == 8:\n",
    "        i[4] = 'August'\n",
    "    elif i[4] == 9:\n",
    "        i[4] = 'September'\n",
    "    elif i[4] == 10:\n",
    "        i[4] = 'October'\n",
    "    elif i[4] == 11:\n",
    "        i[4] = 'November'\n",
    "    elif i[4] == 12:\n",
    "        i[4] = 'December'\n",
    "    data_with_months.append(i)\n",
    "data_df"
   ]
  },
  {
   "cell_type": "markdown",
   "metadata": {},
   "source": [
    "### Basic plotting"
   ]
  },
  {
   "cell_type": "code",
   "execution_count": 2,
   "metadata": {},
   "outputs": [],
   "source": [
    "year2014 = []\n",
    "year2015 = []\n",
    "year2016 = []\n",
    "year2017 = []\n",
    "year2018 = []\n",
    "year2019 = []\n",
    "year2020 = []\n",
    "year2014_month = []\n",
    "year2015_month = []\n",
    "year2016_month = []\n",
    "year2017_month = []\n",
    "year2018_month = []\n",
    "year2019_month = []\n",
    "year2020_month = []\n",
    "for i in range(len(data)):\n",
    "    if data[i][1] == 2014:\n",
    "        year2014.append(data[i])\n",
    "        year2014_month.append(data_with_months[i])\n",
    "    elif data[i][1] == 2015:\n",
    "        year2015.append(data[i])\n",
    "        year2015_month.append(data_with_months[i])\n",
    "    elif data[i][1] == 2016:\n",
    "        year2016.append(data[i])\n",
    "        year2016_month.append(data_with_months[i])\n",
    "    elif data[i][1] == 2017:\n",
    "        year2017.append(data[i])\n",
    "        year2017_month.append(data_with_months[i])\n",
    "    elif data[i][1] == 2018:\n",
    "        year2018.append(data[i])\n",
    "        year2018_month.append(data_with_months[i])\n",
    "    elif data[i][1] == 2019:\n",
    "        year2019.append(data[i])\n",
    "        year2019_month.append(data_with_months[i])\n",
    "    elif data[i][1] == 2020:\n",
    "        year2020.append(data[i])\n",
    "        year2020_month.append(data_with_months[i])\n",
    "#print(year2014)\n",
    "data_by_years = [year2014, year2015, year2016, year2017, year2018, year2019, year2020]"
   ]
  },
  {
   "cell_type": "code",
   "execution_count": 3,
   "metadata": {},
   "outputs": [
    {
     "name": "stdout",
     "output_type": "stream",
     "text": [
      "1401\n"
     ]
    }
   ],
   "source": [
    "def fires_in_a_year(year):\n",
    "    counter = 0\n",
    "    for i in year:\n",
    "        counter += int(i[5])\n",
    "    return counter\n",
    "print(fires_in_a_year(year2016))"
   ]
  },
  {
   "cell_type": "code",
   "execution_count": 179,
   "metadata": {},
   "outputs": [
    {
     "data": {
      "image/png": "[encoded data removed]",
      "text/plain": [
       "<Figure size 432x288 with 1 Axes>"
      ]
     },
     "metadata": {},
     "output_type": "display_data"
    },
    {
     "data": {
      "text/plain": [
       "June         101\n",
       "May           96\n",
       "August        93\n",
       "March         86\n",
       "July          85\n",
       "April         83\n",
       "September     81\n",
       "January       80\n",
       "February      66\n",
       "October       63\n",
       "November      35\n",
       "dtype: int64"
      ]
     },
     "execution_count": 179,
     "metadata": {},
     "output_type": "execute_result"
    }
   ],
   "source": [
    "def fires_by_month(year):\n",
    "    array = []\n",
    "    for i in year:\n",
    "        for j in range(i[5]):\n",
    "            array.append(i[4])\n",
    "    return array\n",
    "o = pd.Index(fires_by_month(year2020_month))\n",
    "o.value_counts().plot(kind='pie')\n",
    "plt.show()"
   ]
  },
  {
   "cell_type": "code",
   "execution_count": 5,
   "metadata": {},
   "outputs": [
    {
     "data": {
      "image/png": "[encoded data removed]",
      "text/plain": [
       "<Figure size 432x288 with 1 Axes>"
      ]
     },
     "metadata": {
      "needs_background": "light"
     },
     "output_type": "display_data"
    }
   ],
   "source": [
    "def different_causes(year):\n",
    "    array = []\n",
    "    for i in year:\n",
    "        for j in range(i[5]):\n",
    "            array.append(i[3])\n",
    "    return array\n",
    "o = pd.Index(different_causes(year2020))\n",
    "o.value_counts().plot(kind='bar')\n",
    "plt.show()"
   ]
  },
  {
   "cell_type": "code",
   "execution_count": 6,
   "metadata": {
    "scrolled": true
   },
   "outputs": [
    {
     "data": {
      "image/png": "[encoded data removed]",
      "text/plain": [
       "<Figure size 432x288 with 1 Axes>"
      ]
     },
     "metadata": {
      "needs_background": "light"
     },
     "output_type": "display_data"
    }
   ],
   "source": [
    "def fires_by_county(year):\n",
    "    array = []\n",
    "    for i in year:\n",
    "        for j in range(i[5]):\n",
    "            array.append(i[0])\n",
    "    return array\n",
    "y2019 = pd.Index(fires_by_county(year2019))\n",
    "y2019.value_counts().plot(kind='bar', color='#fb1dbf')\n",
    "plt.show()"
   ]
  },
  {
   "cell_type": "code",
   "execution_count": 159,
   "metadata": {},
   "outputs": [
    {
     "data": {
      "image/png": "[encoded data removed]",
      "text/plain": [
       "<Figure size 432x288 with 1 Axes>"
      ]
     },
     "metadata": {
      "needs_background": "light"
     },
     "output_type": "display_data"
    }
   ],
   "source": [
    "import matplotlib.pyplot as plt\n",
    "fig = plt.figure()\n",
    "ax = fig.add_axes([0,0,1,1])\n",
    "langs = ['Year 2014', 'Year 2015', 'Year 2016', 'Year 2017', 'Year 2018', 'Year 2019', 'Year 2020']\n",
    "counts = [fires_in_a_year(year2014), fires_in_a_year(year2015), fires_in_a_year(year2016), fires_in_a_year(year2017), fires_in_a_year(year2018), fires_in_a_year(year2019), fires_in_a_year(year2020)] \n",
    "ax.bar(langs,counts, color='#0203aa')\n",
    "ax.set_title('Building fires in a year')\n",
    "plt.show()"
   ]
  },
  {
   "cell_type": "code",
   "execution_count": 186,
   "metadata": {},
   "outputs": [
    {
     "data": {
      "text/html": [
       "<div>\n",
       "<style scoped>\n",
       "    .dataframe tbody tr th:only-of-type {\n",
       "        vertical-align: middle;\n",
       "    }\n",
       "\n",
       "    .dataframe tbody tr th {\n",
       "        vertical-align: top;\n",
       "    }\n",
       "\n",
       "    .dataframe thead th {\n",
       "        text-align: right;\n",
       "    }\n",
       "</style>\n",
       "<table border=\"1\" class=\"dataframe\">\n",
       "  <thead>\n",
       "    <tr style=\"text-align: right;\">\n",
       "      <th></th>\n",
       "      <th>0</th>\n",
       "      <th>1</th>\n",
       "    </tr>\n",
       "  </thead>\n",
       "  <tbody>\n",
       "    <tr>\n",
       "      <th>0</th>\n",
       "      <td>Harju maakond</td>\n",
       "      <td>381</td>\n",
       "    </tr>\n",
       "    <tr>\n",
       "      <th>1</th>\n",
       "      <td>Ida-Viru maakond</td>\n",
       "      <td>200</td>\n",
       "    </tr>\n",
       "    <tr>\n",
       "      <th>2</th>\n",
       "      <td>Tartu maakond</td>\n",
       "      <td>104</td>\n",
       "    </tr>\n",
       "    <tr>\n",
       "      <th>3</th>\n",
       "      <td>Lääne-Viru maakond</td>\n",
       "      <td>79</td>\n",
       "    </tr>\n",
       "    <tr>\n",
       "      <th>4</th>\n",
       "      <td>Pärnu maakond</td>\n",
       "      <td>60</td>\n",
       "    </tr>\n",
       "    <tr>\n",
       "      <th>5</th>\n",
       "      <td>Viljandi maakond</td>\n",
       "      <td>41</td>\n",
       "    </tr>\n",
       "    <tr>\n",
       "      <th>6</th>\n",
       "      <td>Võru maakond</td>\n",
       "      <td>36</td>\n",
       "    </tr>\n",
       "    <tr>\n",
       "      <th>7</th>\n",
       "      <td>Valga maakond</td>\n",
       "      <td>34</td>\n",
       "    </tr>\n",
       "    <tr>\n",
       "      <th>8</th>\n",
       "      <td>Jõgeva maakond</td>\n",
       "      <td>31</td>\n",
       "    </tr>\n",
       "    <tr>\n",
       "      <th>9</th>\n",
       "      <td>Järva maakond</td>\n",
       "      <td>28</td>\n",
       "    </tr>\n",
       "    <tr>\n",
       "      <th>10</th>\n",
       "      <td>Rapla maakond</td>\n",
       "      <td>27</td>\n",
       "    </tr>\n",
       "    <tr>\n",
       "      <th>11</th>\n",
       "      <td>Põlva maakond</td>\n",
       "      <td>22</td>\n",
       "    </tr>\n",
       "    <tr>\n",
       "      <th>12</th>\n",
       "      <td>Saare maakond</td>\n",
       "      <td>18</td>\n",
       "    </tr>\n",
       "    <tr>\n",
       "      <th>13</th>\n",
       "      <td>Lääne maakond</td>\n",
       "      <td>18</td>\n",
       "    </tr>\n",
       "    <tr>\n",
       "      <th>14</th>\n",
       "      <td>Hiiu maakond</td>\n",
       "      <td>9</td>\n",
       "    </tr>\n",
       "    <tr>\n",
       "      <th>15</th>\n",
       "      <td>!Sisestamata!</td>\n",
       "      <td>4</td>\n",
       "    </tr>\n",
       "  </tbody>\n",
       "</table>\n",
       "</div>"
      ],
      "text/plain": [
       "                     0    1\n",
       "0        Harju maakond  381\n",
       "1     Ida-Viru maakond  200\n",
       "2        Tartu maakond  104\n",
       "3   Lääne-Viru maakond   79\n",
       "4        Pärnu maakond   60\n",
       "5     Viljandi maakond   41\n",
       "6         Võru maakond   36\n",
       "7        Valga maakond   34\n",
       "8       Jõgeva maakond   31\n",
       "9        Järva maakond   28\n",
       "10       Rapla maakond   27\n",
       "11       Põlva maakond   22\n",
       "12       Saare maakond   18\n",
       "13       Lääne maakond   18\n",
       "14        Hiiu maakond    9\n",
       "15       !Sisestamata!    4"
      ]
     },
     "execution_count": 186,
     "metadata": {},
     "output_type": "execute_result"
    }
   ],
   "source": [
    "#Maakonnad ja arvud 2019 aastal\n",
    "year = y2019.value_counts().index.tolist()\n",
    "count = []\n",
    "for i in year:\n",
    "    count.append([i, y2019.value_counts().loc[i]])\n",
    "county_counter = pd.DataFrame(count)\n",
    "county_counter"
   ]
  },
  {
   "cell_type": "code",
   "execution_count": 8,
   "metadata": {},
   "outputs": [
    {
     "data": {
      "image/png": "[encoded data removed]",
      "text/plain": [
       "<Figure size 432x288 with 1 Axes>"
      ]
     },
     "metadata": {
      "needs_background": "light"
     },
     "output_type": "display_data"
    }
   ],
   "source": [
    "#Clustering fires by month\n",
    "k = data_df.loc[data_df['Aasta'] == 2014]\n",
    "plt.scatter(k['Hoonetulekahjud'], k['Kuu'])\n",
    "plt.xlabel('Building fires')\n",
    "plt.ylabel('Month')\n",
    "plt.show()"
   ]
  },
  {
   "cell_type": "code",
   "execution_count": 131,
   "metadata": {
    "scrolled": true
   },
   "outputs": [],
   "source": [
    "import sklearn\n",
    "from sklearn.model_selection import train_test_split\n",
    "data_single = []\n",
    "data_copy = data.copy()\n",
    "for i in data_copy:\n",
    "    for j in range(i[5]):\n",
    "        i[5] = 1\n",
    "        data_single.append(i)\n",
    "single = pd.DataFrame(data=data_df, columns=['Maakond', 'Aasta', 'Hoone liik', 'Tekkepõhjus',\n",
    "                                             'Kuu', 'Hoonetulekahjud'])"
   ]
  },
  {
   "cell_type": "code",
   "execution_count": 138,
   "metadata": {},
   "outputs": [],
   "source": [
    "data_dum = pd.get_dummies(data_df, columns=['Maakond', 'Hoone liik', \n",
    "                                                                  'Tekkepõhjus'])\n",
    "test, train = sklearn.model_selection.train_test_split(data_dum, train_size=0.7)\n",
    "X_train = train.drop(columns=['Hoonetulekahjud'])\n",
    "y_train = train['Hoonetulekahjud']\n",
    "X_test = test.drop(columns=['Hoonetulekahjud'])\n",
    "y_test = test['Hoonetulekahjud']\n"
   ]
  },
  {
   "cell_type": "code",
   "execution_count": 139,
   "metadata": {},
   "outputs": [
    {
     "data": {
      "text/plain": [
       "RandomForestRegressor(max_depth=6, n_estimators=200)"
      ]
     },
     "execution_count": 139,
     "metadata": {},
     "output_type": "execute_result"
    }
   ],
   "source": [
    "from sklearn.ensemble import RandomForestClassifier\n",
    "from sklearn.ensemble import RandomForestRegressor\n",
    "from sklearn.metrics import confusion_matrix\n",
    "train_X, test_X,train_y, test_y = train_test_split(X_train, y_train,random_state=100, \n",
    "                                                   test_size = 0.2)\n",
    "# TODO\n",
    "rf = RandomForestRegressor(criterion='mse',max_depth=6,n_estimators=200)\n",
    "rf.fit(X_train,y_train)"
   ]
  },
  {
   "cell_type": "code",
   "execution_count": 140,
   "metadata": {},
   "outputs": [],
   "source": [
    "from sklearn.metrics import make_scorer, mean_squared_error\n",
    "def RMSE(true_y, preds):\n",
    "    return np.sqrt(mean_squared_error(true_y, preds))\n",
    "rmse_scorer = make_scorer(RMSE, greater_is_better=False) #make own scorer"
   ]
  },
  {
   "cell_type": "code",
   "execution_count": 141,
   "metadata": {},
   "outputs": [
    {
     "data": {
      "text/plain": [
       "0.8018420461153695"
      ]
     },
     "execution_count": 141,
     "metadata": {},
     "output_type": "execute_result"
    }
   ],
   "source": [
    "RMSE(rf.predict(X_train),y_train)"
   ]
  },
  {
   "cell_type": "code",
   "execution_count": 142,
   "metadata": {},
   "outputs": [
    {
     "data": {
      "text/plain": [
       "1.192152009747647"
      ]
     },
     "execution_count": 142,
     "metadata": {},
     "output_type": "execute_result"
    }
   ],
   "source": [
    "RMSE(rf.predict(X_test),y_test)"
   ]
  },
  {
   "cell_type": "code",
   "execution_count": 143,
   "metadata": {},
   "outputs": [
    {
     "data": {
      "text/html": [
       "<div>\n",
       "<style scoped>\n",
       "    .dataframe tbody tr th:only-of-type {\n",
       "        vertical-align: middle;\n",
       "    }\n",
       "\n",
       "    .dataframe tbody tr th {\n",
       "        vertical-align: top;\n",
       "    }\n",
       "\n",
       "    .dataframe thead th {\n",
       "        text-align: right;\n",
       "    }\n",
       "</style>\n",
       "<table border=\"1\" class=\"dataframe\">\n",
       "  <thead>\n",
       "    <tr style=\"text-align: right;\">\n",
       "      <th></th>\n",
       "      <th>model</th>\n",
       "      <th>accuracy</th>\n",
       "    </tr>\n",
       "  </thead>\n",
       "  <tbody>\n",
       "    <tr>\n",
       "      <th>0</th>\n",
       "      <td>1-NN</td>\n",
       "      <td>0.586129</td>\n",
       "    </tr>\n",
       "  </tbody>\n",
       "</table>\n",
       "</div>"
      ],
      "text/plain": [
       "  model  accuracy\n",
       "0  1-NN  0.586129"
      ]
     },
     "execution_count": 143,
     "metadata": {},
     "output_type": "execute_result"
    }
   ],
   "source": [
    "from sklearn.neighbors import KNeighborsClassifier\n",
    "from sklearn.metrics import accuracy_score\n",
    "results_df = pd.DataFrame(columns=['model', 'accuracy'])\n",
    "\n",
    "# TODO: uncomment and fill in\n",
    "\n",
    "model = KNeighborsClassifier(n_neighbors = 1)\n",
    "model.fit(X_train, y_train)\n",
    "acc = accuracy_score(y_test, model.predict(X_test))\n",
    "results_df = results_df.append({'model': '1-NN', 'accuracy': acc }, ignore_index=True)\n",
    "results_df\n",
    "#print out the dataframe"
   ]
  },
  {
   "cell_type": "code",
   "execution_count": 144,
   "metadata": {},
   "outputs": [
    {
     "data": {
      "text/html": [
       "<div>\n",
       "<style scoped>\n",
       "    .dataframe tbody tr th:only-of-type {\n",
       "        vertical-align: middle;\n",
       "    }\n",
       "\n",
       "    .dataframe tbody tr th {\n",
       "        vertical-align: top;\n",
       "    }\n",
       "\n",
       "    .dataframe thead th {\n",
       "        text-align: right;\n",
       "    }\n",
       "</style>\n",
       "<table border=\"1\" class=\"dataframe\">\n",
       "  <thead>\n",
       "    <tr style=\"text-align: right;\">\n",
       "      <th></th>\n",
       "      <th>model</th>\n",
       "      <th>accuracy</th>\n",
       "    </tr>\n",
       "  </thead>\n",
       "  <tbody>\n",
       "    <tr>\n",
       "      <th>0</th>\n",
       "      <td>1-NN</td>\n",
       "      <td>0.586129</td>\n",
       "    </tr>\n",
       "    <tr>\n",
       "      <th>1</th>\n",
       "      <td>3-NN</td>\n",
       "      <td>0.688525</td>\n",
       "    </tr>\n",
       "    <tr>\n",
       "      <th>2</th>\n",
       "      <td>7-NN</td>\n",
       "      <td>0.720303</td>\n",
       "    </tr>\n",
       "    <tr>\n",
       "      <th>3</th>\n",
       "      <td>11-NN</td>\n",
       "      <td>0.725347</td>\n",
       "    </tr>\n",
       "  </tbody>\n",
       "</table>\n",
       "</div>"
      ],
      "text/plain": [
       "   model  accuracy\n",
       "0   1-NN  0.586129\n",
       "1   3-NN  0.688525\n",
       "2   7-NN  0.720303\n",
       "3  11-NN  0.725347"
      ]
     },
     "execution_count": 144,
     "metadata": {},
     "output_type": "execute_result"
    }
   ],
   "source": [
    "for i in range(3, 13, 4):\n",
    "    model = KNeighborsClassifier(n_neighbors = i)\n",
    "    model.fit(X_train, y_train)\n",
    "    acc = accuracy_score(y_test, model.predict(X_test))\n",
    "    results_df = results_df.append({'model': str(i)+'-NN', 'accuracy': acc }, ignore_index=True)\n",
    "results_df"
   ]
  },
  {
   "cell_type": "code",
   "execution_count": 145,
   "metadata": {},
   "outputs": [
    {
     "data": {
      "text/html": [
       "<div>\n",
       "<style scoped>\n",
       "    .dataframe tbody tr th:only-of-type {\n",
       "        vertical-align: middle;\n",
       "    }\n",
       "\n",
       "    .dataframe tbody tr th {\n",
       "        vertical-align: top;\n",
       "    }\n",
       "\n",
       "    .dataframe thead th {\n",
       "        text-align: right;\n",
       "    }\n",
       "</style>\n",
       "<table border=\"1\" class=\"dataframe\">\n",
       "  <thead>\n",
       "    <tr style=\"text-align: right;\">\n",
       "      <th></th>\n",
       "      <th>model</th>\n",
       "      <th>accuracy</th>\n",
       "    </tr>\n",
       "  </thead>\n",
       "  <tbody>\n",
       "    <tr>\n",
       "      <th>0</th>\n",
       "      <td>1-NN</td>\n",
       "      <td>0.586129</td>\n",
       "    </tr>\n",
       "    <tr>\n",
       "      <th>1</th>\n",
       "      <td>3-NN</td>\n",
       "      <td>0.688525</td>\n",
       "    </tr>\n",
       "    <tr>\n",
       "      <th>2</th>\n",
       "      <td>7-NN</td>\n",
       "      <td>0.720303</td>\n",
       "    </tr>\n",
       "    <tr>\n",
       "      <th>3</th>\n",
       "      <td>11-NN</td>\n",
       "      <td>0.725347</td>\n",
       "    </tr>\n",
       "    <tr>\n",
       "      <th>4</th>\n",
       "      <td>1-NN, metric=manhattan</td>\n",
       "      <td>0.585624</td>\n",
       "    </tr>\n",
       "    <tr>\n",
       "      <th>5</th>\n",
       "      <td>3-NN, metric=manhattan</td>\n",
       "      <td>0.688272</td>\n",
       "    </tr>\n",
       "    <tr>\n",
       "      <th>6</th>\n",
       "      <td>7-NN, metric=manhattan</td>\n",
       "      <td>0.717276</td>\n",
       "    </tr>\n",
       "    <tr>\n",
       "      <th>7</th>\n",
       "      <td>11-NN, metric=manhattan</td>\n",
       "      <td>0.723581</td>\n",
       "    </tr>\n",
       "  </tbody>\n",
       "</table>\n",
       "</div>"
      ],
      "text/plain": [
       "                     model  accuracy\n",
       "0                     1-NN  0.586129\n",
       "1                     3-NN  0.688525\n",
       "2                     7-NN  0.720303\n",
       "3                    11-NN  0.725347\n",
       "4   1-NN, metric=manhattan  0.585624\n",
       "5   3-NN, metric=manhattan  0.688272\n",
       "6   7-NN, metric=manhattan  0.717276\n",
       "7  11-NN, metric=manhattan  0.723581"
      ]
     },
     "execution_count": 145,
     "metadata": {},
     "output_type": "execute_result"
    }
   ],
   "source": [
    "model = KNeighborsClassifier(n_neighbors = 1, metric='manhattan')\n",
    "model.fit(X_train, y_train)\n",
    "acc = accuracy_score(y_test, model.predict(X_test))\n",
    "results_df = results_df.append({'model': '1-NN, metric=manhattan', 'accuracy': acc }, ignore_index=True)\n",
    "for i in range(3, 13, 4):\n",
    "    model = KNeighborsClassifier(n_neighbors = i, metric='manhattan')\n",
    "    model.fit(X_train, y_train)\n",
    "    acc = accuracy_score(y_test, model.predict(X_test))\n",
    "    results_df = results_df.append({'model': str(i)+'-NN, metric=manhattan', 'accuracy': acc }, ignore_index=True)\n",
    "results_df"
   ]
  },
  {
   "cell_type": "code",
   "execution_count": 146,
   "metadata": {},
   "outputs": [
    {
     "data": {
      "text/html": [
       "<div>\n",
       "<style scoped>\n",
       "    .dataframe tbody tr th:only-of-type {\n",
       "        vertical-align: middle;\n",
       "    }\n",
       "\n",
       "    .dataframe tbody tr th {\n",
       "        vertical-align: top;\n",
       "    }\n",
       "\n",
       "    .dataframe thead th {\n",
       "        text-align: right;\n",
       "    }\n",
       "</style>\n",
       "<table border=\"1\" class=\"dataframe\">\n",
       "  <thead>\n",
       "    <tr style=\"text-align: right;\">\n",
       "      <th></th>\n",
       "      <th>model</th>\n",
       "      <th>accuracy</th>\n",
       "    </tr>\n",
       "  </thead>\n",
       "  <tbody>\n",
       "    <tr>\n",
       "      <th>3</th>\n",
       "      <td>11-NN</td>\n",
       "      <td>0.725347</td>\n",
       "    </tr>\n",
       "    <tr>\n",
       "      <th>7</th>\n",
       "      <td>11-NN, metric=manhattan</td>\n",
       "      <td>0.723581</td>\n",
       "    </tr>\n",
       "    <tr>\n",
       "      <th>2</th>\n",
       "      <td>7-NN</td>\n",
       "      <td>0.720303</td>\n",
       "    </tr>\n",
       "    <tr>\n",
       "      <th>6</th>\n",
       "      <td>7-NN, metric=manhattan</td>\n",
       "      <td>0.717276</td>\n",
       "    </tr>\n",
       "    <tr>\n",
       "      <th>1</th>\n",
       "      <td>3-NN</td>\n",
       "      <td>0.688525</td>\n",
       "    </tr>\n",
       "    <tr>\n",
       "      <th>5</th>\n",
       "      <td>3-NN, metric=manhattan</td>\n",
       "      <td>0.688272</td>\n",
       "    </tr>\n",
       "    <tr>\n",
       "      <th>0</th>\n",
       "      <td>1-NN</td>\n",
       "      <td>0.586129</td>\n",
       "    </tr>\n",
       "    <tr>\n",
       "      <th>4</th>\n",
       "      <td>1-NN, metric=manhattan</td>\n",
       "      <td>0.585624</td>\n",
       "    </tr>\n",
       "  </tbody>\n",
       "</table>\n",
       "</div>"
      ],
      "text/plain": [
       "                     model  accuracy\n",
       "3                    11-NN  0.725347\n",
       "7  11-NN, metric=manhattan  0.723581\n",
       "2                     7-NN  0.720303\n",
       "6   7-NN, metric=manhattan  0.717276\n",
       "1                     3-NN  0.688525\n",
       "5   3-NN, metric=manhattan  0.688272\n",
       "0                     1-NN  0.586129\n",
       "4   1-NN, metric=manhattan  0.585624"
      ]
     },
     "execution_count": 146,
     "metadata": {},
     "output_type": "execute_result"
    }
   ],
   "source": [
    "results_df.sort_values(['accuracy'], ascending=False) "
   ]
  },
  {
   "cell_type": "code",
   "execution_count": 147,
   "metadata": {},
   "outputs": [
    {
     "data": {
      "text/html": [
       "<div>\n",
       "<style scoped>\n",
       "    .dataframe tbody tr th:only-of-type {\n",
       "        vertical-align: middle;\n",
       "    }\n",
       "\n",
       "    .dataframe tbody tr th {\n",
       "        vertical-align: top;\n",
       "    }\n",
       "\n",
       "    .dataframe thead th {\n",
       "        text-align: right;\n",
       "    }\n",
       "</style>\n",
       "<table border=\"1\" class=\"dataframe\">\n",
       "  <thead>\n",
       "    <tr style=\"text-align: right;\">\n",
       "      <th></th>\n",
       "      <th>model</th>\n",
       "      <th>accuracy</th>\n",
       "    </tr>\n",
       "  </thead>\n",
       "  <tbody>\n",
       "    <tr>\n",
       "      <th>0</th>\n",
       "      <td>1-NN</td>\n",
       "      <td>0.586129</td>\n",
       "    </tr>\n",
       "    <tr>\n",
       "      <th>1</th>\n",
       "      <td>3-NN</td>\n",
       "      <td>0.688525</td>\n",
       "    </tr>\n",
       "    <tr>\n",
       "      <th>2</th>\n",
       "      <td>7-NN</td>\n",
       "      <td>0.720303</td>\n",
       "    </tr>\n",
       "    <tr>\n",
       "      <th>3</th>\n",
       "      <td>11-NN</td>\n",
       "      <td>0.725347</td>\n",
       "    </tr>\n",
       "    <tr>\n",
       "      <th>4</th>\n",
       "      <td>1-NN, metric=manhattan</td>\n",
       "      <td>0.585624</td>\n",
       "    </tr>\n",
       "    <tr>\n",
       "      <th>5</th>\n",
       "      <td>3-NN, metric=manhattan</td>\n",
       "      <td>0.688272</td>\n",
       "    </tr>\n",
       "    <tr>\n",
       "      <th>6</th>\n",
       "      <td>7-NN, metric=manhattan</td>\n",
       "      <td>0.717276</td>\n",
       "    </tr>\n",
       "    <tr>\n",
       "      <th>7</th>\n",
       "      <td>11-NN, metric=manhattan</td>\n",
       "      <td>0.723581</td>\n",
       "    </tr>\n",
       "    <tr>\n",
       "      <th>8</th>\n",
       "      <td>Model 3a</td>\n",
       "      <td>0.638335</td>\n",
       "    </tr>\n",
       "  </tbody>\n",
       "</table>\n",
       "</div>"
      ],
      "text/plain": [
       "                     model  accuracy\n",
       "0                     1-NN  0.586129\n",
       "1                     3-NN  0.688525\n",
       "2                     7-NN  0.720303\n",
       "3                    11-NN  0.725347\n",
       "4   1-NN, metric=manhattan  0.585624\n",
       "5   3-NN, metric=manhattan  0.688272\n",
       "6   7-NN, metric=manhattan  0.717276\n",
       "7  11-NN, metric=manhattan  0.723581\n",
       "8                 Model 3a  0.638335"
      ]
     },
     "execution_count": 147,
     "metadata": {},
     "output_type": "execute_result"
    }
   ],
   "source": [
    "from sklearn import tree\n",
    "model = tree.DecisionTreeClassifier(random_state = 0)\n",
    "model.fit(X_train, y_train)\n",
    "acc = accuracy_score(y_test, model.predict(X_test))\n",
    "results_df = results_df.append({'model': 'Model 3a' , 'accuracy': acc }, ignore_index=True)\n",
    "results_df\n",
    "# TODO"
   ]
  },
  {
   "cell_type": "code",
   "execution_count": 148,
   "metadata": {},
   "outputs": [
    {
     "data": {
      "text/html": [
       "<div>\n",
       "<style scoped>\n",
       "    .dataframe tbody tr th:only-of-type {\n",
       "        vertical-align: middle;\n",
       "    }\n",
       "\n",
       "    .dataframe tbody tr th {\n",
       "        vertical-align: top;\n",
       "    }\n",
       "\n",
       "    .dataframe thead th {\n",
       "        text-align: right;\n",
       "    }\n",
       "</style>\n",
       "<table border=\"1\" class=\"dataframe\">\n",
       "  <thead>\n",
       "    <tr style=\"text-align: right;\">\n",
       "      <th></th>\n",
       "      <th>model</th>\n",
       "      <th>accuracy</th>\n",
       "    </tr>\n",
       "  </thead>\n",
       "  <tbody>\n",
       "    <tr>\n",
       "      <th>0</th>\n",
       "      <td>1-NN</td>\n",
       "      <td>0.586129</td>\n",
       "    </tr>\n",
       "    <tr>\n",
       "      <th>1</th>\n",
       "      <td>3-NN</td>\n",
       "      <td>0.688525</td>\n",
       "    </tr>\n",
       "    <tr>\n",
       "      <th>2</th>\n",
       "      <td>7-NN</td>\n",
       "      <td>0.720303</td>\n",
       "    </tr>\n",
       "    <tr>\n",
       "      <th>3</th>\n",
       "      <td>11-NN</td>\n",
       "      <td>0.725347</td>\n",
       "    </tr>\n",
       "    <tr>\n",
       "      <th>4</th>\n",
       "      <td>1-NN, metric=manhattan</td>\n",
       "      <td>0.585624</td>\n",
       "    </tr>\n",
       "    <tr>\n",
       "      <th>5</th>\n",
       "      <td>3-NN, metric=manhattan</td>\n",
       "      <td>0.688272</td>\n",
       "    </tr>\n",
       "    <tr>\n",
       "      <th>6</th>\n",
       "      <td>7-NN, metric=manhattan</td>\n",
       "      <td>0.717276</td>\n",
       "    </tr>\n",
       "    <tr>\n",
       "      <th>7</th>\n",
       "      <td>11-NN, metric=manhattan</td>\n",
       "      <td>0.723581</td>\n",
       "    </tr>\n",
       "    <tr>\n",
       "      <th>8</th>\n",
       "      <td>Model 3a</td>\n",
       "      <td>0.638335</td>\n",
       "    </tr>\n",
       "    <tr>\n",
       "      <th>9</th>\n",
       "      <td>Model 3b</td>\n",
       "      <td>0.631778</td>\n",
       "    </tr>\n",
       "  </tbody>\n",
       "</table>\n",
       "</div>"
      ],
      "text/plain": [
       "                     model  accuracy\n",
       "0                     1-NN  0.586129\n",
       "1                     3-NN  0.688525\n",
       "2                     7-NN  0.720303\n",
       "3                    11-NN  0.725347\n",
       "4   1-NN, metric=manhattan  0.585624\n",
       "5   3-NN, metric=manhattan  0.688272\n",
       "6   7-NN, metric=manhattan  0.717276\n",
       "7  11-NN, metric=manhattan  0.723581\n",
       "8                 Model 3a  0.638335\n",
       "9                 Model 3b  0.631778"
      ]
     },
     "execution_count": 148,
     "metadata": {},
     "output_type": "execute_result"
    }
   ],
   "source": [
    "model = tree.DecisionTreeClassifier(random_state = 3)\n",
    "model.fit(X_train, y_train)\n",
    "acc = accuracy_score(y_test, model.predict(X_test))\n",
    "results_df = results_df.append({'model': 'Model 3b' , 'accuracy': acc }, ignore_index=True)\n",
    "results_df"
   ]
  },
  {
   "cell_type": "code",
   "execution_count": 149,
   "metadata": {},
   "outputs": [
    {
     "data": {
      "text/html": [
       "<div>\n",
       "<style scoped>\n",
       "    .dataframe tbody tr th:only-of-type {\n",
       "        vertical-align: middle;\n",
       "    }\n",
       "\n",
       "    .dataframe tbody tr th {\n",
       "        vertical-align: top;\n",
       "    }\n",
       "\n",
       "    .dataframe thead th {\n",
       "        text-align: right;\n",
       "    }\n",
       "</style>\n",
       "<table border=\"1\" class=\"dataframe\">\n",
       "  <thead>\n",
       "    <tr style=\"text-align: right;\">\n",
       "      <th></th>\n",
       "      <th>model</th>\n",
       "      <th>accuracy</th>\n",
       "    </tr>\n",
       "  </thead>\n",
       "  <tbody>\n",
       "    <tr>\n",
       "      <th>0</th>\n",
       "      <td>1-NN</td>\n",
       "      <td>0.586129</td>\n",
       "    </tr>\n",
       "    <tr>\n",
       "      <th>1</th>\n",
       "      <td>3-NN</td>\n",
       "      <td>0.688525</td>\n",
       "    </tr>\n",
       "    <tr>\n",
       "      <th>2</th>\n",
       "      <td>7-NN</td>\n",
       "      <td>0.720303</td>\n",
       "    </tr>\n",
       "    <tr>\n",
       "      <th>3</th>\n",
       "      <td>11-NN</td>\n",
       "      <td>0.725347</td>\n",
       "    </tr>\n",
       "    <tr>\n",
       "      <th>4</th>\n",
       "      <td>1-NN, metric=manhattan</td>\n",
       "      <td>0.585624</td>\n",
       "    </tr>\n",
       "    <tr>\n",
       "      <th>5</th>\n",
       "      <td>3-NN, metric=manhattan</td>\n",
       "      <td>0.688272</td>\n",
       "    </tr>\n",
       "    <tr>\n",
       "      <th>6</th>\n",
       "      <td>7-NN, metric=manhattan</td>\n",
       "      <td>0.717276</td>\n",
       "    </tr>\n",
       "    <tr>\n",
       "      <th>7</th>\n",
       "      <td>11-NN, metric=manhattan</td>\n",
       "      <td>0.723581</td>\n",
       "    </tr>\n",
       "    <tr>\n",
       "      <th>8</th>\n",
       "      <td>Model 3a</td>\n",
       "      <td>0.638335</td>\n",
       "    </tr>\n",
       "    <tr>\n",
       "      <th>9</th>\n",
       "      <td>Model 3b</td>\n",
       "      <td>0.631778</td>\n",
       "    </tr>\n",
       "    <tr>\n",
       "      <th>10</th>\n",
       "      <td>Model 3d</td>\n",
       "      <td>0.641110</td>\n",
       "    </tr>\n",
       "  </tbody>\n",
       "</table>\n",
       "</div>"
      ],
      "text/plain": [
       "                      model  accuracy\n",
       "0                      1-NN  0.586129\n",
       "1                      3-NN  0.688525\n",
       "2                      7-NN  0.720303\n",
       "3                     11-NN  0.725347\n",
       "4    1-NN, metric=manhattan  0.585624\n",
       "5    3-NN, metric=manhattan  0.688272\n",
       "6    7-NN, metric=manhattan  0.717276\n",
       "7   11-NN, metric=manhattan  0.723581\n",
       "8                  Model 3a  0.638335\n",
       "9                  Model 3b  0.631778\n",
       "10                 Model 3d  0.641110"
      ]
     },
     "execution_count": 149,
     "metadata": {},
     "output_type": "execute_result"
    }
   ],
   "source": [
    "model = tree.DecisionTreeClassifier(random_state = 0, criterion='entropy')\n",
    "model.fit(X_train, y_train)\n",
    "acc = accuracy_score(y_test, model.predict(X_test))\n",
    "results_df = results_df.append({'model': 'Model 3d' , 'accuracy': acc }, ignore_index=True)\n",
    "results_df"
   ]
  },
  {
   "cell_type": "code",
   "execution_count": 150,
   "metadata": {},
   "outputs": [
    {
     "data": {
      "text/html": [
       "<div>\n",
       "<style scoped>\n",
       "    .dataframe tbody tr th:only-of-type {\n",
       "        vertical-align: middle;\n",
       "    }\n",
       "\n",
       "    .dataframe tbody tr th {\n",
       "        vertical-align: top;\n",
       "    }\n",
       "\n",
       "    .dataframe thead th {\n",
       "        text-align: right;\n",
       "    }\n",
       "</style>\n",
       "<table border=\"1\" class=\"dataframe\">\n",
       "  <thead>\n",
       "    <tr style=\"text-align: right;\">\n",
       "      <th></th>\n",
       "      <th>model</th>\n",
       "      <th>accuracy</th>\n",
       "    </tr>\n",
       "  </thead>\n",
       "  <tbody>\n",
       "    <tr>\n",
       "      <th>0</th>\n",
       "      <td>1-NN</td>\n",
       "      <td>0.586129</td>\n",
       "    </tr>\n",
       "    <tr>\n",
       "      <th>1</th>\n",
       "      <td>3-NN</td>\n",
       "      <td>0.688525</td>\n",
       "    </tr>\n",
       "    <tr>\n",
       "      <th>2</th>\n",
       "      <td>7-NN</td>\n",
       "      <td>0.720303</td>\n",
       "    </tr>\n",
       "    <tr>\n",
       "      <th>3</th>\n",
       "      <td>11-NN</td>\n",
       "      <td>0.725347</td>\n",
       "    </tr>\n",
       "    <tr>\n",
       "      <th>4</th>\n",
       "      <td>1-NN, metric=manhattan</td>\n",
       "      <td>0.585624</td>\n",
       "    </tr>\n",
       "    <tr>\n",
       "      <th>5</th>\n",
       "      <td>3-NN, metric=manhattan</td>\n",
       "      <td>0.688272</td>\n",
       "    </tr>\n",
       "    <tr>\n",
       "      <th>6</th>\n",
       "      <td>7-NN, metric=manhattan</td>\n",
       "      <td>0.717276</td>\n",
       "    </tr>\n",
       "    <tr>\n",
       "      <th>7</th>\n",
       "      <td>11-NN, metric=manhattan</td>\n",
       "      <td>0.723581</td>\n",
       "    </tr>\n",
       "    <tr>\n",
       "      <th>8</th>\n",
       "      <td>Model 3a</td>\n",
       "      <td>0.638335</td>\n",
       "    </tr>\n",
       "    <tr>\n",
       "      <th>9</th>\n",
       "      <td>Model 3b</td>\n",
       "      <td>0.631778</td>\n",
       "    </tr>\n",
       "    <tr>\n",
       "      <th>10</th>\n",
       "      <td>Model 3d</td>\n",
       "      <td>0.641110</td>\n",
       "    </tr>\n",
       "    <tr>\n",
       "      <th>11</th>\n",
       "      <td>Model 3e</td>\n",
       "      <td>0.731400</td>\n",
       "    </tr>\n",
       "  </tbody>\n",
       "</table>\n",
       "</div>"
      ],
      "text/plain": [
       "                      model  accuracy\n",
       "0                      1-NN  0.586129\n",
       "1                      3-NN  0.688525\n",
       "2                      7-NN  0.720303\n",
       "3                     11-NN  0.725347\n",
       "4    1-NN, metric=manhattan  0.585624\n",
       "5    3-NN, metric=manhattan  0.688272\n",
       "6    7-NN, metric=manhattan  0.717276\n",
       "7   11-NN, metric=manhattan  0.723581\n",
       "8                  Model 3a  0.638335\n",
       "9                  Model 3b  0.631778\n",
       "10                 Model 3d  0.641110\n",
       "11                 Model 3e  0.731400"
      ]
     },
     "execution_count": 150,
     "metadata": {},
     "output_type": "execute_result"
    }
   ],
   "source": [
    "model = tree.DecisionTreeClassifier(random_state = 0, criterion='entropy', min_samples_leaf = 10)\n",
    "model.fit(X_train, y_train)\n",
    "acc = accuracy_score(y_test, model.predict(X_test))\n",
    "results_df = results_df.append({'model': 'Model 3e' , 'accuracy': acc }, ignore_index=True)\n",
    "results_df"
   ]
  },
  {
   "cell_type": "code",
   "execution_count": 151,
   "metadata": {},
   "outputs": [
    {
     "data": {
      "image/png": "[encoded data removed]",
      "text/plain": [
       "<Figure size 432x288 with 1 Axes>"
      ]
     },
     "metadata": {
      "needs_background": "light"
     },
     "output_type": "display_data"
    }
   ],
   "source": [
    " results_df.sort_values(['accuracy'], ascending=False).plot(kind='bar', x='model', y='accuracy')\n",
    "plt.show()"
   ]
  },
  {
   "cell_type": "code",
   "execution_count": 152,
   "metadata": {},
   "outputs": [
    {
     "data": {
      "text/html": [
       "<div>\n",
       "<style scoped>\n",
       "    .dataframe tbody tr th:only-of-type {\n",
       "        vertical-align: middle;\n",
       "    }\n",
       "\n",
       "    .dataframe tbody tr th {\n",
       "        vertical-align: top;\n",
       "    }\n",
       "\n",
       "    .dataframe thead th {\n",
       "        text-align: right;\n",
       "    }\n",
       "</style>\n",
       "<table border=\"1\" class=\"dataframe\">\n",
       "  <thead>\n",
       "    <tr style=\"text-align: right;\">\n",
       "      <th></th>\n",
       "      <th>model</th>\n",
       "      <th>accuracy</th>\n",
       "    </tr>\n",
       "  </thead>\n",
       "  <tbody>\n",
       "    <tr>\n",
       "      <th>11</th>\n",
       "      <td>Model 3e</td>\n",
       "      <td>0.7314</td>\n",
       "    </tr>\n",
       "  </tbody>\n",
       "</table>\n",
       "</div>"
      ],
      "text/plain": [
       "       model  accuracy\n",
       "11  Model 3e    0.7314"
      ]
     },
     "execution_count": 152,
     "metadata": {},
     "output_type": "execute_result"
    }
   ],
   "source": [
    "#Highest accuracy\n",
    "results_df.sort_values(['accuracy'], ascending=False).head(1)"
   ]
  },
  {
   "cell_type": "code",
   "execution_count": null,
   "metadata": {},
   "outputs": [],
   "source": []
  }
 ],
 "metadata": {
  "kernelspec": {
   "display_name": "Python 3",
   "language": "python",
   "name": "python3"
  },
  "language_info": {
   "codemirror_mode": {
    "name": "ipython",
    "version": 3
   },
   "file_extension": ".py",
   "mimetype": "text/x-python",
   "name": "python",
   "nbconvert_exporter": "python",
   "pygments_lexer": "ipython3",
   "version": "3.8.3"
  }
 },
 "nbformat": 4,
 "nbformat_minor": 4
}
