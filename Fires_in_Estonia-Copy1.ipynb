{
 "cells": [
  {
   "cell_type": "markdown",
   "metadata": {},
   "source": [
    "# D8 - Building fires in Estonia\n",
    "## Karolin Kivilaan, Kati Ilus, Geitrud Pank"
   ]
  },
  {
   "cell_type": "code",
   "execution_count": 1,
   "metadata": {},
   "outputs": [
    {
     "data": {
      "text/html": [
       "<div>\n",
       "<style scoped>\n",
       "    .dataframe tbody tr th:only-of-type {\n",
       "        vertical-align: middle;\n",
       "    }\n",
       "\n",
       "    .dataframe tbody tr th {\n",
       "        vertical-align: top;\n",
       "    }\n",
       "\n",
       "    .dataframe thead th {\n",
       "        text-align: right;\n",
       "    }\n",
       "</style>\n",
       "<table border=\"1\" class=\"dataframe\">\n",
       "  <thead>\n",
       "    <tr style=\"text-align: right;\">\n",
       "      <th></th>\n",
       "      <th>Maakond</th>\n",
       "      <th>Aasta</th>\n",
       "      <th>Hoone liik</th>\n",
       "      <th>Tekkepõhjus</th>\n",
       "      <th>Kuu</th>\n",
       "      <th>Hoonetulekahjud</th>\n",
       "    </tr>\n",
       "  </thead>\n",
       "  <tbody>\n",
       "    <tr>\n",
       "      <th>0</th>\n",
       "      <td>Valga maakond</td>\n",
       "      <td>2014</td>\n",
       "      <td>Mitteeluhooned</td>\n",
       "      <td>!Sisestamata!</td>\n",
       "      <td>3</td>\n",
       "      <td>1</td>\n",
       "    </tr>\n",
       "    <tr>\n",
       "      <th>1</th>\n",
       "      <td>Tartu maakond</td>\n",
       "      <td>2014</td>\n",
       "      <td>Mitteeluhooned</td>\n",
       "      <td>!Sisestamata!</td>\n",
       "      <td>3</td>\n",
       "      <td>3</td>\n",
       "    </tr>\n",
       "    <tr>\n",
       "      <th>2</th>\n",
       "      <td>Rapla maakond</td>\n",
       "      <td>2014</td>\n",
       "      <td>Mitteeluhooned</td>\n",
       "      <td>!Sisestamata!</td>\n",
       "      <td>3</td>\n",
       "      <td>1</td>\n",
       "    </tr>\n",
       "    <tr>\n",
       "      <th>3</th>\n",
       "      <td>Lääne maakond</td>\n",
       "      <td>2014</td>\n",
       "      <td>Mitteeluhooned</td>\n",
       "      <td>!Sisestamata!</td>\n",
       "      <td>3</td>\n",
       "      <td>1</td>\n",
       "    </tr>\n",
       "    <tr>\n",
       "      <th>4</th>\n",
       "      <td>Harju maakond</td>\n",
       "      <td>2014</td>\n",
       "      <td>Mitteeluhooned</td>\n",
       "      <td>!Sisestamata!</td>\n",
       "      <td>3</td>\n",
       "      <td>2</td>\n",
       "    </tr>\n",
       "    <tr>\n",
       "      <th>...</th>\n",
       "      <td>...</td>\n",
       "      <td>...</td>\n",
       "      <td>...</td>\n",
       "      <td>...</td>\n",
       "      <td>...</td>\n",
       "      <td>...</td>\n",
       "    </tr>\n",
       "    <tr>\n",
       "      <th>5660</th>\n",
       "      <td>Ida-Viru maakond</td>\n",
       "      <td>2020</td>\n",
       "      <td>!Sisestamata!</td>\n",
       "      <td>!Sisestamata!</td>\n",
       "      <td>11</td>\n",
       "      <td>1</td>\n",
       "    </tr>\n",
       "    <tr>\n",
       "      <th>5661</th>\n",
       "      <td>Ida-Viru maakond</td>\n",
       "      <td>2020</td>\n",
       "      <td>Eluhooned</td>\n",
       "      <td>Lahtise tule kasutamisel</td>\n",
       "      <td>11</td>\n",
       "      <td>1</td>\n",
       "    </tr>\n",
       "    <tr>\n",
       "      <th>5662</th>\n",
       "      <td>Harju maakond</td>\n",
       "      <td>2020</td>\n",
       "      <td>!Sisestamata!</td>\n",
       "      <td>!Sisestamata!</td>\n",
       "      <td>11</td>\n",
       "      <td>1</td>\n",
       "    </tr>\n",
       "    <tr>\n",
       "      <th>5663</th>\n",
       "      <td>Harju maakond</td>\n",
       "      <td>2020</td>\n",
       "      <td>Eluhooned</td>\n",
       "      <td>!Sisestamata!</td>\n",
       "      <td>11</td>\n",
       "      <td>1</td>\n",
       "    </tr>\n",
       "    <tr>\n",
       "      <th>5664</th>\n",
       "      <td>Harju maakond</td>\n",
       "      <td>2020</td>\n",
       "      <td>Mitteeluhooned</td>\n",
       "      <td>!Sisestamata!</td>\n",
       "      <td>11</td>\n",
       "      <td>5</td>\n",
       "    </tr>\n",
       "  </tbody>\n",
       "</table>\n",
       "<p>5665 rows × 6 columns</p>\n",
       "</div>"
      ],
      "text/plain": [
       "               Maakond  Aasta      Hoone liik               Tekkepõhjus  Kuu  \\\n",
       "0        Valga maakond   2014  Mitteeluhooned             !Sisestamata!    3   \n",
       "1        Tartu maakond   2014  Mitteeluhooned             !Sisestamata!    3   \n",
       "2        Rapla maakond   2014  Mitteeluhooned             !Sisestamata!    3   \n",
       "3        Lääne maakond   2014  Mitteeluhooned             !Sisestamata!    3   \n",
       "4        Harju maakond   2014  Mitteeluhooned             !Sisestamata!    3   \n",
       "...                ...    ...             ...                       ...  ...   \n",
       "5660  Ida-Viru maakond   2020   !Sisestamata!             !Sisestamata!   11   \n",
       "5661  Ida-Viru maakond   2020       Eluhooned  Lahtise tule kasutamisel   11   \n",
       "5662     Harju maakond   2020   !Sisestamata!             !Sisestamata!   11   \n",
       "5663     Harju maakond   2020       Eluhooned             !Sisestamata!   11   \n",
       "5664     Harju maakond   2020  Mitteeluhooned             !Sisestamata!   11   \n",
       "\n",
       "      Hoonetulekahjud  \n",
       "0                   1  \n",
       "1                   3  \n",
       "2                   1  \n",
       "3                   1  \n",
       "4                   2  \n",
       "...               ...  \n",
       "5660                1  \n",
       "5661                1  \n",
       "5662                1  \n",
       "5663                1  \n",
       "5664                5  \n",
       "\n",
       "[5665 rows x 6 columns]"
      ]
     },
     "execution_count": 1,
     "metadata": {},
     "output_type": "execute_result"
    }
   ],
   "source": [
    "import numpy as np\n",
    "import pandas as pd\n",
    "import apyori\n",
    "import matplotlib.pyplot as plt\n",
    "from sklearn.cluster import KMeans\n",
    "import ipyleaflet\n",
    "from ipyleaflet import Map, Marker, Popup, MarkerCluster\n",
    "from ipywidgets import HTML\n",
    "import geocoder\n",
    "\n",
    "\n",
    "data_df = pd.read_csv(\"hoonetulekahjud.csv\")\n",
    "data = data_df.values\n",
    "data_with_months = []\n",
    "data_copy = data.copy()\n",
    "for i in data_copy:\n",
    "    if i[4] == 1:\n",
    "        i[4] = 'January'\n",
    "    elif i[4] == 2:\n",
    "        i[4] = 'February'\n",
    "    elif i[4] == 3:\n",
    "        i[4] = 'March'\n",
    "    elif i[4] == 4:\n",
    "        i[4] = 'April'\n",
    "    elif i[4] == 5:\n",
    "        i[4] = 'May'\n",
    "    elif i[4] == 6:\n",
    "        i[4] = 'June'\n",
    "    elif i[4] == 7:\n",
    "        i[4] = 'July'\n",
    "    elif i[4] == 8:\n",
    "        i[4] = 'August'\n",
    "    elif i[4] == 9:\n",
    "        i[4] = 'September'\n",
    "    elif i[4] == 10:\n",
    "        i[4] = 'October'\n",
    "    elif i[4] == 11:\n",
    "        i[4] = 'November'\n",
    "    elif i[4] == 12:\n",
    "        i[4] = 'December'\n",
    "    data_with_months.append(i)\n",
    "data_df"
   ]
  },
  {
   "cell_type": "code",
   "execution_count": 2,
   "metadata": {},
   "outputs": [
    {
     "data": {
      "application/vnd.jupyter.widget-view+json": {
       "model_id": "2d3599a721214bfba8be3b2a7d7dc17c",
       "version_major": 2,
       "version_minor": 0
      },
      "text/plain": [
       "Map(center=[58.7523778, 25.3319078], controls=(ZoomControl(options=['position', 'zoom_in_text', 'zoom_in_title…"
      ]
     },
     "metadata": {},
     "output_type": "display_data"
    }
   ],
   "source": [
    "estonia_coord = geocoder.osm('Estonia')\n",
    "coord = [estonia_coord.lat, estonia_coord.lng]\n",
    "est_map = Map(center=coord, zoom=6.7)\n",
    "est_map_2014 = Map(center=coord, zoom=6.7)\n",
    "est_map_2015 = Map(center=coord, zoom=6.7)\n",
    "est_map_2016 = Map(center=coord, zoom=6.7)\n",
    "est_map_2017 = Map(center=coord, zoom=6.7)\n",
    "est_map_2018 = Map(center=coord, zoom=6.7)\n",
    "est_map_2019 = Map(center=coord, zoom=6.7)\n",
    "est_map_2020 = Map(center=coord, zoom=6.7)\n",
    "\n",
    "est_map"
   ]
  },
  {
   "cell_type": "markdown",
   "metadata": {},
   "source": [
    "### Basic plotting"
   ]
  },
  {
   "cell_type": "code",
   "execution_count": 3,
   "metadata": {},
   "outputs": [],
   "source": [
    "year2014 = []\n",
    "year2015 = []\n",
    "year2016 = []\n",
    "year2017 = []\n",
    "year2018 = []\n",
    "year2019 = []\n",
    "year2020 = []\n",
    "year2014_month = []\n",
    "year2015_month = []\n",
    "year2016_month = []\n",
    "year2017_month = []\n",
    "year2018_month = []\n",
    "year2019_month = []\n",
    "year2020_month = []\n",
    "for i in range(len(data)):\n",
    "    if data[i][1] == 2014:\n",
    "        year2014.append(data[i])\n",
    "        year2014_month.append(data_with_months[i])\n",
    "    elif data[i][1] == 2015:\n",
    "        year2015.append(data[i])\n",
    "        year2015_month.append(data_with_months[i])\n",
    "    elif data[i][1] == 2016:\n",
    "        year2016.append(data[i])\n",
    "        year2016_month.append(data_with_months[i])\n",
    "    elif data[i][1] == 2017:\n",
    "        year2017.append(data[i])\n",
    "        year2017_month.append(data_with_months[i])\n",
    "    elif data[i][1] == 2018:\n",
    "        year2018.append(data[i])\n",
    "        year2018_month.append(data_with_months[i])\n",
    "    elif data[i][1] == 2019:\n",
    "        year2019.append(data[i])\n",
    "        year2019_month.append(data_with_months[i])\n",
    "    elif data[i][1] == 2020:\n",
    "        year2020.append(data[i])\n",
    "        year2020_month.append(data_with_months[i])\n",
    "#print(year2014)\n",
    "data_by_years = [year2014, year2015, year2016, year2017, year2018, year2019, year2020]"
   ]
  },
  {
   "cell_type": "code",
   "execution_count": 4,
   "metadata": {},
   "outputs": [
    {
     "name": "stdout",
     "output_type": "stream",
     "text": [
      "1401\n"
     ]
    }
   ],
   "source": [
    "def fires_in_a_year(year):\n",
    "    counter = 0\n",
    "    for i in year:\n",
    "        counter += int(i[5])\n",
    "    return counter\n",
    "print(fires_in_a_year(year2016))"
   ]
  },
  {
   "cell_type": "code",
   "execution_count": 5,
   "metadata": {},
   "outputs": [
    {
     "data": {
      "image/png": "[encoded data removed]",
      "text/plain": [
       "<Figure size 432x288 with 1 Axes>"
      ]
     },
     "metadata": {},
     "output_type": "display_data"
    }
   ],
   "source": [
    "def fires_by_month(year):\n",
    "    array = []\n",
    "    for i in year:\n",
    "        for j in range(i[5]):\n",
    "            array.append(i[4])\n",
    "    return array\n",
    "o = pd.Index(fires_by_month(year2020_month))\n",
    "o.value_counts().plot(kind='pie')\n",
    "plt.show()"
   ]
  },
  {
   "cell_type": "code",
   "execution_count": 6,
   "metadata": {},
   "outputs": [
    {
     "data": {
      "image/png": "[encoded data removed]",
      "text/plain": [
       "<Figure size 432x288 with 1 Axes>"
      ]
     },
     "metadata": {
      "needs_background": "light"
     },
     "output_type": "display_data"
    }
   ],
   "source": [
    "def different_causes(year):\n",
    "    array = []\n",
    "    for i in year:\n",
    "        for j in range(i[5]):\n",
    "            array.append(i[3])\n",
    "    return array\n",
    "o = pd.Index(different_causes(year2020))\n",
    "o.value_counts().plot(kind='bar')\n",
    "plt.show()"
   ]
  },
  {
   "cell_type": "code",
   "execution_count": 7,
   "metadata": {},
   "outputs": [
    {
     "data": {
      "image/png": "[encoded data removed]",
      "text/plain": [
       "<Figure size 432x288 with 1 Axes>"
      ]
     },
     "metadata": {
      "needs_background": "light"
     },
     "output_type": "display_data"
    }
   ],
   "source": [
    "def fires_by_county(year):\n",
    "    array = []\n",
    "    for i in year:\n",
    "        for j in range(i[5]):\n",
    "            array.append(i[0])\n",
    "    return array\n",
    "y2019 = pd.Index(fires_by_county(year2019))\n",
    "y2019.value_counts().plot(kind='bar', color='#fb1dbf')\n",
    "plt.show()"
   ]
  },
  {
   "cell_type": "code",
   "execution_count": 8,
   "metadata": {},
   "outputs": [
    {
     "data": {
      "image/png": "[encoded data removed]",
      "text/plain": [
       "<Figure size 432x288 with 1 Axes>"
      ]
     },
     "metadata": {
      "needs_background": "light"
     },
     "output_type": "display_data"
    }
   ],
   "source": [
    "import matplotlib.pyplot as plt\n",
    "fig = plt.figure()\n",
    "ax = fig.add_axes([0,0,1,1])\n",
    "langs = ['Year 2014', 'Year 2015', 'Year 2016', 'Year 2017', 'Year 2018', 'Year 2019', 'Year 2020']\n",
    "counts = [fires_in_a_year(year2014), fires_in_a_year(year2015), fires_in_a_year(year2016), fires_in_a_year(year2017), fires_in_a_year(year2018), fires_in_a_year(year2019), fires_in_a_year(year2020)] \n",
    "ax.bar(langs,counts, color='#0203aa')\n",
    "ax.set_title('Building fires by year')\n",
    "plt.show()"
   ]
  },
  {
   "cell_type": "code",
   "execution_count": 9,
   "metadata": {},
   "outputs": [
    {
     "data": {
      "text/html": [
       "<div>\n",
       "<style scoped>\n",
       "    .dataframe tbody tr th:only-of-type {\n",
       "        vertical-align: middle;\n",
       "    }\n",
       "\n",
       "    .dataframe tbody tr th {\n",
       "        vertical-align: top;\n",
       "    }\n",
       "\n",
       "    .dataframe thead th {\n",
       "        text-align: right;\n",
       "    }\n",
       "</style>\n",
       "<table border=\"1\" class=\"dataframe\">\n",
       "  <thead>\n",
       "    <tr style=\"text-align: right;\">\n",
       "      <th></th>\n",
       "      <th>0</th>\n",
       "      <th>1</th>\n",
       "    </tr>\n",
       "  </thead>\n",
       "  <tbody>\n",
       "    <tr>\n",
       "      <th>0</th>\n",
       "      <td>Harju maakond</td>\n",
       "      <td>381</td>\n",
       "    </tr>\n",
       "    <tr>\n",
       "      <th>1</th>\n",
       "      <td>Ida-Viru maakond</td>\n",
       "      <td>200</td>\n",
       "    </tr>\n",
       "    <tr>\n",
       "      <th>2</th>\n",
       "      <td>Tartu maakond</td>\n",
       "      <td>104</td>\n",
       "    </tr>\n",
       "    <tr>\n",
       "      <th>3</th>\n",
       "      <td>Lääne-Viru maakond</td>\n",
       "      <td>79</td>\n",
       "    </tr>\n",
       "    <tr>\n",
       "      <th>4</th>\n",
       "      <td>Pärnu maakond</td>\n",
       "      <td>60</td>\n",
       "    </tr>\n",
       "    <tr>\n",
       "      <th>5</th>\n",
       "      <td>Viljandi maakond</td>\n",
       "      <td>41</td>\n",
       "    </tr>\n",
       "    <tr>\n",
       "      <th>6</th>\n",
       "      <td>Võru maakond</td>\n",
       "      <td>36</td>\n",
       "    </tr>\n",
       "    <tr>\n",
       "      <th>7</th>\n",
       "      <td>Valga maakond</td>\n",
       "      <td>34</td>\n",
       "    </tr>\n",
       "    <tr>\n",
       "      <th>8</th>\n",
       "      <td>Jõgeva maakond</td>\n",
       "      <td>31</td>\n",
       "    </tr>\n",
       "    <tr>\n",
       "      <th>9</th>\n",
       "      <td>Järva maakond</td>\n",
       "      <td>28</td>\n",
       "    </tr>\n",
       "    <tr>\n",
       "      <th>10</th>\n",
       "      <td>Rapla maakond</td>\n",
       "      <td>27</td>\n",
       "    </tr>\n",
       "    <tr>\n",
       "      <th>11</th>\n",
       "      <td>Põlva maakond</td>\n",
       "      <td>22</td>\n",
       "    </tr>\n",
       "    <tr>\n",
       "      <th>12</th>\n",
       "      <td>Saare maakond</td>\n",
       "      <td>18</td>\n",
       "    </tr>\n",
       "    <tr>\n",
       "      <th>13</th>\n",
       "      <td>Lääne maakond</td>\n",
       "      <td>18</td>\n",
       "    </tr>\n",
       "    <tr>\n",
       "      <th>14</th>\n",
       "      <td>Hiiu maakond</td>\n",
       "      <td>9</td>\n",
       "    </tr>\n",
       "    <tr>\n",
       "      <th>15</th>\n",
       "      <td>!Sisestamata!</td>\n",
       "      <td>4</td>\n",
       "    </tr>\n",
       "  </tbody>\n",
       "</table>\n",
       "</div>"
      ],
      "text/plain": [
       "                     0    1\n",
       "0        Harju maakond  381\n",
       "1     Ida-Viru maakond  200\n",
       "2        Tartu maakond  104\n",
       "3   Lääne-Viru maakond   79\n",
       "4        Pärnu maakond   60\n",
       "5     Viljandi maakond   41\n",
       "6         Võru maakond   36\n",
       "7        Valga maakond   34\n",
       "8       Jõgeva maakond   31\n",
       "9        Järva maakond   28\n",
       "10       Rapla maakond   27\n",
       "11       Põlva maakond   22\n",
       "12       Saare maakond   18\n",
       "13       Lääne maakond   18\n",
       "14        Hiiu maakond    9\n",
       "15       !Sisestamata!    4"
      ]
     },
     "execution_count": 9,
     "metadata": {},
     "output_type": "execute_result"
    }
   ],
   "source": [
    "#Maakonnad ja arvud 2019 aastal\n",
    "year = y2019.value_counts().index.tolist()\n",
    "count = []\n",
    "for i in year:\n",
    "    count.append([i, y2019.value_counts().loc[i]])\n",
    "county_counter = pd.DataFrame(count)\n",
    "county_counter"
   ]
  },
  {
   "cell_type": "code",
   "execution_count": 10,
   "metadata": {},
   "outputs": [
    {
     "data": {
      "image/png": "[encoded data removed]",
      "text/plain": [
       "<Figure size 432x288 with 1 Axes>"
      ]
     },
     "metadata": {
      "needs_background": "light"
     },
     "output_type": "display_data"
    }
   ],
   "source": [
    "#Clustering fires by month\n",
    "k = data_df.loc[data_df['Aasta'] == 2014]\n",
    "plt.scatter(k['Hoonetulekahjud'], k['Kuu'])\n",
    "plt.xlabel('Building fires')\n",
    "plt.ylabel('Month')\n",
    "plt.show()"
   ]
  },
  {
   "cell_type": "code",
   "execution_count": 11,
   "metadata": {
    "scrolled": true
   },
   "outputs": [],
   "source": [
    "counties = ['Valga maakond', 'Tartu maakond', 'Rapla maakond', 'Lääne maakond',\n",
    "       'Harju maakond', 'Võru maakond', 'Viljandi maakond',\n",
    "       'Saare maakond', 'Pärnu maakond', 'Põlva maakond',\n",
    "       'Lääne-Viru maakond', 'Järva maakond', 'Jõgeva maakond',\n",
    "       'Ida-Viru maakond', 'Hiiu maakond']\n",
    "\n",
    "def map_counties(county, mapmap):\n",
    "    location = geocoder.osm(county)\n",
    "    coordinates = [location.lat, location.lng]\n",
    "    marker = Marker(location=coordinates, title=county)\n",
    "    mapmap.add_layer(marker)\n",
    "\n",
    "#for i in range(len(counties)):\n",
    "    #map_counties(counties[i], est_map)\n",
    "    \n",
    "#est_map"
   ]
  },
  {
   "cell_type": "code",
   "execution_count": 12,
   "metadata": {},
   "outputs": [],
   "source": [
    "def create_markers(coordinates, nr):\n",
    "    lst = []\n",
    "    for i in range(nr):\n",
    "        marker = Marker(location=coordinates)\n",
    "        lst.append(marker)\n",
    "    return lst"
   ]
  },
  {
   "cell_type": "code",
   "execution_count": 13,
   "metadata": {},
   "outputs": [
    {
     "data": {
      "application/vnd.jupyter.widget-view+json": {
       "model_id": "aecb91fed07745809316ccd6f8e65ee2",
       "version_major": 2,
       "version_minor": 0
      },
      "text/plain": [
       "Map(center=[58.7523778, 25.3319078], controls=(ZoomControl(options=['position', 'zoom_in_text', 'zoom_in_title…"
      ]
     },
     "metadata": {},
     "output_type": "display_data"
    }
   ],
   "source": [
    "#Maakonnad ja arvud 2014 aastal\n",
    "y2014 = pd.Index(fires_by_county(year2014))\n",
    "year = y2014.value_counts().index.tolist()\n",
    "count = []\n",
    "for i in year:\n",
    "    count.append([i, y2014.value_counts().loc[i]])\n",
    "county_counter = pd.DataFrame(count, columns = ['Maakond', 'Arv'])\n",
    "\n",
    "for row in county_counter.itertuples(index=True):\n",
    "    rida = getattr(row, 'Maakond')\n",
    "    nr = getattr(row, 'Arv')\n",
    "    \n",
    "    if rida == '!Sisestamata!':\n",
    "        rida = 'Liivi laht'\n",
    "        \n",
    "    location = geocoder.osm(rida)\n",
    "    coordinates = [location.lat, location.lng]\n",
    "    \n",
    "    lst = create_markers(coordinates, nr)\n",
    "    cluster = MarkerCluster(\n",
    "        markers = lst\n",
    "    )\n",
    "    est_map_2014.add_layer(cluster)\n",
    "\n",
    "est_map_2014"
   ]
  },
  {
   "cell_type": "code",
   "execution_count": 14,
   "metadata": {},
   "outputs": [
    {
     "data": {
      "application/vnd.jupyter.widget-view+json": {
       "model_id": "e8ed7430ddc046d585e5f2fd88050bd3",
       "version_major": 2,
       "version_minor": 0
      },
      "text/plain": [
       "Map(center=[58.7523778, 25.3319078], controls=(ZoomControl(options=['position', 'zoom_in_text', 'zoom_in_title…"
      ]
     },
     "metadata": {},
     "output_type": "display_data"
    }
   ],
   "source": [
    "#Maakonnad ja arvud 2015 aastal\n",
    "y2015 = pd.Index(fires_by_county(year2015))\n",
    "year = y2015.value_counts().index.tolist()\n",
    "count = []\n",
    "for i in year:\n",
    "    count.append([i, y2015.value_counts().loc[i]])\n",
    "county_counter = pd.DataFrame(count, columns = ['Maakond', 'Arv'])\n",
    "\n",
    "for row in county_counter.itertuples(index=True):\n",
    "    rida = getattr(row, 'Maakond')\n",
    "    nr = getattr(row, 'Arv')\n",
    "    \n",
    "    if rida == '!Sisestamata!':\n",
    "        rida = 'Liivi laht'\n",
    "    \n",
    "    location = geocoder.osm(rida)\n",
    "    coordinates = [location.lat, location.lng]\n",
    "    \n",
    "    lst = create_markers(coordinates, nr)\n",
    "    cluster = MarkerCluster(\n",
    "        markers = lst\n",
    "    )\n",
    "    est_map_2015.add_layer(cluster)\n",
    "\n",
    "est_map_2015"
   ]
  },
  {
   "cell_type": "code",
   "execution_count": 15,
   "metadata": {},
   "outputs": [
    {
     "data": {
      "application/vnd.jupyter.widget-view+json": {
       "model_id": "1edebec62691422b8419ca50c8c05eb0",
       "version_major": 2,
       "version_minor": 0
      },
      "text/plain": [
       "Map(center=[58.7523778, 25.3319078], controls=(ZoomControl(options=['position', 'zoom_in_text', 'zoom_in_title…"
      ]
     },
     "metadata": {},
     "output_type": "display_data"
    }
   ],
   "source": [
    "#Maakonnad ja arvud 2016 aastal\n",
    "y2016 = pd.Index(fires_by_county(year2016))\n",
    "year = y2016.value_counts().index.tolist()\n",
    "count = []\n",
    "for i in year:\n",
    "    count.append([i, y2016.value_counts().loc[i]])\n",
    "county_counter = pd.DataFrame(count, columns = ['Maakond', 'Arv'])\n",
    "\n",
    "for row in county_counter.itertuples(index=True):\n",
    "    rida = getattr(row, 'Maakond')\n",
    "    nr = getattr(row, 'Arv')\n",
    "    \n",
    "    if rida == '!Sisestamata!':\n",
    "        rida = 'Liivi laht'\n",
    "    \n",
    "    location = geocoder.osm(rida)\n",
    "    coordinates = [location.lat, location.lng]\n",
    "    \n",
    "    lst = create_markers(coordinates, nr)\n",
    "    cluster = MarkerCluster(\n",
    "        markers = lst\n",
    "    )\n",
    "    est_map_2016.add_layer(cluster)\n",
    "\n",
    "est_map_2016"
   ]
  },
  {
   "cell_type": "code",
   "execution_count": 16,
   "metadata": {},
   "outputs": [
    {
     "data": {
      "application/vnd.jupyter.widget-view+json": {
       "model_id": "32abd077e9cf4b8a8822a3204cc3c30a",
       "version_major": 2,
       "version_minor": 0
      },
      "text/plain": [
       "Map(center=[58.7523778, 25.3319078], controls=(ZoomControl(options=['position', 'zoom_in_text', 'zoom_in_title…"
      ]
     },
     "metadata": {},
     "output_type": "display_data"
    }
   ],
   "source": [
    "#Maakonnad ja arvud 2017 aastal\n",
    "y2017 = pd.Index(fires_by_county(year2017))\n",
    "year = y2017.value_counts().index.tolist()\n",
    "count = []\n",
    "for i in year:\n",
    "    count.append([i, y2017.value_counts().loc[i]])\n",
    "county_counter = pd.DataFrame(count, columns = ['Maakond', 'Arv'])\n",
    "\n",
    "for row in county_counter.itertuples(index=True):\n",
    "    rida = getattr(row, 'Maakond')\n",
    "    nr = getattr(row, 'Arv')\n",
    "    \n",
    "    if rida == '!Sisestamata!':\n",
    "        rida = 'Liivi laht'\n",
    "    \n",
    "    location = geocoder.osm(rida)\n",
    "    coordinates = [location.lat, location.lng]\n",
    "    \n",
    "    lst = create_markers(coordinates, nr)\n",
    "    cluster = MarkerCluster(\n",
    "        markers = lst\n",
    "    )\n",
    "    est_map_2017.add_layer(cluster)\n",
    "\n",
    "est_map_2017"
   ]
  },
  {
   "cell_type": "code",
   "execution_count": 17,
   "metadata": {},
   "outputs": [
    {
     "data": {
      "application/vnd.jupyter.widget-view+json": {
       "model_id": "4103ceef2c584d8ca37ee1b9be7664bc",
       "version_major": 2,
       "version_minor": 0
      },
      "text/plain": [
       "Map(center=[58.7523778, 25.3319078], controls=(ZoomControl(options=['position', 'zoom_in_text', 'zoom_in_title…"
      ]
     },
     "metadata": {},
     "output_type": "display_data"
    }
   ],
   "source": [
    "#Maakonnad ja arvud 2018 aastal\n",
    "y2018 = pd.Index(fires_by_county(year2018))\n",
    "year = y2018.value_counts().index.tolist()\n",
    "count = []\n",
    "for i in year:\n",
    "    count.append([i, y2018.value_counts().loc[i]])\n",
    "county_counter = pd.DataFrame(count, columns = ['Maakond', 'Arv'])\n",
    "\n",
    "for row in county_counter.itertuples(index=True):\n",
    "    rida = getattr(row, 'Maakond')\n",
    "    nr = getattr(row, 'Arv')\n",
    "    \n",
    "    if rida == '!Sisestamata!':\n",
    "        rida = 'Liivi laht'\n",
    "    \n",
    "    location = geocoder.osm(rida)\n",
    "    coordinates = [location.lat, location.lng]\n",
    "    \n",
    "    lst = create_markers(coordinates, nr)\n",
    "    cluster = MarkerCluster(\n",
    "        markers = lst\n",
    "    )\n",
    "    est_map_2018.add_layer(cluster)\n",
    "\n",
    "est_map_2018"
   ]
  },
  {
   "cell_type": "code",
   "execution_count": 18,
   "metadata": {},
   "outputs": [
    {
     "data": {
      "application/vnd.jupyter.widget-view+json": {
       "model_id": "765720022d514bc7a12503de9c598c0b",
       "version_major": 2,
       "version_minor": 0
      },
      "text/plain": [
       "Map(center=[58.7523778, 25.3319078], controls=(ZoomControl(options=['position', 'zoom_in_text', 'zoom_in_title…"
      ]
     },
     "metadata": {},
     "output_type": "display_data"
    }
   ],
   "source": [
    "#Maakonnad ja arvud 2019 aastal\n",
    "y2019 = pd.Index(fires_by_county(year2019))\n",
    "year = y2019.value_counts().index.tolist()\n",
    "count = []\n",
    "for i in year:\n",
    "    count.append([i, y2019.value_counts().loc[i]])\n",
    "county_counter = pd.DataFrame(count, columns = ['Maakond', 'Arv'])\n",
    "\n",
    "for row in county_counter.itertuples(index=True):\n",
    "    rida = getattr(row, 'Maakond')\n",
    "    nr = getattr(row, 'Arv')\n",
    "    \n",
    "    if rida == '!Sisestamata!':\n",
    "        rida = 'Liivi laht'\n",
    "    \n",
    "    location = geocoder.osm(rida)\n",
    "    coordinates = [location.lat, location.lng]\n",
    "    \n",
    "    lst = create_markers(coordinates, nr)\n",
    "    cluster = MarkerCluster(\n",
    "        markers = lst\n",
    "    )\n",
    "    est_map_2019.add_layer(cluster)\n",
    "\n",
    "est_map_2019"
   ]
  },
  {
   "cell_type": "code",
   "execution_count": 19,
   "metadata": {},
   "outputs": [
    {
     "data": {
      "application/vnd.jupyter.widget-view+json": {
       "model_id": "a52703cf9dc84b73a7a52face3f14bea",
       "version_major": 2,
       "version_minor": 0
      },
      "text/plain": [
       "Map(center=[58.7523778, 25.3319078], controls=(ZoomControl(options=['position', 'zoom_in_text', 'zoom_in_title…"
      ]
     },
     "metadata": {},
     "output_type": "display_data"
    }
   ],
   "source": [
    "#Maakonnad ja arvud 2020 aastal\n",
    "y2020 = pd.Index(fires_by_county(year2020))\n",
    "year = y2020.value_counts().index.tolist()\n",
    "count = []\n",
    "for i in year:\n",
    "    count.append([i, y2020.value_counts().loc[i]])\n",
    "county_counter = pd.DataFrame(count, columns = ['Maakond', 'Arv'])\n",
    "\n",
    "for row in county_counter.itertuples(index=True):\n",
    "    rida = getattr(row, 'Maakond')\n",
    "    nr = getattr(row, 'Arv')\n",
    "    \n",
    "    if rida == '!Sisestamata!':\n",
    "        rida = 'Liivi laht'\n",
    "    \n",
    "    location = geocoder.osm(rida)\n",
    "    coordinates = [location.lat, location.lng]\n",
    "    \n",
    "    lst = create_markers(coordinates, nr)\n",
    "    cluster = MarkerCluster(\n",
    "        markers = lst\n",
    "    )\n",
    "    est_map_2020.add_layer(cluster)\n",
    "\n",
    "est_map_2020"
   ]
  },
  {
   "cell_type": "code",
   "execution_count": null,
   "metadata": {},
   "outputs": [],
   "source": []
  }
 ],
 "metadata": {
  "kernelspec": {
   "display_name": "Python 3",
   "language": "python",
   "name": "python3"
  },
  "language_info": {
   "codemirror_mode": {
    "name": "ipython",
    "version": 3
   },
   "file_extension": ".py",
   "mimetype": "text/x-python",
   "name": "python",
   "nbconvert_exporter": "python",
   "pygments_lexer": "ipython3",
   "version": "3.8.3"
  }
 },
 "nbformat": 4,
 "nbformat_minor": 4
}
