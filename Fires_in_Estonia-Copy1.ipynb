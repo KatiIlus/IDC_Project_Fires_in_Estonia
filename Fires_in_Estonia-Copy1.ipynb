{
 "cells": [
  {
   "cell_type": "markdown",
   "metadata": {},
   "source": [
    "# D8 - Building fires in Estonia\n",
    "## Karolin Kivilaan, Kati Ilus, Geitrud Pank"
   ]
  },
  {
   "cell_type": "code",
   "execution_count": 5,
   "metadata": {},
   "outputs": [
    {
     "ename": "ModuleNotFoundError",
     "evalue": "No module named 'apyori'",
     "output_type": "error",
     "traceback": [
      "\u001b[0;31m---------------------------------------------------------------------------\u001b[0m",
      "\u001b[0;31mModuleNotFoundError\u001b[0m                       Traceback (most recent call last)",
      "\u001b[0;32m<ipython-input-5-8a991ab85ce9>\u001b[0m in \u001b[0;36m<module>\u001b[0;34m\u001b[0m\n\u001b[1;32m      1\u001b[0m \u001b[0;32mimport\u001b[0m \u001b[0mnumpy\u001b[0m \u001b[0;32mas\u001b[0m \u001b[0mnp\u001b[0m\u001b[0;34m\u001b[0m\u001b[0;34m\u001b[0m\u001b[0m\n\u001b[1;32m      2\u001b[0m \u001b[0;32mimport\u001b[0m \u001b[0mpandas\u001b[0m \u001b[0;32mas\u001b[0m \u001b[0mpd\u001b[0m\u001b[0;34m\u001b[0m\u001b[0;34m\u001b[0m\u001b[0m\n\u001b[0;32m----> 3\u001b[0;31m \u001b[0;32mimport\u001b[0m \u001b[0mapyori\u001b[0m\u001b[0;34m\u001b[0m\u001b[0;34m\u001b[0m\u001b[0m\n\u001b[0m\u001b[1;32m      4\u001b[0m \u001b[0;32mimport\u001b[0m \u001b[0mmatplotlib\u001b[0m\u001b[0;34m.\u001b[0m\u001b[0mpyplot\u001b[0m \u001b[0;32mas\u001b[0m \u001b[0mplt\u001b[0m\u001b[0;34m\u001b[0m\u001b[0;34m\u001b[0m\u001b[0m\n\u001b[1;32m      5\u001b[0m \u001b[0;32mfrom\u001b[0m \u001b[0msklearn\u001b[0m\u001b[0;34m.\u001b[0m\u001b[0mcluster\u001b[0m \u001b[0;32mimport\u001b[0m \u001b[0mKMeans\u001b[0m\u001b[0;34m\u001b[0m\u001b[0;34m\u001b[0m\u001b[0m\n",
      "\u001b[0;31mModuleNotFoundError\u001b[0m: No module named 'apyori'"
     ]
    }
   ],
   "source": [
    "import numpy as np\n",
    "import pandas as pd\n",
    "import apyori\n",
    "import matplotlib.pyplot as plt\n",
    "from sklearn.cluster import KMeans\n",
    "import ipyleaflet\n",
    "from ipyleaflet import Map, Marker, Popup, MarkerCluster\n",
    "from ipywidgets import HTML\n",
    "import geocoder\n",
    "\n",
    "\n",
    "data_df = pd.read_csv(\"hoonetulekahjud.csv\")\n",
    "data = data_df.values\n",
    "data_with_months = []\n",
    "data_copy = data.copy()\n",
    "for i in data_copy:\n",
    "    if i[4] == 1:\n",
    "        i[4] = 'January'\n",
    "    elif i[4] == 2:\n",
    "        i[4] = 'February'\n",
    "    elif i[4] == 3:\n",
    "        i[4] = 'March'\n",
    "    elif i[4] == 4:\n",
    "        i[4] = 'April'\n",
    "    elif i[4] == 5:\n",
    "        i[4] = 'May'\n",
    "    elif i[4] == 6:\n",
    "        i[4] = 'June'\n",
    "    elif i[4] == 7:\n",
    "        i[4] = 'July'\n",
    "    elif i[4] == 8:\n",
    "        i[4] = 'August'\n",
    "    elif i[4] == 9:\n",
    "        i[4] = 'September'\n",
    "    elif i[4] == 10:\n",
    "        i[4] = 'October'\n",
    "    elif i[4] == 11:\n",
    "        i[4] = 'November'\n",
    "    elif i[4] == 12:\n",
    "        i[4] = 'December'\n",
    "    data_with_months.append(i)\n",
    "data_df"
   ]
  },
  {
   "cell_type": "code",
   "execution_count": null,
   "metadata": {},
   "outputs": [],
   "source": [
    "estonia_coord = geocoder.osm('Estonia')\n",
    "coord = [estonia_coord.lat, estonia_coord.lng]\n",
    "est_map = Map(center=coord, zoom=6.7)\n",
    "est_map_2014 = Map(center=coord, zoom=6.7)\n",
    "est_map_2015 = Map(center=coord, zoom=6.7)\n",
    "est_map_2016 = Map(center=coord, zoom=6.7)\n",
    "est_map_2017 = Map(center=coord, zoom=6.7)\n",
    "est_map_2018 = Map(center=coord, zoom=6.7)\n",
    "est_map_2019 = Map(center=coord, zoom=6.7)\n",
    "est_map_2020 = Map(center=coord, zoom=6.7)\n",
    "\n",
    "est_map"
   ]
  },
  {
   "cell_type": "markdown",
   "metadata": {},
   "source": [
    "### Basic plotting"
   ]
  },
  {
   "cell_type": "code",
   "execution_count": null,
   "metadata": {},
   "outputs": [],
   "source": [
    "year2014 = []\n",
    "year2015 = []\n",
    "year2016 = []\n",
    "year2017 = []\n",
    "year2018 = []\n",
    "year2019 = []\n",
    "year2020 = []\n",
    "year2014_month = []\n",
    "year2015_month = []\n",
    "year2016_month = []\n",
    "year2017_month = []\n",
    "year2018_month = []\n",
    "year2019_month = []\n",
    "year2020_month = []\n",
    "for i in range(len(data)):\n",
    "    if data[i][1] == 2014:\n",
    "        year2014.append(data[i])\n",
    "        year2014_month.append(data_with_months[i])\n",
    "    elif data[i][1] == 2015:\n",
    "        year2015.append(data[i])\n",
    "        year2015_month.append(data_with_months[i])\n",
    "    elif data[i][1] == 2016:\n",
    "        year2016.append(data[i])\n",
    "        year2016_month.append(data_with_months[i])\n",
    "    elif data[i][1] == 2017:\n",
    "        year2017.append(data[i])\n",
    "        year2017_month.append(data_with_months[i])\n",
    "    elif data[i][1] == 2018:\n",
    "        year2018.append(data[i])\n",
    "        year2018_month.append(data_with_months[i])\n",
    "    elif data[i][1] == 2019:\n",
    "        year2019.append(data[i])\n",
    "        year2019_month.append(data_with_months[i])\n",
    "    elif data[i][1] == 2020:\n",
    "        year2020.append(data[i])\n",
    "        year2020_month.append(data_with_months[i])\n",
    "#print(year2014)\n",
    "data_by_years = [year2014, year2015, year2016, year2017, year2018, year2019, year2020]"
   ]
  },
  {
   "cell_type": "code",
   "execution_count": null,
   "metadata": {},
   "outputs": [],
   "source": [
    "def fires_in_a_year(year):\n",
    "    counter = 0\n",
    "    for i in year:\n",
    "        counter += int(i[5])\n",
    "    return counter\n",
    "print(fires_in_a_year(year2016))"
   ]
  },
  {
   "cell_type": "code",
   "execution_count": null,
   "metadata": {},
   "outputs": [],
   "source": [
    "def fires_by_month(year):\n",
    "    array = []\n",
    "    for i in year:\n",
    "        for j in range(i[5]):\n",
    "            array.append(i[4])\n",
    "    return array\n",
    "o = pd.Index(fires_by_month(year2020_month))\n",
    "o.value_counts().plot(kind='pie')\n",
    "plt.show()"
   ]
  },
  {
   "cell_type": "code",
   "execution_count": null,
   "metadata": {},
   "outputs": [],
   "source": [
    "def different_causes(year):\n",
    "    array = []\n",
    "    for i in year:\n",
    "        for j in range(i[5]):\n",
    "            array.append(i[3])\n",
    "    return array\n",
    "o = pd.Index(different_causes(year2020))\n",
    "o.value_counts().plot(kind='bar')\n",
    "plt.show()"
   ]
  },
  {
   "cell_type": "code",
   "execution_count": null,
   "metadata": {},
   "outputs": [],
   "source": [
    "def fires_by_county(year):\n",
    "    array = []\n",
    "    for i in year:\n",
    "        for j in range(i[5]):\n",
    "            array.append(i[0])\n",
    "    return array\n",
    "y2019 = pd.Index(fires_by_county(year2019))\n",
    "y2019.value_counts().plot(kind='bar', color='#fb1dbf')\n",
    "plt.show()"
   ]
  },
  {
   "cell_type": "code",
   "execution_count": 2,
   "metadata": {},
   "outputs": [
    {
     "ename": "NameError",
     "evalue": "name 'fires_in_a_year' is not defined",
     "output_type": "error",
     "traceback": [
      "\u001b[0;31m---------------------------------------------------------------------------\u001b[0m",
      "\u001b[0;31mNameError\u001b[0m                                 Traceback (most recent call last)",
      "\u001b[0;32m<ipython-input-2-8719eb00901e>\u001b[0m in \u001b[0;36m<module>\u001b[0;34m\u001b[0m\n\u001b[1;32m      3\u001b[0m \u001b[0max\u001b[0m \u001b[0;34m=\u001b[0m \u001b[0mfig\u001b[0m\u001b[0;34m.\u001b[0m\u001b[0madd_axes\u001b[0m\u001b[0;34m(\u001b[0m\u001b[0;34m[\u001b[0m\u001b[0;36m0\u001b[0m\u001b[0;34m,\u001b[0m\u001b[0;36m0\u001b[0m\u001b[0;34m,\u001b[0m\u001b[0;36m1\u001b[0m\u001b[0;34m,\u001b[0m\u001b[0;36m1\u001b[0m\u001b[0;34m]\u001b[0m\u001b[0;34m)\u001b[0m\u001b[0;34m\u001b[0m\u001b[0;34m\u001b[0m\u001b[0m\n\u001b[1;32m      4\u001b[0m \u001b[0mlangs\u001b[0m \u001b[0;34m=\u001b[0m \u001b[0;34m[\u001b[0m\u001b[0;34m'Year 2014'\u001b[0m\u001b[0;34m,\u001b[0m \u001b[0;34m'Year 2015'\u001b[0m\u001b[0;34m,\u001b[0m \u001b[0;34m'Year 2016'\u001b[0m\u001b[0;34m,\u001b[0m \u001b[0;34m'Year 2017'\u001b[0m\u001b[0;34m,\u001b[0m \u001b[0;34m'Year 2018'\u001b[0m\u001b[0;34m,\u001b[0m \u001b[0;34m'Year 2019'\u001b[0m\u001b[0;34m,\u001b[0m \u001b[0;34m'Year 2020'\u001b[0m\u001b[0;34m]\u001b[0m\u001b[0;34m\u001b[0m\u001b[0;34m\u001b[0m\u001b[0m\n\u001b[0;32m----> 5\u001b[0;31m \u001b[0mcounts\u001b[0m \u001b[0;34m=\u001b[0m \u001b[0;34m[\u001b[0m\u001b[0mfires_in_a_year\u001b[0m\u001b[0;34m(\u001b[0m\u001b[0myear2014\u001b[0m\u001b[0;34m)\u001b[0m\u001b[0;34m,\u001b[0m \u001b[0mfires_in_a_year\u001b[0m\u001b[0;34m(\u001b[0m\u001b[0myear2015\u001b[0m\u001b[0;34m)\u001b[0m\u001b[0;34m,\u001b[0m \u001b[0mfires_in_a_year\u001b[0m\u001b[0;34m(\u001b[0m\u001b[0myear2016\u001b[0m\u001b[0;34m)\u001b[0m\u001b[0;34m,\u001b[0m \u001b[0mfires_in_a_year\u001b[0m\u001b[0;34m(\u001b[0m\u001b[0myear2017\u001b[0m\u001b[0;34m)\u001b[0m\u001b[0;34m,\u001b[0m \u001b[0mfires_in_a_year\u001b[0m\u001b[0;34m(\u001b[0m\u001b[0myear2018\u001b[0m\u001b[0;34m)\u001b[0m\u001b[0;34m,\u001b[0m \u001b[0mfires_in_a_year\u001b[0m\u001b[0;34m(\u001b[0m\u001b[0myear2019\u001b[0m\u001b[0;34m)\u001b[0m\u001b[0;34m,\u001b[0m \u001b[0mfires_in_a_year\u001b[0m\u001b[0;34m(\u001b[0m\u001b[0myear2020\u001b[0m\u001b[0;34m)\u001b[0m\u001b[0;34m]\u001b[0m\u001b[0;34m\u001b[0m\u001b[0;34m\u001b[0m\u001b[0m\n\u001b[0m\u001b[1;32m      6\u001b[0m \u001b[0max\u001b[0m\u001b[0;34m.\u001b[0m\u001b[0mbar\u001b[0m\u001b[0;34m(\u001b[0m\u001b[0mlangs\u001b[0m\u001b[0;34m,\u001b[0m\u001b[0mcounts\u001b[0m\u001b[0;34m,\u001b[0m \u001b[0mcolor\u001b[0m\u001b[0;34m=\u001b[0m\u001b[0;34m'#0203aa'\u001b[0m\u001b[0;34m)\u001b[0m\u001b[0;34m\u001b[0m\u001b[0;34m\u001b[0m\u001b[0m\n\u001b[1;32m      7\u001b[0m \u001b[0max\u001b[0m\u001b[0;34m.\u001b[0m\u001b[0mset_title\u001b[0m\u001b[0;34m(\u001b[0m\u001b[0;34m'Building fires by year'\u001b[0m\u001b[0;34m)\u001b[0m\u001b[0;34m\u001b[0m\u001b[0;34m\u001b[0m\u001b[0m\n",
      "\u001b[0;31mNameError\u001b[0m: name 'fires_in_a_year' is not defined"
     ]
    },
    {
     "data": {
      "image/png": "[encoded data removed]",
      "text/plain": [
       "<Figure size 432x288 with 1 Axes>"
      ]
     },
     "metadata": {
      "needs_background": "light"
     },
     "output_type": "display_data"
    }
   ],
   "source": [
    "import matplotlib.pyplot as plt\n",
    "fig = plt.figure()\n",
    "ax = fig.add_axes([0,0,1,1])\n",
    "langs = ['Year 2014', 'Year 2015', 'Year 2016', 'Year 2017', 'Year 2018', 'Year 2019', 'Year 2020']\n",
    "counts = [fires_in_a_year(year2014), fires_in_a_year(year2015), fires_in_a_year(year2016), fires_in_a_year(year2017), fires_in_a_year(year2018), fires_in_a_year(year2019), fires_in_a_year(year2020)] \n",
    "ax.bar(langs,counts, color='#0203aa')\n",
    "ax.set_title('Building fires by year')\n",
    "plt.show()"
   ]
  },
  {
   "cell_type": "code",
   "execution_count": null,
   "metadata": {},
   "outputs": [],
   "source": [
    "#Maakonnad ja arvud 2019 aastal\n",
    "year = y2019.value_counts().index.tolist()\n",
    "count = []\n",
    "for i in year:\n",
    "    count.append([i, y2019.value_counts().loc[i]])\n",
    "county_counter = pd.DataFrame(count)\n",
    "county_counter"
   ]
  },
  {
   "cell_type": "code",
   "execution_count": 3,
   "metadata": {},
   "outputs": [
    {
     "ename": "NameError",
     "evalue": "name 'data_df' is not defined",
     "output_type": "error",
     "traceback": [
      "\u001b[0;31m---------------------------------------------------------------------------\u001b[0m",
      "\u001b[0;31mNameError\u001b[0m                                 Traceback (most recent call last)",
      "\u001b[0;32m<ipython-input-3-2c784fb2b6db>\u001b[0m in \u001b[0;36m<module>\u001b[0;34m\u001b[0m\n\u001b[1;32m      1\u001b[0m \u001b[0;31m#Clustering fires by month\u001b[0m\u001b[0;34m\u001b[0m\u001b[0;34m\u001b[0m\u001b[0;34m\u001b[0m\u001b[0m\n\u001b[0;32m----> 2\u001b[0;31m \u001b[0mk\u001b[0m \u001b[0;34m=\u001b[0m \u001b[0mdata_df\u001b[0m\u001b[0;34m.\u001b[0m\u001b[0mloc\u001b[0m\u001b[0;34m[\u001b[0m\u001b[0mdata_df\u001b[0m\u001b[0;34m[\u001b[0m\u001b[0;34m'Aasta'\u001b[0m\u001b[0;34m]\u001b[0m \u001b[0;34m==\u001b[0m \u001b[0;36m2014\u001b[0m\u001b[0;34m]\u001b[0m\u001b[0;34m\u001b[0m\u001b[0;34m\u001b[0m\u001b[0m\n\u001b[0m\u001b[1;32m      3\u001b[0m \u001b[0mplt\u001b[0m\u001b[0;34m.\u001b[0m\u001b[0mscatter\u001b[0m\u001b[0;34m(\u001b[0m\u001b[0mk\u001b[0m\u001b[0;34m[\u001b[0m\u001b[0;34m'Hoonetulekahjud'\u001b[0m\u001b[0;34m]\u001b[0m\u001b[0;34m,\u001b[0m \u001b[0mk\u001b[0m\u001b[0;34m[\u001b[0m\u001b[0;34m'Kuu'\u001b[0m\u001b[0;34m]\u001b[0m\u001b[0;34m)\u001b[0m\u001b[0;34m\u001b[0m\u001b[0;34m\u001b[0m\u001b[0m\n\u001b[1;32m      4\u001b[0m \u001b[0mplt\u001b[0m\u001b[0;34m.\u001b[0m\u001b[0mxlabel\u001b[0m\u001b[0;34m(\u001b[0m\u001b[0;34m'Building fires'\u001b[0m\u001b[0;34m)\u001b[0m\u001b[0;34m\u001b[0m\u001b[0;34m\u001b[0m\u001b[0m\n\u001b[1;32m      5\u001b[0m \u001b[0mplt\u001b[0m\u001b[0;34m.\u001b[0m\u001b[0mylabel\u001b[0m\u001b[0;34m(\u001b[0m\u001b[0;34m'Month'\u001b[0m\u001b[0;34m)\u001b[0m\u001b[0;34m\u001b[0m\u001b[0;34m\u001b[0m\u001b[0m\n",
      "\u001b[0;31mNameError\u001b[0m: name 'data_df' is not defined"
     ]
    }
   ],
   "source": [
    "#Clustering fires by month\n",
    "k = data_df.loc[data_df['Aasta'] == 2014]\n",
    "plt.scatter(k['Hoonetulekahjud'], k['Kuu'])\n",
    "plt.xlabel('Building fires')\n",
    "plt.ylabel('Month')\n",
    "plt.show()"
   ]
  },
  {
   "cell_type": "code",
   "execution_count": 4,
   "metadata": {
    "scrolled": true
   },
   "outputs": [],
   "source": [
    "counties = ['Valga maakond', 'Tartu maakond', 'Rapla maakond', 'Lääne maakond',\n",
    "       'Harju maakond', 'Võru maakond', 'Viljandi maakond',\n",
    "       'Saare maakond', 'Pärnu maakond', 'Põlva maakond',\n",
    "       'Lääne-Viru maakond', 'Järva maakond', 'Jõgeva maakond',\n",
    "       'Ida-Viru maakond', 'Hiiu maakond']\n",
    "\n",
    "def map_counties(county, mapmap):\n",
    "    location = geocoder.osm(county)\n",
    "    coordinates = [location.lat, location.lng]\n",
    "    marker = Marker(location=coordinates, title=county)\n",
    "    mapmap.add_layer(marker)\n",
    "\n",
    "#for i in range(len(counties)):\n",
    "    #map_counties(counties[i], est_map)\n",
    "    \n",
    "#est_map"
   ]
  },
  {
   "cell_type": "code",
   "execution_count": 12,
   "metadata": {},
   "outputs": [],
   "source": [
    "def create_markers(coordinates, nr):\n",
    "    lst = []\n",
    "    for i in range(nr):\n",
    "        marker = Marker(location=coordinates)\n",
    "        lst.append(marker)\n",
    "    return lst"
   ]
  },
  {
   "cell_type": "code",
   "execution_count": 13,
   "metadata": {},
   "outputs": [
    {
     "data": {
      "application/vnd.jupyter.widget-view+json": {
       "model_id": "9a44e84696764164b8e1ff07834c88b3",
       "version_major": 2,
       "version_minor": 0
      },
      "text/plain": [
       "Map(center=[58.7523778, 25.3319078], controls=(ZoomControl(options=['position', 'zoom_in_text', 'zoom_in_title…"
      ]
     },
     "metadata": {},
     "output_type": "display_data"
    }
   ],
   "source": [
    "#Maakonnad ja arvud 2014 aastal\n",
    "y2014 = pd.Index(fires_by_county(year2014))\n",
    "year = y2014.value_counts().index.tolist()\n",
    "count = []\n",
    "for i in year:\n",
    "    count.append([i, y2014.value_counts().loc[i]])\n",
    "county_counter = pd.DataFrame(count, columns = ['Maakond', 'Arv'])\n",
    "\n",
    "for row in county_counter.itertuples(index=True):\n",
    "    rida = getattr(row, 'Maakond')\n",
    "    nr = getattr(row, 'Arv')\n",
    "    \n",
    "    if rida == '!Sisestamata!':\n",
    "        rida = 'Liivi laht'\n",
    "        \n",
    "    location = geocoder.osm(rida)\n",
    "    coordinates = [location.lat, location.lng]\n",
    "    \n",
    "    lst = create_markers(coordinates, nr)\n",
    "    cluster = MarkerCluster(\n",
    "        markers = lst\n",
    "    )\n",
    "    est_map_2014.add_layer(cluster)\n",
    "\n",
    "est_map_2014"
   ]
  },
  {
   "cell_type": "code",
   "execution_count": 14,
   "metadata": {},
   "outputs": [
    {
     "data": {
      "application/vnd.jupyter.widget-view+json": {
       "model_id": "d88c7327d6594ec6b9539c9c636af093",
       "version_major": 2,
       "version_minor": 0
      },
      "text/plain": [
       "Map(center=[58.7523778, 25.3319078], controls=(ZoomControl(options=['position', 'zoom_in_text', 'zoom_in_title…"
      ]
     },
     "metadata": {},
     "output_type": "display_data"
    }
   ],
   "source": [
    "#Maakonnad ja arvud 2015 aastal\n",
    "y2015 = pd.Index(fires_by_county(year2015))\n",
    "year = y2015.value_counts().index.tolist()\n",
    "count = []\n",
    "for i in year:\n",
    "    count.append([i, y2015.value_counts().loc[i]])\n",
    "county_counter = pd.DataFrame(count, columns = ['Maakond', 'Arv'])\n",
    "\n",
    "for row in county_counter.itertuples(index=True):\n",
    "    rida = getattr(row, 'Maakond')\n",
    "    nr = getattr(row, 'Arv')\n",
    "    \n",
    "    if rida == '!Sisestamata!':\n",
    "        rida = 'Liivi laht'\n",
    "    \n",
    "    location = geocoder.osm(rida)\n",
    "    coordinates = [location.lat, location.lng]\n",
    "    \n",
    "    lst = create_markers(coordinates, nr)\n",
    "    cluster = MarkerCluster(\n",
    "        markers = lst\n",
    "    )\n",
    "    est_map_2015.add_layer(cluster)\n",
    "\n",
    "est_map_2015"
   ]
  },
  {
   "cell_type": "code",
   "execution_count": 15,
   "metadata": {},
   "outputs": [
    {
     "data": {
      "application/vnd.jupyter.widget-view+json": {
       "model_id": "6ce85958e8ae4544b767b13d82f4f61c",
       "version_major": 2,
       "version_minor": 0
      },
      "text/plain": [
       "Map(center=[58.7523778, 25.3319078], controls=(ZoomControl(options=['position', 'zoom_in_text', 'zoom_in_title…"
      ]
     },
     "metadata": {},
     "output_type": "display_data"
    }
   ],
   "source": [
    "#Maakonnad ja arvud 2016 aastal\n",
    "y2016 = pd.Index(fires_by_county(year2016))\n",
    "year = y2016.value_counts().index.tolist()\n",
    "count = []\n",
    "for i in year:\n",
    "    count.append([i, y2016.value_counts().loc[i]])\n",
    "county_counter = pd.DataFrame(count, columns = ['Maakond', 'Arv'])\n",
    "\n",
    "for row in county_counter.itertuples(index=True):\n",
    "    rida = getattr(row, 'Maakond')\n",
    "    nr = getattr(row, 'Arv')\n",
    "    \n",
    "    if rida == '!Sisestamata!':\n",
    "        rida = 'Liivi laht'\n",
    "    \n",
    "    location = geocoder.osm(rida)\n",
    "    coordinates = [location.lat, location.lng]\n",
    "    \n",
    "    lst = create_markers(coordinates, nr)\n",
    "    cluster = MarkerCluster(\n",
    "        markers = lst\n",
    "    )\n",
    "    est_map_2016.add_layer(cluster)\n",
    "\n",
    "est_map_2016"
   ]
  },
  {
   "cell_type": "code",
   "execution_count": 16,
   "metadata": {},
   "outputs": [
    {
     "data": {
      "application/vnd.jupyter.widget-view+json": {
       "model_id": "2202c64259fd4b0693132a9cfcc5ed89",
       "version_major": 2,
       "version_minor": 0
      },
      "text/plain": [
       "Map(center=[58.7523778, 25.3319078], controls=(ZoomControl(options=['position', 'zoom_in_text', 'zoom_in_title…"
      ]
     },
     "metadata": {},
     "output_type": "display_data"
    }
   ],
   "source": [
    "#Maakonnad ja arvud 2017 aastal\n",
    "y2017 = pd.Index(fires_by_county(year2017))\n",
    "year = y2017.value_counts().index.tolist()\n",
    "count = []\n",
    "for i in year:\n",
    "    count.append([i, y2017.value_counts().loc[i]])\n",
    "county_counter = pd.DataFrame(count, columns = ['Maakond', 'Arv'])\n",
    "\n",
    "for row in county_counter.itertuples(index=True):\n",
    "    rida = getattr(row, 'Maakond')\n",
    "    nr = getattr(row, 'Arv')\n",
    "    \n",
    "    if rida == '!Sisestamata!':\n",
    "        rida = 'Liivi laht'\n",
    "    \n",
    "    location = geocoder.osm(rida)\n",
    "    coordinates = [location.lat, location.lng]\n",
    "    \n",
    "    lst = create_markers(coordinates, nr)\n",
    "    cluster = MarkerCluster(\n",
    "        markers = lst\n",
    "    )\n",
    "    est_map_2017.add_layer(cluster)\n",
    "\n",
    "est_map_2017"
   ]
  },
  {
   "cell_type": "code",
   "execution_count": 17,
   "metadata": {},
   "outputs": [
    {
     "data": {
      "application/vnd.jupyter.widget-view+json": {
       "model_id": "514b415cdaaf4672b96dc7f131b53261",
       "version_major": 2,
       "version_minor": 0
      },
      "text/plain": [
       "Map(center=[58.7523778, 25.3319078], controls=(ZoomControl(options=['position', 'zoom_in_text', 'zoom_in_title…"
      ]
     },
     "metadata": {},
     "output_type": "display_data"
    }
   ],
   "source": [
    "#Maakonnad ja arvud 2018 aastal\n",
    "y2018 = pd.Index(fires_by_county(year2018))\n",
    "year = y2018.value_counts().index.tolist()\n",
    "count = []\n",
    "for i in year:\n",
    "    count.append([i, y2018.value_counts().loc[i]])\n",
    "county_counter = pd.DataFrame(count, columns = ['Maakond', 'Arv'])\n",
    "\n",
    "for row in county_counter.itertuples(index=True):\n",
    "    rida = getattr(row, 'Maakond')\n",
    "    nr = getattr(row, 'Arv')\n",
    "    \n",
    "    if rida == '!Sisestamata!':\n",
    "        rida = 'Liivi laht'\n",
    "    \n",
    "    location = geocoder.osm(rida)\n",
    "    coordinates = [location.lat, location.lng]\n",
    "    \n",
    "    lst = create_markers(coordinates, nr)\n",
    "    cluster = MarkerCluster(\n",
    "        markers = lst\n",
    "    )\n",
    "    est_map_2018.add_layer(cluster)\n",
    "\n",
    "est_map_2018"
   ]
  },
  {
   "cell_type": "code",
   "execution_count": 18,
   "metadata": {},
   "outputs": [
    {
     "data": {
      "application/vnd.jupyter.widget-view+json": {
       "model_id": "c4ce254ad37647d4981a9059bbb7142c",
       "version_major": 2,
       "version_minor": 0
      },
      "text/plain": [
       "Map(center=[58.7523778, 25.3319078], controls=(ZoomControl(options=['position', 'zoom_in_text', 'zoom_in_title…"
      ]
     },
     "metadata": {},
     "output_type": "display_data"
    }
   ],
   "source": [
    "#Maakonnad ja arvud 2019 aastal\n",
    "y2019 = pd.Index(fires_by_county(year2019))\n",
    "year = y2019.value_counts().index.tolist()\n",
    "count = []\n",
    "for i in year:\n",
    "    count.append([i, y2019.value_counts().loc[i]])\n",
    "county_counter = pd.DataFrame(count, columns = ['Maakond', 'Arv'])\n",
    "\n",
    "for row in county_counter.itertuples(index=True):\n",
    "    rida = getattr(row, 'Maakond')\n",
    "    nr = getattr(row, 'Arv')\n",
    "    \n",
    "    if rida == '!Sisestamata!':\n",
    "        rida = 'Liivi laht'\n",
    "    \n",
    "    location = geocoder.osm(rida)\n",
    "    coordinates = [location.lat, location.lng]\n",
    "    \n",
    "    lst = create_markers(coordinates, nr)\n",
    "    cluster = MarkerCluster(\n",
    "        markers = lst\n",
    "    )\n",
    "    est_map_2019.add_layer(cluster)\n",
    "\n",
    "est_map_2019"
   ]
  },
  {
   "cell_type": "code",
   "execution_count": 19,
   "metadata": {},
   "outputs": [
    {
     "data": {
      "application/vnd.jupyter.widget-view+json": {
       "model_id": "a6f2d75c34344366a43b11f3542678f2",
       "version_major": 2,
       "version_minor": 0
      },
      "text/plain": [
       "Map(center=[58.7523778, 25.3319078], controls=(ZoomControl(options=['position', 'zoom_in_text', 'zoom_in_title…"
      ]
     },
     "metadata": {},
     "output_type": "display_data"
    }
   ],
   "source": [
    "#Maakonnad ja arvud 2020 aastal\n",
    "y2020 = pd.Index(fires_by_county(year2020))\n",
    "year = y2020.value_counts().index.tolist()\n",
    "count = []\n",
    "for i in year:\n",
    "    count.append([i, y2020.value_counts().loc[i]])\n",
    "county_counter = pd.DataFrame(count, columns = ['Maakond', 'Arv'])\n",
    "\n",
    "for row in county_counter.itertuples(index=True):\n",
    "    rida = getattr(row, 'Maakond')\n",
    "    nr = getattr(row, 'Arv')\n",
    "    \n",
    "    if rida == '!Sisestamata!':\n",
    "        rida = 'Liivi laht'\n",
    "    \n",
    "    location = geocoder.osm(rida)\n",
    "    coordinates = [location.lat, location.lng]\n",
    "    \n",
    "    lst = create_markers(coordinates, nr)\n",
    "    cluster = MarkerCluster(\n",
    "        markers = lst\n",
    "    )\n",
    "    est_map_2020.add_layer(cluster)\n",
    "\n",
    "est_map_2020"
   ]
  },
  {
   "cell_type": "code",
   "execution_count": null,
   "metadata": {},
   "outputs": [],
   "source": []
  }
 ],
 "metadata": {
  "kernelspec": {
   "display_name": "Python 3",
   "language": "python",
   "name": "python3"
  },
  "language_info": {
   "codemirror_mode": {
    "name": "ipython",
    "version": 3
   },
   "file_extension": ".py",
   "mimetype": "text/x-python",
   "name": "python",
   "nbconvert_exporter": "python",
   "pygments_lexer": "ipython3",
   "version": "3.8.3"
  }
 },
 "nbformat": 4,
 "nbformat_minor": 4
}
