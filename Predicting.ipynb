{
 "cells": [
  {
   "cell_type": "markdown",
   "metadata": {},
   "source": [
    "# Predicting"
   ]
  },
  {
   "cell_type": "markdown",
   "metadata": {},
   "source": [
    "### Creating a dataset with only counties, years and months.\n",
    "\n",
    "Removed the building type and cause columns to make the predicting more accurate."
   ]
  },
  {
   "cell_type": "code",
   "execution_count": 39,
   "metadata": {},
   "outputs": [
    {
     "data": {
      "text/html": [
       "<div>\n",
       "<style scoped>\n",
       "    .dataframe tbody tr th:only-of-type {\n",
       "        vertical-align: middle;\n",
       "    }\n",
       "\n",
       "    .dataframe tbody tr th {\n",
       "        vertical-align: top;\n",
       "    }\n",
       "\n",
       "    .dataframe thead th {\n",
       "        text-align: right;\n",
       "    }\n",
       "</style>\n",
       "<table border=\"1\" class=\"dataframe\">\n",
       "  <thead>\n",
       "    <tr style=\"text-align: right;\">\n",
       "      <th></th>\n",
       "      <th>Maakond</th>\n",
       "      <th>Aasta</th>\n",
       "      <th>Hoone liik</th>\n",
       "      <th>Tekkepõhjus</th>\n",
       "      <th>Kuu</th>\n",
       "      <th>Hoonetulekahjud</th>\n",
       "    </tr>\n",
       "  </thead>\n",
       "  <tbody>\n",
       "    <tr>\n",
       "      <th>0</th>\n",
       "      <td>Valga maakond</td>\n",
       "      <td>2014</td>\n",
       "      <td>Mitteeluhooned</td>\n",
       "      <td>!Sisestamata!</td>\n",
       "      <td>3</td>\n",
       "      <td>1</td>\n",
       "    </tr>\n",
       "    <tr>\n",
       "      <th>1</th>\n",
       "      <td>Tartu maakond</td>\n",
       "      <td>2014</td>\n",
       "      <td>Mitteeluhooned</td>\n",
       "      <td>!Sisestamata!</td>\n",
       "      <td>3</td>\n",
       "      <td>3</td>\n",
       "    </tr>\n",
       "    <tr>\n",
       "      <th>2</th>\n",
       "      <td>Rapla maakond</td>\n",
       "      <td>2014</td>\n",
       "      <td>Mitteeluhooned</td>\n",
       "      <td>!Sisestamata!</td>\n",
       "      <td>3</td>\n",
       "      <td>1</td>\n",
       "    </tr>\n",
       "    <tr>\n",
       "      <th>3</th>\n",
       "      <td>Lääne maakond</td>\n",
       "      <td>2014</td>\n",
       "      <td>Mitteeluhooned</td>\n",
       "      <td>!Sisestamata!</td>\n",
       "      <td>3</td>\n",
       "      <td>1</td>\n",
       "    </tr>\n",
       "    <tr>\n",
       "      <th>4</th>\n",
       "      <td>Harju maakond</td>\n",
       "      <td>2014</td>\n",
       "      <td>Mitteeluhooned</td>\n",
       "      <td>!Sisestamata!</td>\n",
       "      <td>3</td>\n",
       "      <td>2</td>\n",
       "    </tr>\n",
       "  </tbody>\n",
       "</table>\n",
       "</div>"
      ],
      "text/plain": [
       "         Maakond  Aasta      Hoone liik    Tekkepõhjus  Kuu  Hoonetulekahjud\n",
       "0  Valga maakond   2014  Mitteeluhooned  !Sisestamata!    3                1\n",
       "1  Tartu maakond   2014  Mitteeluhooned  !Sisestamata!    3                3\n",
       "2  Rapla maakond   2014  Mitteeluhooned  !Sisestamata!    3                1\n",
       "3  Lääne maakond   2014  Mitteeluhooned  !Sisestamata!    3                1\n",
       "4  Harju maakond   2014  Mitteeluhooned  !Sisestamata!    3                2"
      ]
     },
     "execution_count": 39,
     "metadata": {},
     "output_type": "execute_result"
    }
   ],
   "source": [
    "import numpy as np\n",
    "import pandas as pd\n",
    "import matplotlib.pyplot as plt\n",
    "from sklearn.cluster import KMeans\n",
    "\n",
    "data_df = pd.read_csv(\"hoonetulekahjud.csv\")\n",
    "data = data_df.values\n",
    "data_df.head()"
   ]
  },
  {
   "cell_type": "code",
   "execution_count": 40,
   "metadata": {},
   "outputs": [
    {
     "data": {
      "text/html": [
       "<div>\n",
       "<style scoped>\n",
       "    .dataframe tbody tr th:only-of-type {\n",
       "        vertical-align: middle;\n",
       "    }\n",
       "\n",
       "    .dataframe tbody tr th {\n",
       "        vertical-align: top;\n",
       "    }\n",
       "\n",
       "    .dataframe thead th {\n",
       "        text-align: right;\n",
       "    }\n",
       "</style>\n",
       "<table border=\"1\" class=\"dataframe\">\n",
       "  <thead>\n",
       "    <tr style=\"text-align: right;\">\n",
       "      <th></th>\n",
       "      <th>Maakond</th>\n",
       "      <th>Aasta</th>\n",
       "      <th>Kuu</th>\n",
       "      <th>Hoonetulekahjud</th>\n",
       "    </tr>\n",
       "  </thead>\n",
       "  <tbody>\n",
       "    <tr>\n",
       "      <th>0</th>\n",
       "      <td>Valga maakond</td>\n",
       "      <td>2014</td>\n",
       "      <td>3</td>\n",
       "      <td>1</td>\n",
       "    </tr>\n",
       "    <tr>\n",
       "      <th>1</th>\n",
       "      <td>Tartu maakond</td>\n",
       "      <td>2014</td>\n",
       "      <td>3</td>\n",
       "      <td>3</td>\n",
       "    </tr>\n",
       "    <tr>\n",
       "      <th>4</th>\n",
       "      <td>Rapla maakond</td>\n",
       "      <td>2014</td>\n",
       "      <td>3</td>\n",
       "      <td>1</td>\n",
       "    </tr>\n",
       "    <tr>\n",
       "      <th>5</th>\n",
       "      <td>Lääne maakond</td>\n",
       "      <td>2014</td>\n",
       "      <td>3</td>\n",
       "      <td>1</td>\n",
       "    </tr>\n",
       "    <tr>\n",
       "      <th>6</th>\n",
       "      <td>Harju maakond</td>\n",
       "      <td>2014</td>\n",
       "      <td>3</td>\n",
       "      <td>2</td>\n",
       "    </tr>\n",
       "  </tbody>\n",
       "</table>\n",
       "</div>"
      ],
      "text/plain": [
       "         Maakond  Aasta  Kuu  Hoonetulekahjud\n",
       "0  Valga maakond   2014    3                1\n",
       "1  Tartu maakond   2014    3                3\n",
       "4  Rapla maakond   2014    3                1\n",
       "5  Lääne maakond   2014    3                1\n",
       "6  Harju maakond   2014    3                2"
      ]
     },
     "execution_count": 40,
     "metadata": {},
     "output_type": "execute_result"
    }
   ],
   "source": [
    "def dataset_with_counties_years_months(data):\n",
    "    array = []\n",
    "    for i in data:\n",
    "        for j in range(i[5]):\n",
    "            array.append([i[0], i[1], i[4]])\n",
    "    return array\n",
    "dataframe = pd.DataFrame((dataset_with_counties_years_months(data)), columns=['Maakond', 'Aasta','Kuu'])\n",
    "dataframe['Hoonetulekahjud']=dataframe.groupby(by=['Maakond','Aasta', 'Kuu'])['Maakond'].transform('count')\n",
    "dataframe = dataframe.drop_duplicates()\n",
    "\n",
    "dataframe.head()"
   ]
  },
  {
   "cell_type": "markdown",
   "metadata": {},
   "source": [
    "\n",
    "### Splitting the data into training and test data.\n"
   ]
  },
  {
   "cell_type": "code",
   "execution_count": 41,
   "metadata": {},
   "outputs": [],
   "source": [
    "import sklearn\n",
    "from sklearn.model_selection import train_test_split\n",
    "\n",
    "#data_dum = pd.get_dummies(data_df, columns=['Maakond', 'Aasta', 'Kuu'])\n",
    "#data_dum = pd.get_dummies(dataframe, columns=['Maakond', 'Aasta', 'Kuu'])\n",
    "\n",
    "test, train = sklearn.model_selection.train_test_split(dataframe, train_size = 0.7)\n",
    "X_train = train.drop(columns=['Hoonetulekahjud'])\n",
    "y_train = train['Hoonetulekahjud']\n",
    "X_test = test.drop(columns=['Hoonetulekahjud'])\n",
    "y_test = test['Hoonetulekahjud']"
   ]
  },
  {
   "cell_type": "markdown",
   "metadata": {},
   "source": [
    "### Creating a dataset with only counties and months (not including the years). Majority class classifier.\n",
    "\n"
   ]
  },
  {
   "cell_type": "code",
   "execution_count": 46,
   "metadata": {},
   "outputs": [
    {
     "name": "stdout",
     "output_type": "stream",
     "text": [
      "[['Valga maakond', 3, 1], ['Tartu maakond', 3, 1], ['Rapla maakond', 3, 3], ['Lääne maakond', 3, 1], ['Harju maakond', 3, 1], ['Võru maakond', 4, 2], ['Viljandi maakond', 4, 6], ['Valga maakond', 4, 8], ['Tartu maakond', 4, 10], ['Saare maakond', 4, 23], ['Rapla maakond', 4, 3], ['Pärnu maakond', 4, 7], ['Põlva maakond', 4, 22], ['Lääne-Viru maakond', 4, 3], ['Lääne maakond', 4, 21], ['Järva maakond', 4, 5], ['Jõgeva maakond', 4, 7], ['Ida-Viru maakond', 4, 8], ['Hiiu maakond', 4, 40], ['Harju maakond', 4, 1], ['Võru maakond', 5, 93], ['Viljandi maakond', 5, 6], ['Valga maakond', 5, 5], ['Tartu maakond', 5, 6], ['Saare maakond', 5, 16], ['Rapla maakond', 5, 4], ['Pärnu maakond', 5, 5], ['Lääne-Viru maakond', 5, 9], ['Lääne maakond', 5, 10], ['Järva maakond', 5, 1], ['Jõgeva maakond', 5, 6], ['Ida-Viru maakond', 5, 1], ['Harju maakond', 5, 43], ['Võru maakond', 6, 108], ['Viljandi maakond', 6, 3], ['Valga maakond', 6, 3], ['Tartu maakond', 6, 3], ['Saare maakond', 6, 11], ['Rapla maakond', 6, 6], ['Pärnu maakond', 6, 4], ['Põlva maakond', 6, 10], ['Lääne-Viru maakond', 6, 2], ['Lääne maakond', 6, 8], ['Järva maakond', 6, 4], ['Jõgeva maakond', 6, 4], ['Ida-Viru maakond', 6, 5], ['Hiiu maakond', 6, 31], ['Harju maakond', 6, 1], ['Võru maakond', 7, 72], ['Viljandi maakond', 7, 3], ['Valga maakond', 7, 6], ['Tartu maakond', 7, 3], ['Saare maakond', 7, 15], ['Rapla maakond', 7, 1], ['Pärnu maakond', 7, 3], ['Põlva maakond', 7, 10], ['Lääne-Viru maakond', 7, 2], ['Lääne maakond', 7, 9], ['Järva maakond', 7, 4], ['Jõgeva maakond', 7, 3], ['Ida-Viru maakond', 7, 5], ['Harju maakond', 7, 30], ['Võru maakond', 8, 53], ['Viljandi maakond', 8, 9], ['Valga maakond', 8, 5], ['Tartu maakond', 8, 6], ['Saare maakond', 8, 10], ['Rapla maakond', 8, 5], ['Pärnu maakond', 8, 8], ['Lääne-Viru maakond', 8, 8], ['Lääne maakond', 8, 6], ['Järva maakond', 8, 1], ['Jõgeva maakond', 8, 3], ['Ida-Viru maakond', 8, 4], ['Harju maakond', 8, 41], ['Võru maakond', 9, 112], ['Viljandi maakond', 9, 8], ['Valga maakond', 9, 5], ['Tartu maakond', 9, 10], ['Saare maakond', 9, 10], ['Rapla maakond', 9, 2], ['Pärnu maakond', 9, 1], ['Põlva maakond', 9, 11], ['Lääne-Viru maakond', 9, 4], ['Lääne maakond', 9, 12], ['Järva maakond', 9, 4], ['Jõgeva maakond', 9, 10], ['Ida-Viru maakond', 9, 10], ['Hiiu maakond', 9, 40], ['Harju maakond', 9, 1], ['Võru maakond', 10, 58], ['Viljandi maakond', 10, 3], ['Valga maakond', 10, 3], ['Tartu maakond', 10, 7], ['Saare maakond', 10, 12], ['Rapla maakond', 10, 3], ['Pärnu maakond', 10, 4], ['Põlva maakond', 10, 16], ['Lääne-Viru maakond', 10, 4], ['Lääne maakond', 10, 9], ['Järva maakond', 10, 2], ['Jõgeva maakond', 10, 7], ['Ida-Viru maakond', 10, 4], ['Harju maakond', 10, 34], ['Võru maakond', 11, 46], ['Viljandi maakond', 11, 5], ['Valga maakond', 11, 5], ['Tartu maakond', 11, 3], ['Saare maakond', 11, 20], ['Rapla maakond', 11, 1], ['Pärnu maakond', 11, 2], ['Põlva maakond', 11, 11], ['Lääne-Viru maakond', 11, 3], ['Lääne maakond', 11, 7], ['Järva maakond', 11, 2], ['Jõgeva maakond', 11, 5], ['Ida-Viru maakond', 11, 2], ['Hiiu maakond', 11, 19], ['Harju maakond', 11, 1], ['Võru maakond', 12, 50], ['Viljandi maakond', 12, 4], ['Valga maakond', 12, 5], ['Tartu maakond', 12, 2], ['Saare maakond', 12, 14], ['Rapla maakond', 12, 2], ['Pärnu maakond', 12, 3], ['Põlva maakond', 12, 10], ['Lääne-Viru maakond', 12, 5], ['Lääne maakond', 12, 14], ['Järva maakond', 12, 1], ['Jõgeva maakond', 12, 4], ['Ida-Viru maakond', 12, 3], ['Harju maakond', 12, 20], ['Võru maakond', 1, 58], ['Viljandi maakond', 1, 6], ['Valga maakond', 1, 1], ['Tartu maakond', 1, 1], ['Saare maakond', 1, 7], ['Rapla maakond', 1, 7], ['Pärnu maakond', 1, 1], ['Põlva maakond', 1, 15], ['Lääne-Viru maakond', 1, 2], ['Lääne maakond', 1, 4], ['Järva maakond', 1, 2], ['Jõgeva maakond', 1, 4], ['Ida-Viru maakond', 1, 1], ['Hiiu maakond', 1, 18], ['Harju maakond', 1, 1], ['Võru maakond', 2, 45], ['Viljandi maakond', 2, 4], ['Valga maakond', 2, 2], ['Tartu maakond', 2, 3], ['Saare maakond', 2, 8], ['Rapla maakond', 2, 2], ['Pärnu maakond', 2, 4], ['Põlva maakond', 2, 6], ['Lääne-Viru maakond', 2, 4], ['Järva maakond', 2, 6], ['Jõgeva maakond', 2, 4], ['Ida-Viru maakond', 2, 2], ['Hiiu maakond', 2, 18], ['Harju maakond', 2, 1], ['Võru maakond', 3, 54], ['Viljandi maakond', 3, 6], ['Valga maakond', 3, 5], ['Tartu maakond', 3, 4], ['Saare maakond', 3, 15], ['Rapla maakond', 3, 4], ['Pärnu maakond', 3, 3], ['Lääne-Viru maakond', 3, 10], ['Lääne maakond', 3, 9], ['Järva maakond', 3, 1], ['Jõgeva maakond', 3, 4], ['Ida-Viru maakond', 3, 6], ['Harju maakond', 3, 22], ['Võru maakond', 4, 70], ['Viljandi maakond', 4, 4], ['Valga maakond', 4, 6], ['Tartu maakond', 4, 2], ['Saare maakond', 4, 11], ['Rapla maakond', 4, 5], ['Pärnu maakond', 4, 7], ['Põlva maakond', 4, 11], ['Lääne-Viru maakond', 4, 3], ['Lääne maakond', 4, 9], ['Järva maakond', 4, 2], ['Jõgeva maakond', 4, 5], ['Ida-Viru maakond', 4, 5], ['Hiiu maakond', 4, 29], ['Harju maakond', 4, 3], ['Võru maakond', 5, 45], ['Viljandi maakond', 5, 3], ['Valga maakond', 5, 2], ['Tartu maakond', 5, 1], ['Saare maakond', 5, 14], ['Rapla maakond', 5, 2], ['Pärnu maakond', 5, 6], ['Põlva maakond', 5, 9], ['Lääne-Viru maakond', 5, 2], ['Lääne maakond', 5, 9], ['Järva maakond', 5, 2], ['Jõgeva maakond', 5, 4], ['Ida-Viru maakond', 5, 5], ['Hiiu maakond', 5, 34], ['Harju maakond', 5, 1], ['Võru maakond', 6, 71], ['Viljandi maakond', 6, 2], ['Valga maakond', 6, 7], ['Tartu maakond', 6, 10], ['Saare maakond', 6, 12], ['Rapla maakond', 6, 4], ['Pärnu maakond', 6, 5], ['Põlva maakond', 6, 12], ['Lääne-Viru maakond', 6, 6], ['Lääne maakond', 6, 14], ['Jõgeva maakond', 6, 1], ['Ida-Viru maakond', 6, 3], ['Hiiu maakond', 6, 53], ['Harju maakond', 6, 1], ['Võru maakond', 7, 53], ['Viljandi maakond', 7, 3], ['Valga maakond', 7, 6], ['Tartu maakond', 7, 4], ['Saare maakond', 7, 9], ['Rapla maakond', 7, 3], ['Pärnu maakond', 7, 2], ['Põlva maakond', 7, 6], ['Lääne-Viru maakond', 7, 1], ['Lääne maakond', 7, 12], ['Järva maakond', 7, 2], ['Jõgeva maakond', 7, 4], ['Ida-Viru maakond', 7, 3], ['Harju maakond', 7, 25], ['Võru maakond', 8, 54], ['Viljandi maakond', 8, 6], ['Valga maakond', 8, 2], ['Tartu maakond', 8, 4], ['Saare maakond', 8, 9], ['Rapla maakond', 8, 1], ['Pärnu maakond', 8, 2], ['Põlva maakond', 8, 8], ['Lääne-Viru maakond', 8, 2], ['Järva maakond', 8, 18], ['Jõgeva maakond', 8, 4], ['Ida-Viru maakond', 8, 3], ['Hiiu maakond', 8, 39], ['Harju maakond', 8, 1], ['Võru maakond', 9, 67], ['Viljandi maakond', 9, 3], ['Valga maakond', 9, 3], ['Tartu maakond', 9, 4], ['Saare maakond', 9, 11], ['Rapla maakond', 9, 3], ['Pärnu maakond', 9, 7], ['Põlva maakond', 9, 3], ['Lääne-Viru maakond', 9, 3], ['Lääne maakond', 9, 8], ['Järva maakond', 9, 1], ['Jõgeva maakond', 9, 3], ['Ida-Viru maakond', 9, 3], ['Harju maakond', 9, 17], ['Võru maakond', 10, 55], ['Viljandi maakond', 10, 4], ['Valga maakond', 10, 4], ['Tartu maakond', 10, 3], ['Saare maakond', 10, 19], ['Rapla maakond', 10, 2], ['Pärnu maakond', 10, 1], ['Põlva maakond', 10, 11], ['Lääne-Viru maakond', 10, 1], ['Lääne maakond', 10, 11], ['Järva maakond', 10, 3], ['Jõgeva maakond', 10, 2], ['Ida-Viru maakond', 10, 3], ['Harju maakond', 10, 20], ['Viljandi maakond', 11, 59], ['Valga maakond', 11, 3], ['Tartu maakond', 11, 6], ['Saare maakond', 11, 7], ['Rapla maakond', 11, 1], ['Pärnu maakond', 11, 4], ['Põlva maakond', 11, 6], ['Lääne-Viru maakond', 11, 1], ['Lääne maakond', 11, 6], ['Järva maakond', 11, 1], ['Jõgeva maakond', 11, 1], ['Ida-Viru maakond', 11, 4], ['Harju maakond', 11, 16], ['Võru maakond', 12, 43], ['Viljandi maakond', 12, 7], ['Valga maakond', 12, 2], ['Tartu maakond', 12, 4], ['Saare maakond', 12, 9], ['Rapla maakond', 12, 4], ['Pärnu maakond', 12, 3], ['Põlva maakond', 12, 7], ['Lääne-Viru maakond', 12, 2], ['Lääne maakond', 12, 10], ['Järva maakond', 12, 2], ['Jõgeva maakond', 12, 5], ['Ida-Viru maakond', 12, 1], ['Hiiu maakond', 12, 21], ['Harju maakond', 12, 1], ['Võru maakond', 1, 57], ['Viljandi maakond', 1, 6], ['Valga maakond', 1, 3], ['Tartu maakond', 1, 9], ['Saare maakond', 1, 20], ['Rapla maakond', 1, 7], ['Pärnu maakond', 1, 5], ['Põlva maakond', 1, 12], ['Lääne-Viru maakond', 1, 7], ['Lääne maakond', 1, 7], ['Järva maakond', 1, 4], ['Jõgeva maakond', 1, 6], ['Ida-Viru maakond', 1, 4], ['Hiiu maakond', 1, 27], ['Harju maakond', 1, 1], ['Võru maakond', 2, 55], ['Viljandi maakond', 2, 1], ['Valga maakond', 2, 6], ['Tartu maakond', 2, 3], ['Saare maakond', 2, 7], ['Rapla maakond', 2, 1], ['Pärnu maakond', 2, 3], ['Põlva maakond', 2, 7], ['Lääne-Viru maakond', 2, 1], ['Järva maakond', 2, 6], ['Jõgeva maakond', 2, 1], ['Ida-Viru maakond', 2, 3], ['Hiiu maakond', 2, 9], ['Harju maakond', 2, 1], ['Võru maakond', 3, 29], ['Viljandi maakond', 3, 8], ['Valga maakond', 3, 6], ['Tartu maakond', 3, 1], ['Saare maakond', 3, 8], ['Rapla maakond', 3, 1], ['Pärnu maakond', 3, 2], ['Põlva maakond', 3, 4], ['Lääne-Viru maakond', 3, 1], ['Lääne maakond', 3, 3], ['Järva maakond', 3, 1], ['Jõgeva maakond', 3, 2], ['Ida-Viru maakond', 3, 1], ['Harju maakond', 3, 16], ['Võru maakond', 4, 38], ['Viljandi maakond', 4, 4], ['Valga maakond', 4, 8], ['Tartu maakond', 4, 3], ['Saare maakond', 4, 13], ['Rapla maakond', 4, 2], ['Pärnu maakond', 4, 3], ['Põlva maakond', 4, 7], ['Lääne-Viru maakond', 4, 4], ['Järva maakond', 4, 7], ['Ida-Viru maakond', 4, 3], ['Hiiu maakond', 4, 33], ['Harju maakond', 4, 1], ['Võru maakond', 5, 58], ['Viljandi maakond', 5, 3], ['Valga maakond', 5, 2], ['Tartu maakond', 5, 5], ['Saare maakond', 5, 13], ['Rapla maakond', 5, 2], ['Pärnu maakond', 5, 2], ['Põlva maakond', 5, 8], ['Lääne-Viru maakond', 5, 5], ['Lääne maakond', 5, 9], ['Järva maakond', 5, 1], ['Jõgeva maakond', 5, 2], ['Ida-Viru maakond', 5, 4], ['Harju maakond', 5, 26], ['Võru maakond', 6, 57], ['Viljandi maakond', 6, 8], ['Valga maakond', 6, 2], ['Tartu maakond', 6, 11], ['Saare maakond', 6, 9], ['Rapla maakond', 6, 2], ['Pärnu maakond', 6, 5], ['Põlva maakond', 6, 6], ['Lääne-Viru maakond', 6, 2], ['Lääne maakond', 6, 6], ['Järva maakond', 6, 2], ['Jõgeva maakond', 6, 5], ['Ida-Viru maakond', 6, 1], ['Hiiu maakond', 6, 28], ['Harju maakond', 6, 3], ['Võru maakond', 7, 45], ['Viljandi maakond', 7, 1], ['Valga maakond', 7, 4], ['Tartu maakond', 7, 3], ['!Sisestamata!', 7, 16], ['Saare maakond', 7, 1], ['Rapla maakond', 7, 3], ['Pärnu maakond', 7, 4], ['Põlva maakond', 7, 5], ['Lääne-Viru maakond', 7, 3], ['Lääne maakond', 7, 8], ['Järva maakond', 7, 5], ['Jõgeva maakond', 7, 4], ['Ida-Viru maakond', 7, 3], ['Harju maakond', 7, 14], ['Võru maakond', 8, 46], ['Viljandi maakond', 8, 2], ['Valga maakond', 8, 3], ['Tartu maakond', 8, 5], ['Saare maakond', 8, 13], ['Rapla maakond', 8, 2], ['Pärnu maakond', 8, 2], ['Põlva maakond', 8, 4], ['Lääne-Viru maakond', 8, 1], ['Lääne maakond', 8, 12], ['Järva maakond', 8, 2], ['Jõgeva maakond', 8, 4], ['Ida-Viru maakond', 8, 3], ['Harju maakond', 8, 20], ['Võru maakond', 9, 35], ['Viljandi maakond', 9, 7], ['Valga maakond', 9, 3], ['Tartu maakond', 9, 6], ['Saare maakond', 9, 6], ['Rapla maakond', 9, 2], ['Pärnu maakond', 9, 1], ['Põlva maakond', 9, 6], ['Lääne-Viru maakond', 9, 1], ['Järva maakond', 9, 8], ['Jõgeva maakond', 9, 4], ['Ida-Viru maakond', 9, 4], ['Hiiu maakond', 9, 19], ['Harju maakond', 9, 1], ['Võru maakond', 10, 40], ['Viljandi maakond', 10, 8], ['Valga maakond', 10, 1], ['Tartu maakond', 10, 2], ['Saare maakond', 10, 6], ['Rapla maakond', 10, 2], ['Pärnu maakond', 10, 2], ['Põlva maakond', 10, 3], ['Lääne-Viru maakond', 10, 2], ['Lääne maakond', 10, 10], ['Järva maakond', 10, 5], ['Jõgeva maakond', 10, 4], ['Ida-Viru maakond', 10, 4], ['Harju maakond', 10, 15], ['Võru maakond', 11, 42], ['Viljandi maakond', 11, 4], ['Valga maakond', 11, 3], ['Tartu maakond', 11, 6], ['Saare maakond', 11, 6], ['Rapla maakond', 11, 2], ['Pärnu maakond', 11, 1], ['Põlva maakond', 11, 5], ['Lääne-Viru maakond', 11, 4], ['Lääne maakond', 11, 9], ['Järva maakond', 11, 2], ['Jõgeva maakond', 11, 6], ['Ida-Viru maakond', 11, 6], ['Hiiu maakond', 11, 13], ['Harju maakond', 11, 1], ['Võru maakond', 12, 39], ['Viljandi maakond', 12, 2], ['Valga maakond', 12, 9], ['Tartu maakond', 12, 1], ['Saare maakond', 12, 11], ['Pärnu maakond', 12, 1], ['Põlva maakond', 12, 7], ['Lääne-Viru maakond', 12, 1], ['Lääne maakond', 12, 9], ['Järva maakond', 12, 2], ['Ida-Viru maakond', 12, 5], ['Harju maakond', 12, 15], ['Võru maakond', 1, 26], ['Viljandi maakond', 1, 4], ['Valga maakond', 1, 3], ['Tartu maakond', 1, 2], ['Saare maakond', 1, 16], ['Rapla maakond', 1, 2], ['Pärnu maakond', 1, 1], ['Põlva maakond', 1, 8], ['Lääne-Viru maakond', 1, 1], ['Lääne maakond', 1, 8], ['Järva maakond', 1, 1], ['Jõgeva maakond', 1, 2], ['Ida-Viru maakond', 1, 3], ['Harju maakond', 1, 13], ['Võru maakond', 2, 31], ['Viljandi maakond', 2, 6], ['Valga maakond', 2, 1], ['Tartu maakond', 2, 4], ['Saare maakond', 2, 6], ['Rapla maakond', 2, 3], ['Pärnu maakond', 2, 3], ['Põlva maakond', 2, 8], ['Lääne-Viru maakond', 2, 1], ['Lääne maakond', 2, 7], ['Järva maakond', 2, 2], ['Jõgeva maakond', 2, 2], ['Ida-Viru maakond', 2, 2], ['Harju maakond', 2, 16], ['Võru maakond', 3, 36], ['Valga maakond', 3, 3], ['Tartu maakond', 3, 5], ['Saare maakond', 3, 12], ['Pärnu maakond', 3, 6], ['Põlva maakond', 3, 7], ['Lääne-Viru maakond', 3, 2], ['Lääne maakond', 3, 5], ['Järva maakond', 3, 2], ['Jõgeva maakond', 3, 3], ['Ida-Viru maakond', 3, 2], ['Hiiu maakond', 3, 22], ['Harju maakond', 3, 1], ['Võru maakond', 4, 27], ['Viljandi maakond', 4, 4], ['Valga maakond', 4, 2], ['Tartu maakond', 4, 4], ['Saare maakond', 4, 7], ['Rapla maakond', 4, 1], ['Pärnu maakond', 4, 2], ['Lääne-Viru maakond', 4, 3], ['Lääne maakond', 4, 9], ['Järva maakond', 4, 1], ['Jõgeva maakond', 4, 4], ['Ida-Viru maakond', 4, 4], ['Harju maakond', 4, 7], ['Võru maakond', 5, 49], ['Viljandi maakond', 5, 6], ['Valga maakond', 5, 5], ['Tartu maakond', 5, 8], ['Saare maakond', 5, 11], ['Rapla maakond', 5, 6], ['Pärnu maakond', 5, 6], ['Põlva maakond', 5, 9], ['Lääne-Viru maakond', 5, 1], ['Lääne maakond', 5, 7], ['Järva maakond', 5, 1], ['Jõgeva maakond', 5, 3], ['Ida-Viru maakond', 5, 3], ['Harju maakond', 5, 13], ['Võru maakond', 6, 40], ['Viljandi maakond', 6, 5], ['Valga maakond', 6, 4], ['Tartu maakond', 6, 2], ['Rapla maakond', 6, 5], ['Pärnu maakond', 6, 4], ['Põlva maakond', 6, 6], ['Lääne-Viru maakond', 6, 3], ['Lääne maakond', 6, 4], ['Järva maakond', 6, 2], ['Jõgeva maakond', 6, 1], ['Ida-Viru maakond', 6, 4], ['Harju maakond', 6, 20], ['Võru maakond', 7, 38], ['Viljandi maakond', 7, 1], ['Valga maakond', 7, 4], ['Tartu maakond', 7, 4], ['Saare maakond', 7, 10], ['Rapla maakond', 7, 3], ['Pärnu maakond', 7, 3], ['Põlva maakond', 7, 5], ['Lääne-Viru maakond', 7, 4], ['Lääne maakond', 7, 6], ['Järva maakond', 7, 1], ['Jõgeva maakond', 7, 2], ['Ida-Viru maakond', 7, 4], ['Hiiu maakond', 7, 15], ['Harju maakond', 7, 1], ['Viljandi maakond', 8, 39], ['Valga maakond', 8, 3], ['Tartu maakond', 8, 4], ['Saare maakond', 8, 11], ['Rapla maakond', 8, 2], ['Pärnu maakond', 8, 2], ['Põlva maakond', 8, 4], ['Lääne-Viru maakond', 8, 2], ['Järva maakond', 8, 8], ['Jõgeva maakond', 8, 2], ['Ida-Viru maakond', 8, 6], ['Hiiu maakond', 8, 13], ['Harju maakond', 8, 1], ['Võru maakond', 9, 23], ['Valga maakond', 9, 2], ['Tartu maakond', 9, 1], ['Saare maakond', 9, 7], ['Rapla maakond', 9, 1], ['Pärnu maakond', 9, 3], ['Põlva maakond', 9, 4], ['Lääne-Viru maakond', 9, 1], ['Lääne maakond', 9, 4], ['Järva maakond', 9, 1], ['Jõgeva maakond', 9, 3], ['Ida-Viru maakond', 9, 1], ['Harju maakond', 9, 11], ['Võru maakond', 10, 27], ['Viljandi maakond', 10, 5], ['Valga maakond', 10, 3], ['Tartu maakond', 10, 3], ['Saare maakond', 10, 7], ['Rapla maakond', 10, 2], ['Pärnu maakond', 10, 4], ['Lääne-Viru maakond', 10, 10], ['Lääne maakond', 10, 3], ['Järva maakond', 10, 1], ['Jõgeva maakond', 10, 3], ['Ida-Viru maakond', 10, 4], ['Hiiu maakond', 10, 13], ['Harju maakond', 10, 1], ['Võru maakond', 11, 32], ['Viljandi maakond', 11, 2], ['Valga maakond', 11, 3], ['Tartu maakond', 11, 2], ['Saare maakond', 11, 7], ['Rapla maakond', 11, 2], ['Pärnu maakond', 11, 2], ['Põlva maakond', 11, 5], ['Lääne-Viru maakond', 11, 1], ['Lääne maakond', 11, 4], ['Järva maakond', 11, 1], ['Jõgeva maakond', 11, 2], ['Ida-Viru maakond', 11, 2], ['Hiiu maakond', 11, 12], ['Harju maakond', 11, 2], ['Viljandi maakond', 12, 27], ['Valga maakond', 12, 5], ['Tartu maakond', 12, 1], ['Saare maakond', 12, 10], ['Rapla maakond', 12, 4], ['Pärnu maakond', 12, 2], ['Põlva maakond', 12, 5], ['Lääne-Viru maakond', 12, 1], ['Lääne maakond', 12, 3], ['Järva maakond', 12, 2], ['Jõgeva maakond', 12, 4], ['Ida-Viru maakond', 12, 4], ['Hiiu maakond', 12, 17], ['Harju maakond', 12, 1], ['Võru maakond', 1, 29], ['Viljandi maakond', 1, 4], ['Valga maakond', 1, 2], ['Tartu maakond', 1, 3], ['Rapla maakond', 1, 15], ['Pärnu maakond', 1, 2], ['Põlva maakond', 1, 12], ['Lääne-Viru maakond', 1, 3], ['Lääne maakond', 1, 3], ['Järva maakond', 1, 1], ['Jõgeva maakond', 1, 3], ['Ida-Viru maakond', 1, 3], ['Harju maakond', 1, 12], ['Võru maakond', 2, 41], ['Viljandi maakond', 2, 6], ['Valga maakond', 2, 4], ['Tartu maakond', 2, 2], ['Saare maakond', 2, 5], ['Rapla maakond', 2, 2], ['Pärnu maakond', 2, 6], ['Põlva maakond', 2, 5], ['Lääne-Viru maakond', 2, 3], ['Lääne maakond', 2, 4], ['Järva maakond', 2, 2], ['Jõgeva maakond', 2, 3], ['Ida-Viru maakond', 2, 6], ['Hiiu maakond', 2, 12], ['Harju maakond', 2, 1], ['Võru maakond', 3, 32], ['Viljandi maakond', 3, 8], ['Tartu maakond', 3, 7], ['Saare maakond', 3, 9], ['Rapla maakond', 3, 3], ['Pärnu maakond', 3, 2], ['Põlva maakond', 3, 10], ['Lääne-Viru maakond', 3, 2], ['Järva maakond', 3, 8], ['Jõgeva maakond', 3, 4], ['Ida-Viru maakond', 3, 2], ['Harju maakond', 3, 17], ['Võru maakond', 4, 33], ['Viljandi maakond', 4, 1], ['Valga maakond', 4, 2], ['Tartu maakond', 4, 4], ['Saare maakond', 4, 10], ['Rapla maakond', 4, 2], ['Pärnu maakond', 4, 1], ['Põlva maakond', 4, 9], ['Lääne-Viru maakond', 4, 3], ['Lääne maakond', 4, 3], ['Järva maakond', 4, 3], ['Jõgeva maakond', 4, 4], ['Ida-Viru maakond', 4, 4], ['Harju maakond', 4, 13], ['Võru maakond', 5, 32], ['Viljandi maakond', 5, 2], ['Valga maakond', 5, 3], ['Tartu maakond', 5, 7], ['Saare maakond', 5, 4], ['Rapla maakond', 5, 1], ['Pärnu maakond', 5, 6], ['Põlva maakond', 5, 6], ['Lääne-Viru maakond', 5, 5], ['Lääne maakond', 5, 4], ['Järva maakond', 5, 1], ['Jõgeva maakond', 5, 4], ['Ida-Viru maakond', 5, 2], ['Harju maakond', 5, 27], ['Võru maakond', 6, 47], ['Viljandi maakond', 6, 3], ['Valga maakond', 6, 4], ['Tartu maakond', 6, 8], ['Saare maakond', 6, 12], ['Rapla maakond', 6, 3], ['Pärnu maakond', 6, 2], ['Lääne-Viru maakond', 6, 5], ['Lääne maakond', 6, 14], ['Järva maakond', 6, 1], ['Jõgeva maakond', 6, 3], ['Ida-Viru maakond', 6, 2], ['Harju maakond', 6, 44], ['Võru maakond', 7, 49], ['Viljandi maakond', 7, 5], ['Valga maakond', 7, 5], ['Tartu maakond', 7, 9], ['Saare maakond', 7, 11], ['Rapla maakond', 7, 4], ['Pärnu maakond', 7, 3], ['Põlva maakond', 7, 6], ['Lääne-Viru maakond', 7, 2], ['Lääne maakond', 7, 12], ['Järva maakond', 7, 1], ['Jõgeva maakond', 7, 3], ['Ida-Viru maakond', 7, 3], ['Hiiu maakond', 7, 26], ['Harju maakond', 7, 2], ['Võru maakond', 8, 36], ['Viljandi maakond', 8, 2], ['Valga maakond', 8, 3], ['Tartu maakond', 8, 1], ['Saare maakond', 8, 9], ['Rapla maakond', 8, 3], ['Pärnu maakond', 8, 3], ['Põlva maakond', 8, 2], ['Lääne-Viru maakond', 8, 1], ['Lääne maakond', 8, 4], ['Järva maakond', 8, 3], ['Jõgeva maakond', 8, 1], ['Ida-Viru maakond', 8, 2], ['Harju maakond', 8, 17], ['Võru maakond', 9, 35], ['Viljandi maakond', 9, 2], ['Valga maakond', 9, 2], ['Tartu maakond', 9, 2], ['Saare maakond', 9, 6], ['Pärnu maakond', 9, 2], ['Põlva maakond', 9, 5], ['Lääne-Viru maakond', 9, 1], ['Järva maakond', 9, 7], ['Jõgeva maakond', 9, 1], ['Ida-Viru maakond', 9, 3], ['Hiiu maakond', 9, 17], ['Harju maakond', 9, 1], ['Võru maakond', 10, 24], ['Viljandi maakond', 10, 3], ['Valga maakond', 10, 7], ['Tartu maakond', 10, 5], ['Saare maakond', 10, 9], ['Rapla maakond', 10, 2], ['Pärnu maakond', 10, 2], ['Põlva maakond', 10, 4], ['Lääne-Viru maakond', 10, 1], ['Lääne maakond', 10, 5], ['Järva maakond', 10, 1], ['Jõgeva maakond', 10, 1], ['Ida-Viru maakond', 10, 2], ['Hiiu maakond', 10, 9], ['Harju maakond', 10, 1], ['Võru maakond', 11, 26], ['Viljandi maakond', 11, 2], ['Valga maakond', 11, 4], ['Tartu maakond', 11, 2], ['Saare maakond', 11, 10], ['Rapla maakond', 11, 3], ['Pärnu maakond', 11, 3], ['Lääne-Viru maakond', 11, 7], ['Lääne maakond', 11, 6], ['Järva maakond', 11, 1], ['Jõgeva maakond', 11, 1], ['Ida-Viru maakond', 11, 1], ['Hiiu maakond', 11, 19], ['Harju maakond', 11, 1], ['Võru maakond', 12, 26], ['Viljandi maakond', 12, 4], ['Valga maakond', 12, 6], ['Tartu maakond', 12, 5], ['Saare maakond', 12, 12], ['Rapla maakond', 12, 3], ['Pärnu maakond', 12, 2], ['Põlva maakond', 12, 9], ['Lääne-Viru maakond', 12, 2], ['Lääne maakond', 12, 7], ['Ida-Viru maakond', 12, 4], ['Harju maakond', 12, 24], ['Võru maakond', 1, 31], ['Viljandi maakond', 1, 7], ['Valga maakond', 1, 7], ['Tartu maakond', 1, 3], ['Saare maakond', 1, 6], ['Rapla maakond', 1, 2], ['Pärnu maakond', 1, 1], ['Lääne-Viru maakond', 1, 3], ['Lääne maakond', 1, 1], ['Järva maakond', 1, 3], ['Ida-Viru maakond', 1, 2], ['Hiiu maakond', 1, 22], ['Harju maakond', 1, 1], ['Võru maakond', 2, 37], ['Viljandi maakond', 2, 2], ['Valga maakond', 2, 3], ['Tartu maakond', 2, 2], ['Saare maakond', 2, 14], ['Pärnu maakond', 2, 1], ['Põlva maakond', 2, 3], ['Lääne-Viru maakond', 2, 3], ['Jõgeva maakond', 2, 5], ['Ida-Viru maakond', 2, 1], ['Hiiu maakond', 2, 14], ['Harju maakond', 2, 1], ['Viljandi maakond', 3, 24], ['Valga maakond', 3, 2], ['Tartu maakond', 3, 4], ['Saare maakond', 3, 8], ['Rapla maakond', 3, 1], ['Pärnu maakond', 3, 2], ['Põlva maakond', 3, 9], ['Lääne-Viru maakond', 3, 1], ['Lääne maakond', 3, 4], ['Järva maakond', 3, 2], ['Jõgeva maakond', 3, 2], ['Ida-Viru maakond', 3, 1], ['Harju maakond', 3, 10], ['Võru maakond', 4, 35], ['Viljandi maakond', 4, 4], ['Valga maakond', 4, 7], ['Tartu maakond', 4, 3], ['Saare maakond', 4, 9], ['Rapla maakond', 4, 1], ['Pärnu maakond', 4, 1], ['Põlva maakond', 4, 5], ['Lääne-Viru maakond', 4, 4], ['Järva maakond', 4, 10], ['Jõgeva maakond', 4, 2], ['Ida-Viru maakond', 4, 5], ['Hiiu maakond', 4, 26], ['Harju maakond', 4, 1], ['Võru maakond', 5, 53], ['Viljandi maakond', 5, 3], ['Valga maakond', 5, 2], ['Tartu maakond', 5, 7], ['!Sisestamata!', 5, 9], ['Saare maakond', 5, 1], ['Rapla maakond', 5, 2], ['Pärnu maakond', 5, 3], ['Põlva maakond', 5, 7], ['Lääne-Viru maakond', 5, 1], ['Lääne maakond', 5, 12], ['Järva maakond', 5, 1], ['Jõgeva maakond', 5, 1], ['Ida-Viru maakond', 5, 4], ['Harju maakond', 5, 24], ['Võru maakond', 6, 26], ['Viljandi maakond', 6, 6], ['Valga maakond', 6, 2], ['Tartu maakond', 6, 4], ['!Sisestamata!', 6, 10], ['Saare maakond', 6, 1], ['Rapla maakond', 6, 5], ['Pärnu maakond', 6, 6], ['Põlva maakond', 6, 4], ['Lääne-Viru maakond', 6, 1], ['Lääne maakond', 6, 13], ['Järva maakond', 6, 3], ['Jõgeva maakond', 6, 5], ['Ida-Viru maakond', 6, 6], ['Hiiu maakond', 6, 16], ['Harju maakond', 6, 2], ['Võru maakond', 7, 48], ['Valga maakond', 7, 3], ['Tartu maakond', 7, 4], ['Saare maakond', 7, 7], ['Rapla maakond', 7, 2], ['Pärnu maakond', 7, 2], ['Põlva maakond', 7, 1], ['Lääne-Viru maakond', 7, 3], ['Lääne maakond', 7, 5], ['Järva maakond', 7, 1], ['Jõgeva maakond', 7, 3], ['Ida-Viru maakond', 7, 3], ['Harju maakond', 7, 13], ['Võru maakond', 8, 24], ['Viljandi maakond', 8, 3], ['Valga maakond', 8, 4], ['Tartu maakond', 8, 2], ['!Sisestamata!', 8, 9], ['Saare maakond', 8, 1], ['Rapla maakond', 8, 1], ['Pärnu maakond', 8, 2], ['Põlva maakond', 8, 6], ['Lääne-Viru maakond', 8, 1], ['Lääne maakond', 8, 7], ['Järva maakond', 8, 2], ['Jõgeva maakond', 8, 5], ['Ida-Viru maakond', 8, 2], ['Harju maakond', 8, 25], ['Võru maakond', 9, 24], ['Viljandi maakond', 9, 2], ['Valga maakond', 9, 6], ['Tartu maakond', 9, 3], ['Rapla maakond', 9, 4], ['Pärnu maakond', 9, 1], ['Põlva maakond', 9, 9], ['Lääne-Viru maakond', 9, 2], ['Lääne maakond', 9, 6], ['Järva maakond', 9, 1], ['Jõgeva maakond', 9, 2], ['Ida-Viru maakond', 9, 2], ['Hiiu maakond', 9, 14], ['Harju maakond', 9, 2], ['Võru maakond', 10, 30], ['Viljandi maakond', 10, 1], ['Valga maakond', 10, 3], ['Tartu maakond', 10, 1], ['Saare maakond', 10, 8], ['Rapla maakond', 10, 1], ['Pärnu maakond', 10, 2], ['Põlva maakond', 10, 6], ['Lääne-Viru maakond', 10, 1], ['Järva maakond', 10, 4], ['Jõgeva maakond', 10, 2], ['Ida-Viru maakond', 10, 3], ['Hiiu maakond', 10, 11], ['Harju maakond', 10, 2], ['Võru maakond', 11, 26], ['Viljandi maakond', 11, 1], ['Tartu maakond', 11, 2], ['Saare maakond', 11, 10], ['Rapla maakond', 11, 1], ['Pärnu maakond', 11, 2], ['Põlva maakond', 11, 4], ['Lääne-Viru maakond', 11, 1], ['Lääne maakond', 11, 5], ['Järva maakond', 11, 3], ['Jõgeva maakond', 11, 2], ['Ida-Viru maakond', 11, 2], ['Harju maakond', 11, 11], ['Võru maakond', 12, 23], ['Viljandi maakond', 12, 4], ['Valga maakond', 12, 3], ['Tartu maakond', 12, 1], ['!Sisestamata!', 12, 10], ['Saare maakond', 12, 1], ['Rapla maakond', 12, 1], ['Pärnu maakond', 12, 5], ['Põlva maakond', 12, 3], ['Lääne-Viru maakond', 12, 4], ['Lääne maakond', 12, 7], ['Järva maakond', 12, 2], ['Jõgeva maakond', 12, 2], ['Ida-Viru maakond', 12, 2], ['Harju maakond', 12, 14], ['Võru maakond', 1, 31], ['Viljandi maakond', 1, 6], ['Valga maakond', 1, 4], ['Tartu maakond', 1, 2], ['Rapla maakond', 1, 9], ['Pärnu maakond', 1, 3], ['Põlva maakond', 1, 2], ['Lääne-Viru maakond', 1, 2], ['Lääne maakond', 1, 6], ['Järva maakond', 1, 1], ['Jõgeva maakond', 1, 2], ['Ida-Viru maakond', 1, 4], ['Hiiu maakond', 1, 12], ['Harju maakond', 1, 2], ['Võru maakond', 2, 25], ['Viljandi maakond', 2, 3], ['Valga maakond', 2, 1], ['Tartu maakond', 2, 2], ['Saare maakond', 2, 8], ['Rapla maakond', 2, 1], ['Pärnu maakond', 2, 1], ['Lääne-Viru maakond', 2, 8], ['Lääne maakond', 2, 3], ['Järva maakond', 2, 4], ['Ida-Viru maakond', 2, 2], ['Harju maakond', 2, 11], ['Võru maakond', 3, 22], ['Viljandi maakond', 3, 2], ['Valga maakond', 3, 2], ['Tartu maakond', 3, 4], ['Saare maakond', 3, 7], ['Pärnu maakond', 3, 2], ['Põlva maakond', 3, 4], ['Lääne-Viru maakond', 3, 3], ['Lääne maakond', 3, 3], ['Järva maakond', 3, 2], ['Jõgeva maakond', 3, 1], ['Ida-Viru maakond', 3, 4], ['Harju maakond', 3, 19], ['Võru maakond', 4, 33], ['Viljandi maakond', 4, 9], ['Valga maakond', 4, 2], ['Tartu maakond', 4, 1], ['Rapla maakond', 4, 9], ['Pärnu maakond', 4, 3], ['Põlva maakond', 4, 2], ['Lääne-Viru maakond', 4, 3], ['Järva maakond', 4, 8], ['Jõgeva maakond', 4, 2], ['Ida-Viru maakond', 4, 5], ['Harju maakond', 4, 11], ['Võru maakond', 5, 28], ['Viljandi maakond', 5, 2], ['Valga maakond', 5, 4], ['Tartu maakond', 5, 1], ['Saare maakond', 5, 10], ['Rapla maakond', 5, 3], ['Pärnu maakond', 5, 3], ['Põlva maakond', 5, 2], ['Lääne-Viru maakond', 5, 2], ['Lääne maakond', 5, 5], ['Järva maakond', 5, 3], ['Jõgeva maakond', 5, 5], ['Ida-Viru maakond', 5, 4], ['Hiiu maakond', 5, 12], ['Harju maakond', 5, 1], ['Võru maakond', 6, 39], ['Viljandi maakond', 6, 4], ['Tartu maakond', 6, 6], ['Saare maakond', 6, 6], ['Rapla maakond', 6, 2], ['Pärnu maakond', 6, 4], ['Põlva maakond', 6, 5], ['Lääne-Viru maakond', 6, 7], ['Lääne maakond', 6, 7], ['Järva maakond', 6, 2], ['Jõgeva maakond', 6, 3], ['Ida-Viru maakond', 6, 5], ['Harju maakond', 6, 16], ['Võru maakond', 7, 34], ['Viljandi maakond', 7, 2], ['Valga maakond', 7, 4], ['Tartu maakond', 7, 5], ['Saare maakond', 7, 9], ['Rapla maakond', 7, 3], ['Pärnu maakond', 7, 3], ['Põlva maakond', 7, 3], ['Lääne-Viru maakond', 7, 1], ['Järva maakond', 7, 4], ['Jõgeva maakond', 7, 3], ['Ida-Viru maakond', 7, 3], ['Harju maakond', 7, 19], ['Võru maakond', 8, 26], ['Viljandi maakond', 8, 3], ['Valga maakond', 8, 4], ['Tartu maakond', 8, 4], ['Saare maakond', 8, 11], ['Rapla maakond', 8, 2], ['Pärnu maakond', 8, 2], ['Põlva maakond', 8, 7], ['Lääne-Viru maakond', 8, 1], ['Lääne maakond', 8, 6], ['Järva maakond', 8, 2], ['Jõgeva maakond', 8, 2], ['Ida-Viru maakond', 8, 1], ['Hiiu maakond', 8, 12], ['Harju maakond', 8, 1], ['Võru maakond', 9, 35], ['Viljandi maakond', 9, 3], ['Valga maakond', 9, 2], ['Tartu maakond', 9, 4], ['Saare maakond', 9, 10], ['Rapla maakond', 9, 2], ['Pärnu maakond', 9, 1], ['Põlva maakond', 9, 7], ['Lääne-Viru maakond', 9, 1], ['Järva maakond', 9, 6], ['Jõgeva maakond', 9, 1], ['Ida-Viru maakond', 9, 2], ['Harju maakond', 9, 15], ['Võru maakond', 10, 27], ['Viljandi maakond', 10, 3], ['Valga maakond', 10, 3], ['Tartu maakond', 10, 1], ['Saare maakond', 10, 7], ['Rapla maakond', 10, 2], ['Pärnu maakond', 10, 1], ['Lääne-Viru maakond', 10, 2], ['Järva maakond', 10, 2], ['Ida-Viru maakond', 10, 6], ['Harju maakond', 10, 13], ['Võru maakond', 11, 23], ['Viljandi maakond', 11, 2], ['Valga maakond', 11, 1], ['Tartu maakond', 11, 2], ['Pärnu maakond', 11, 9], ['Põlva maakond', 11, 3], ['Lääne-Viru maakond', 11, 1], ['Järva maakond', 11, 1], ['Ida-Viru maakond', 11, 1], ['Harju maakond', 11, 8]]\n"
     ]
    }
   ],
   "source": [
    "def dataset_with_counties_months(data):\n",
    "    array = []\n",
    "    for i in data:\n",
    "        for j in range(i[5]):\n",
    "            array.append([i[0], i[4]])\n",
    "    return array\n",
    "dataframe = pd.DataFrame((dataset_with_counties_months(data)), columns=['Maakond', 'Kuu'])\n",
    "dataframe['Hoonetulekahjud']=dataframe.groupby(by=['Maakond', 'Kuu'])['Maakond'].transform('count')\n",
    "#dataframe = dataframe.drop_duplicates()\n",
    "\n",
    "uusdata = dataframe.values\n",
    "aastatega = []\n",
    "loendur = 1\n",
    "eelminemaakond = \"\"\n",
    "eelminekuu = 0\n",
    "eelminecount = 0\n",
    "for rida in uusdata:\n",
    "    #print(rida[2])\n",
    "    if rida[0] == eelminemaakond and rida[2]==eelminecount:\n",
    "        loendur = loendur + 1\n",
    "        \n",
    "    else:\n",
    "        aastatega.append(eelminemaakond, eelminekuu, rida[2]/loendur])\n",
    "        eelminemaakond = rida[0]\n",
    "        eelminekuu = rida[1]\n",
    "        eelminecount = rida[2]\n",
    "        loendur = 1\n",
    "\n",
    "    \n",
    "print(aastatega)\n",
    "#print(dataframe)"
   ]
  },
  {
   "cell_type": "code",
   "execution_count": 30,
   "metadata": {
    "scrolled": true
   },
   "outputs": [
    {
     "name": "stdout",
     "output_type": "stream",
     "text": [
      "[['Valga maakond' 2014 'Mitteeluhooned' '!Sisestamata!' 3 1]\n",
      " ['Tartu maakond' 2014 'Mitteeluhooned' '!Sisestamata!' 3 3]\n",
      " ['Rapla maakond' 2014 'Mitteeluhooned' '!Sisestamata!' 3 1]\n",
      " ...\n",
      " ['Harju maakond' 2020 '!Sisestamata!' '!Sisestamata!' 11 1]\n",
      " ['Harju maakond' 2020 'Eluhooned' '!Sisestamata!' 11 1]\n",
      " ['Harju maakond' 2020 'Mitteeluhooned' '!Sisestamata!' 11 5]]\n"
     ]
    },
    {
     "ename": "TypeError",
     "evalue": "only integer scalar arrays can be converted to a scalar index",
     "output_type": "error",
     "traceback": [
      "\u001b[0;31m---------------------------------------------------------------------------\u001b[0m",
      "\u001b[0;31mTypeError\u001b[0m                                 Traceback (most recent call last)",
      "\u001b[0;32m<ipython-input-30-37bcfacc8cc9>\u001b[0m in \u001b[0;36m<module>\u001b[0;34m\u001b[0m\n\u001b[1;32m      9\u001b[0m \u001b[0mdataY\u001b[0m \u001b[0;34m=\u001b[0m \u001b[0my_train\u001b[0m\u001b[0;34m.\u001b[0m\u001b[0mvalues\u001b[0m\u001b[0;34m\u001b[0m\u001b[0;34m\u001b[0m\u001b[0m\n\u001b[1;32m     10\u001b[0m \u001b[0mprint\u001b[0m\u001b[0;34m(\u001b[0m\u001b[0mdata\u001b[0m\u001b[0;34m)\u001b[0m\u001b[0;34m\u001b[0m\u001b[0;34m\u001b[0m\u001b[0m\n\u001b[0;32m---> 11\u001b[0;31m \u001b[0mdataframe_counties_months\u001b[0m \u001b[0;34m=\u001b[0m \u001b[0mpd\u001b[0m\u001b[0;34m.\u001b[0m\u001b[0mDataFrame\u001b[0m\u001b[0;34m(\u001b[0m\u001b[0;34m(\u001b[0m\u001b[0mdataset_with_counties_months\u001b[0m\u001b[0;34m(\u001b[0m\u001b[0mdataX\u001b[0m\u001b[0;34m,\u001b[0m \u001b[0mdataY\u001b[0m\u001b[0;34m)\u001b[0m\u001b[0;34m)\u001b[0m\u001b[0;34m,\u001b[0m \u001b[0mcolumns\u001b[0m\u001b[0;34m=\u001b[0m\u001b[0;34m[\u001b[0m\u001b[0;34m'Maakond'\u001b[0m\u001b[0;34m,\u001b[0m\u001b[0;34m'Kuu'\u001b[0m\u001b[0;34m]\u001b[0m\u001b[0;34m)\u001b[0m\u001b[0;34m\u001b[0m\u001b[0;34m\u001b[0m\u001b[0m\n\u001b[0m\u001b[1;32m     12\u001b[0m \u001b[0;34m\u001b[0m\u001b[0m\n\u001b[1;32m     13\u001b[0m \u001b[0;31m#dataframe_counties_months['Hoonetulekahjud']=dataframe_counties_months.groupby(by=['Maakond', 'Kuu'])['Maakond'].transform('count')\u001b[0m\u001b[0;34m\u001b[0m\u001b[0;34m\u001b[0m\u001b[0;34m\u001b[0m\u001b[0m\n",
      "\u001b[0;32m<ipython-input-30-37bcfacc8cc9>\u001b[0m in \u001b[0;36mdataset_with_counties_months\u001b[0;34m(X_train, y_train)\u001b[0m\n\u001b[1;32m      2\u001b[0m     \u001b[0marray\u001b[0m \u001b[0;34m=\u001b[0m \u001b[0;34m[\u001b[0m\u001b[0;34m]\u001b[0m\u001b[0;34m\u001b[0m\u001b[0;34m\u001b[0m\u001b[0m\n\u001b[1;32m      3\u001b[0m     \u001b[0;32mfor\u001b[0m \u001b[0mi\u001b[0m \u001b[0;32min\u001b[0m \u001b[0mX_train\u001b[0m\u001b[0;34m:\u001b[0m\u001b[0;34m\u001b[0m\u001b[0;34m\u001b[0m\u001b[0m\n\u001b[0;32m----> 4\u001b[0;31m         \u001b[0;32mfor\u001b[0m \u001b[0mj\u001b[0m \u001b[0;32min\u001b[0m \u001b[0mrange\u001b[0m\u001b[0;34m(\u001b[0m\u001b[0my_train\u001b[0m\u001b[0;34m)\u001b[0m\u001b[0;34m:\u001b[0m\u001b[0;34m\u001b[0m\u001b[0;34m\u001b[0m\u001b[0m\n\u001b[0m\u001b[1;32m      5\u001b[0m             \u001b[0marray\u001b[0m\u001b[0;34m.\u001b[0m\u001b[0mappend\u001b[0m\u001b[0;34m(\u001b[0m\u001b[0;34m[\u001b[0m\u001b[0mi\u001b[0m\u001b[0;34m[\u001b[0m\u001b[0;36m0\u001b[0m\u001b[0;34m]\u001b[0m\u001b[0;34m,\u001b[0m \u001b[0mi\u001b[0m\u001b[0;34m[\u001b[0m\u001b[0;36m2\u001b[0m\u001b[0;34m]\u001b[0m\u001b[0;34m]\u001b[0m\u001b[0;34m)\u001b[0m\u001b[0;34m\u001b[0m\u001b[0;34m\u001b[0m\u001b[0m\n\u001b[1;32m      6\u001b[0m     \u001b[0;32mreturn\u001b[0m \u001b[0marray\u001b[0m\u001b[0;34m\u001b[0m\u001b[0;34m\u001b[0m\u001b[0m\n",
      "\u001b[0;31mTypeError\u001b[0m: only integer scalar arrays can be converted to a scalar index"
     ]
    }
   ],
   "source": [
    "def dataset_with_counties_months(X_train, y_train):\n",
    "    array = []\n",
    "    for i in X_train:\n",
    "        for j in range(y_train):\n",
    "            array.append([i[0], i[2]])\n",
    "    return array\n",
    "\n",
    "dataX = X_train.values\n",
    "dataY = y_train.values\n",
    "print(data)\n",
    "dataframe_counties_months = pd.DataFrame((dataset_with_counties_months(dataX, dataY)), columns=['Maakond','Kuu'])\n",
    "\n",
    "#dataframe_counties_months['Hoonetulekahjud']=dataframe_counties_months.groupby(by=['Maakond', 'Kuu'])['Maakond'].transform('count')\n",
    "dataframe_counties_months['Hoonetulekahjud']=dataframe_counties_months.groupby(by=['Maakond', 'Kuu'])['Maakond'].transform('count')\n",
    "dataframe_counties_months = dataframe_counties_months.drop_duplicates()\n",
    "dataframe_counties_months"
   ]
  },
  {
   "cell_type": "markdown",
   "metadata": {},
   "source": [
    "### Using random forest classifier"
   ]
  },
  {
   "cell_type": "code",
   "execution_count": null,
   "metadata": {},
   "outputs": [],
   "source": [
    "from sklearn.ensemble import RandomForestClassifier\n",
    "from sklearn.ensemble import RandomForestRegressor\n",
    "from sklearn.metrics import confusion_matrix\n",
    "train_X, test_X,train_y, test_y = train_test_split(X_train, y_train,random_state=100, \n",
    "                                                   test_size = 0.3)\n",
    "# TODO\n",
    "rf = RandomForestRegressor(criterion='mse',max_depth=6,n_estimators=200)\n",
    "rf.fit(X_train,y_train)"
   ]
  },
  {
   "cell_type": "markdown",
   "metadata": {},
   "source": [
    "# SIIANI"
   ]
  },
  {
   "cell_type": "code",
   "execution_count": null,
   "metadata": {},
   "outputs": [],
   "source": [
    "import sklearn\n",
    "from sklearn.model_selection import train_test_split\n",
    "\n",
    "data_single = []\n",
    "data_copy = data.copy()\n",
    "for i in data_copy:\n",
    "    for j in range(i[5]):\n",
    "        i[5] = 1\n",
    "        data_single.append(i)\n",
    "single = pd.DataFrame(data=data_df, columns=['Maakond', 'Aasta', 'Hoone liik', 'Tekkepõhjus',\n",
    "                                             'Kuu', 'Hoonetulekahjud'])\n",
    "single.head()"
   ]
  },
  {
   "cell_type": "code",
   "execution_count": null,
   "metadata": {},
   "outputs": [],
   "source": [
    "data_dum = pd.get_dummies(data_df, columns=['Maakond', 'Hoone liik', \n",
    "                                                                  'Tekkepõhjus'])\n",
    "test, train = sklearn.model_selection.train_test_split(data_dum, train_size=0.7)\n",
    "X_train = train.drop(columns=['Hoonetulekahjud'])\n",
    "y_train = train['Hoonetulekahjud']\n",
    "X_test = test.drop(columns=['Hoonetulekahjud'])\n",
    "y_test = test['Hoonetulekahjud']\n"
   ]
  },
  {
   "cell_type": "code",
   "execution_count": null,
   "metadata": {},
   "outputs": [],
   "source": [
    "from sklearn.ensemble import RandomForestClassifier\n",
    "from sklearn.ensemble import RandomForestRegressor\n",
    "from sklearn.metrics import confusion_matrix\n",
    "train_X, test_X,train_y, test_y = train_test_split(X_train, y_train,random_state=100, \n",
    "                                                   test_size = 0.3)\n",
    "# TODO\n",
    "rf = RandomForestRegressor(criterion='mse',max_depth=6,n_estimators=200)\n",
    "rf.fit(X_train,y_train)"
   ]
  },
  {
   "cell_type": "code",
   "execution_count": null,
   "metadata": {},
   "outputs": [],
   "source": [
    "from sklearn.metrics import make_scorer, mean_squared_error\n",
    "def RMSE(true_y, preds):\n",
    "    return np.sqrt(mean_squared_error(true_y, preds))\n",
    "rmse_scorer = make_scorer(RMSE, greater_is_better=False) #make own scorer"
   ]
  },
  {
   "cell_type": "code",
   "execution_count": null,
   "metadata": {},
   "outputs": [],
   "source": [
    "RMSE(rf.predict(X_train),y_train)"
   ]
  },
  {
   "cell_type": "code",
   "execution_count": null,
   "metadata": {},
   "outputs": [],
   "source": [
    "RMSE(rf.predict(X_test),y_test)"
   ]
  },
  {
   "cell_type": "code",
   "execution_count": null,
   "metadata": {},
   "outputs": [],
   "source": [
    "from sklearn.neighbors import KNeighborsClassifier\n",
    "from sklearn.metrics import accuracy_score\n",
    "results_df = pd.DataFrame(columns=['model', 'accuracy'])\n",
    "\n",
    "# TODO: uncomment and fill in\n",
    "\n",
    "model = KNeighborsClassifier(n_neighbors = 12)\n",
    "model.fit(X_train, y_train)\n",
    "acc = accuracy_score(y_test, model.predict(X_test))\n",
    "results_df = results_df.append({'model': '12-NN', 'accuracy': acc }, ignore_index=True)\n",
    "results_df\n",
    "#print out the dataframe"
   ]
  },
  {
   "cell_type": "code",
   "execution_count": null,
   "metadata": {},
   "outputs": [],
   "source": [
    "for i in range(18, 24, 2):\n",
    "    model = KNeighborsClassifier(n_neighbors = i)\n",
    "    model.fit(X_train, y_train)\n",
    "    acc = accuracy_score(y_test, model.predict(X_test))\n",
    "    results_df = results_df.append({'model': str(i)+'-NN', 'accuracy': acc }, ignore_index=True)\n",
    "results_df"
   ]
  },
  {
   "cell_type": "code",
   "execution_count": null,
   "metadata": {},
   "outputs": [],
   "source": [
    "model = KNeighborsClassifier(n_neighbors = 12, metric='manhattan')\n",
    "model.fit(X_train, y_train)\n",
    "acc = accuracy_score(y_test, model.predict(X_test))\n",
    "results_df = results_df.append({'model': '12-NN, metric=manhattan', 'accuracy': acc }, ignore_index=True)\n",
    "for i in range(18, 24, 2):\n",
    "    model = KNeighborsClassifier(n_neighbors = i, metric='manhattan')\n",
    "    model.fit(X_train, y_train)\n",
    "    acc = accuracy_score(y_test, model.predict(X_test))\n",
    "    results_df = results_df.append({'model': str(i)+'-NN, metric=manhattan', 'accuracy': acc }, ignore_index=True)\n",
    "results_df"
   ]
  },
  {
   "cell_type": "code",
   "execution_count": null,
   "metadata": {},
   "outputs": [],
   "source": [
    "results_df.sort_values(['accuracy'], ascending=False) "
   ]
  },
  {
   "cell_type": "code",
   "execution_count": null,
   "metadata": {},
   "outputs": [],
   "source": [
    "from sklearn import tree\n",
    "model = tree.DecisionTreeClassifier(random_state = 0)\n",
    "model.fit(X_train, y_train)\n",
    "acc = accuracy_score(y_test, model.predict(X_test))\n",
    "results_df = results_df.append({'model': 'Model 3a' , 'accuracy': acc }, ignore_index=True)\n",
    "results_df\n",
    "# TODO"
   ]
  },
  {
   "cell_type": "code",
   "execution_count": null,
   "metadata": {},
   "outputs": [],
   "source": [
    "model = tree.DecisionTreeClassifier(random_state = 3)\n",
    "model.fit(X_train, y_train)\n",
    "acc = accuracy_score(y_test, model.predict(X_test))\n",
    "results_df = results_df.append({'model': 'Model 3b' , 'accuracy': acc }, ignore_index=True)\n",
    "results_df"
   ]
  },
  {
   "cell_type": "code",
   "execution_count": null,
   "metadata": {},
   "outputs": [],
   "source": [
    "model = tree.DecisionTreeClassifier(random_state = 0, criterion='entropy')\n",
    "model.fit(X_train, y_train)\n",
    "acc = accuracy_score(y_test, model.predict(X_test))\n",
    "results_df = results_df.append({'model': 'Model 3d' , 'accuracy': acc }, ignore_index=True)\n",
    "results_df"
   ]
  },
  {
   "cell_type": "code",
   "execution_count": null,
   "metadata": {},
   "outputs": [],
   "source": [
    "model = tree.DecisionTreeClassifier(random_state = 0, criterion='entropy', min_samples_leaf = 10)\n",
    "model.fit(X_train, y_train)\n",
    "acc = accuracy_score(y_test, model.predict(X_test))\n",
    "results_df = results_df.append({'model': 'Model 3e' , 'accuracy': acc }, ignore_index=True)\n",
    "results_df"
   ]
  },
  {
   "cell_type": "code",
   "execution_count": null,
   "metadata": {},
   "outputs": [],
   "source": [
    " results_df.sort_values(['accuracy'], ascending=False).plot(kind='bar', x='model', y='accuracy')\n",
    "plt.show()"
   ]
  },
  {
   "cell_type": "code",
   "execution_count": null,
   "metadata": {},
   "outputs": [],
   "source": [
    "#Highest accuracy\n",
    "results_df.sort_values(['accuracy'], ascending=False).head(1)"
   ]
  },
  {
   "cell_type": "code",
   "execution_count": null,
   "metadata": {},
   "outputs": [],
   "source": []
  },
  {
   "cell_type": "code",
   "execution_count": null,
   "metadata": {},
   "outputs": [],
   "source": []
  }
 ],
 "metadata": {
  "kernelspec": {
   "display_name": "Python 3",
   "language": "python",
   "name": "python3"
  },
  "language_info": {
   "codemirror_mode": {
    "name": "ipython",
    "version": 3
   },
   "file_extension": ".py",
   "mimetype": "text/x-python",
   "name": "python",
   "nbconvert_exporter": "python",
   "pygments_lexer": "ipython3",
   "version": "3.8.3"
  }
 },
 "nbformat": 4,
 "nbformat_minor": 4
}
