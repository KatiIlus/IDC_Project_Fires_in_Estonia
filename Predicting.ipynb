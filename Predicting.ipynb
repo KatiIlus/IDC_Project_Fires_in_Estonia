{
 "cells": [
  {
   "cell_type": "markdown",
   "metadata": {},
   "source": [
    "# Predicting"
   ]
  },
  {
   "cell_type": "markdown",
   "metadata": {},
   "source": [
    "### Creating a dataset with only counties, years and months.\n",
    "\n",
    "Removed the building type and cause columns to make the predicting more accurate."
   ]
  },
  {
   "cell_type": "code",
   "execution_count": 49,
   "metadata": {},
   "outputs": [
    {
     "data": {
      "text/html": [
       "<div>\n",
       "<style scoped>\n",
       "    .dataframe tbody tr th:only-of-type {\n",
       "        vertical-align: middle;\n",
       "    }\n",
       "\n",
       "    .dataframe tbody tr th {\n",
       "        vertical-align: top;\n",
       "    }\n",
       "\n",
       "    .dataframe thead th {\n",
       "        text-align: right;\n",
       "    }\n",
       "</style>\n",
       "<table border=\"1\" class=\"dataframe\">\n",
       "  <thead>\n",
       "    <tr style=\"text-align: right;\">\n",
       "      <th></th>\n",
       "      <th>Maakond</th>\n",
       "      <th>Aasta</th>\n",
       "      <th>Hoone liik</th>\n",
       "      <th>Tekkepõhjus</th>\n",
       "      <th>Kuu</th>\n",
       "      <th>Hoonetulekahjud</th>\n",
       "    </tr>\n",
       "  </thead>\n",
       "  <tbody>\n",
       "    <tr>\n",
       "      <th>0</th>\n",
       "      <td>Valga maakond</td>\n",
       "      <td>2014</td>\n",
       "      <td>Mitteeluhooned</td>\n",
       "      <td>!Sisestamata!</td>\n",
       "      <td>3</td>\n",
       "      <td>1</td>\n",
       "    </tr>\n",
       "    <tr>\n",
       "      <th>1</th>\n",
       "      <td>Tartu maakond</td>\n",
       "      <td>2014</td>\n",
       "      <td>Mitteeluhooned</td>\n",
       "      <td>!Sisestamata!</td>\n",
       "      <td>3</td>\n",
       "      <td>3</td>\n",
       "    </tr>\n",
       "    <tr>\n",
       "      <th>2</th>\n",
       "      <td>Rapla maakond</td>\n",
       "      <td>2014</td>\n",
       "      <td>Mitteeluhooned</td>\n",
       "      <td>!Sisestamata!</td>\n",
       "      <td>3</td>\n",
       "      <td>1</td>\n",
       "    </tr>\n",
       "    <tr>\n",
       "      <th>3</th>\n",
       "      <td>Lääne maakond</td>\n",
       "      <td>2014</td>\n",
       "      <td>Mitteeluhooned</td>\n",
       "      <td>!Sisestamata!</td>\n",
       "      <td>3</td>\n",
       "      <td>1</td>\n",
       "    </tr>\n",
       "    <tr>\n",
       "      <th>4</th>\n",
       "      <td>Harju maakond</td>\n",
       "      <td>2014</td>\n",
       "      <td>Mitteeluhooned</td>\n",
       "      <td>!Sisestamata!</td>\n",
       "      <td>3</td>\n",
       "      <td>2</td>\n",
       "    </tr>\n",
       "  </tbody>\n",
       "</table>\n",
       "</div>"
      ],
      "text/plain": [
       "         Maakond  Aasta      Hoone liik    Tekkepõhjus  Kuu  Hoonetulekahjud\n",
       "0  Valga maakond   2014  Mitteeluhooned  !Sisestamata!    3                1\n",
       "1  Tartu maakond   2014  Mitteeluhooned  !Sisestamata!    3                3\n",
       "2  Rapla maakond   2014  Mitteeluhooned  !Sisestamata!    3                1\n",
       "3  Lääne maakond   2014  Mitteeluhooned  !Sisestamata!    3                1\n",
       "4  Harju maakond   2014  Mitteeluhooned  !Sisestamata!    3                2"
      ]
     },
     "execution_count": 49,
     "metadata": {},
     "output_type": "execute_result"
    }
   ],
   "source": [
    "import numpy as np\n",
    "import pandas as pd\n",
    "import matplotlib.pyplot as plt\n",
    "from sklearn.cluster import KMeans\n",
    "\n",
    "data_df = pd.read_csv(\"hoonetulekahjud.csv\")\n",
    "data = data_df.values\n",
    "data_df.head()"
   ]
  },
  {
   "cell_type": "code",
   "execution_count": 50,
   "metadata": {},
   "outputs": [
    {
     "data": {
      "text/html": [
       "<div>\n",
       "<style scoped>\n",
       "    .dataframe tbody tr th:only-of-type {\n",
       "        vertical-align: middle;\n",
       "    }\n",
       "\n",
       "    .dataframe tbody tr th {\n",
       "        vertical-align: top;\n",
       "    }\n",
       "\n",
       "    .dataframe thead th {\n",
       "        text-align: right;\n",
       "    }\n",
       "</style>\n",
       "<table border=\"1\" class=\"dataframe\">\n",
       "  <thead>\n",
       "    <tr style=\"text-align: right;\">\n",
       "      <th></th>\n",
       "      <th>Maakond</th>\n",
       "      <th>Aasta</th>\n",
       "      <th>Kuu</th>\n",
       "      <th>Hoonetulekahjud</th>\n",
       "    </tr>\n",
       "  </thead>\n",
       "  <tbody>\n",
       "    <tr>\n",
       "      <th>0</th>\n",
       "      <td>Valga maakond</td>\n",
       "      <td>2014</td>\n",
       "      <td>3</td>\n",
       "      <td>1</td>\n",
       "    </tr>\n",
       "    <tr>\n",
       "      <th>1</th>\n",
       "      <td>Tartu maakond</td>\n",
       "      <td>2014</td>\n",
       "      <td>3</td>\n",
       "      <td>3</td>\n",
       "    </tr>\n",
       "    <tr>\n",
       "      <th>4</th>\n",
       "      <td>Rapla maakond</td>\n",
       "      <td>2014</td>\n",
       "      <td>3</td>\n",
       "      <td>1</td>\n",
       "    </tr>\n",
       "    <tr>\n",
       "      <th>5</th>\n",
       "      <td>Lääne maakond</td>\n",
       "      <td>2014</td>\n",
       "      <td>3</td>\n",
       "      <td>1</td>\n",
       "    </tr>\n",
       "    <tr>\n",
       "      <th>6</th>\n",
       "      <td>Harju maakond</td>\n",
       "      <td>2014</td>\n",
       "      <td>3</td>\n",
       "      <td>2</td>\n",
       "    </tr>\n",
       "  </tbody>\n",
       "</table>\n",
       "</div>"
      ],
      "text/plain": [
       "         Maakond  Aasta  Kuu  Hoonetulekahjud\n",
       "0  Valga maakond   2014    3                1\n",
       "1  Tartu maakond   2014    3                3\n",
       "4  Rapla maakond   2014    3                1\n",
       "5  Lääne maakond   2014    3                1\n",
       "6  Harju maakond   2014    3                2"
      ]
     },
     "execution_count": 50,
     "metadata": {},
     "output_type": "execute_result"
    }
   ],
   "source": [
    "def dataset_with_counties_years_months(data):\n",
    "    array = []\n",
    "    for i in data:\n",
    "        for j in range(i[5]):\n",
    "            array.append([i[0], i[1], i[4]])\n",
    "    return array\n",
    "dataframe = pd.DataFrame((dataset_with_counties_years_months(data)), columns=['Maakond', 'Aasta','Kuu'])\n",
    "dataframe['Hoonetulekahjud']=dataframe.groupby(by=['Maakond','Aasta', 'Kuu'])['Maakond'].transform('count')\n",
    "dataframe = dataframe.drop_duplicates()\n",
    "\n",
    "dataframe.head()"
   ]
  },
  {
   "cell_type": "markdown",
   "metadata": {},
   "source": [
    "\n",
    "### Splitting the data into training and test data.\n"
   ]
  },
  {
   "cell_type": "code",
   "execution_count": 51,
   "metadata": {},
   "outputs": [],
   "source": [
    "import sklearn\n",
    "from sklearn.model_selection import train_test_split\n",
    "\n",
    "#data_dum = pd.get_dummies(data_df, columns=['Maakond', 'Aasta', 'Kuu'])\n",
    "#data_dum = pd.get_dummies(dataframe, columns=['Maakond', 'Aasta', 'Kuu'])\n",
    "\n",
    "test, train = sklearn.model_selection.train_test_split(dataframe, train_size = 0.7)\n",
    "X_train = train.drop(columns=['Hoonetulekahjud'])\n",
    "y_train = train['Hoonetulekahjud']\n",
    "X_test = test.drop(columns=['Hoonetulekahjud'])\n",
    "y_test = test['Hoonetulekahjud']"
   ]
  },
  {
   "cell_type": "markdown",
   "metadata": {},
   "source": [
    "### Creating a dataset with only counties and months (not including the years). Majority class classifier.\n",
    "\n"
   ]
  },
  {
   "cell_type": "code",
   "execution_count": 52,
   "metadata": {},
   "outputs": [
    {
     "name": "stdout",
     "output_type": "stream",
     "text": [
      "[['', 0, 19.0], ['Valga maakond', 3, 62.0], ['Tartu maakond', 3, 3.3333333333333335], ['Rapla maakond', 3, 9.0], ['Lääne maakond', 3, 238.0], ['Harju maakond', 3, 16.0], ['Võru maakond', 4, 5.833333333333333], ['Viljandi maakond', 4, 3.375], ['Valga maakond', 4, 8.2], ['Tartu maakond', 4, 0.6086956521739131], ['Saare maakond', 4, 8.0], ['Rapla maakond', 4, 8.428571428571429], ['Pärnu maakond', 4, 0.9090909090909091], ['Põlva maakond', 4, 22.333333333333332], ['Lääne-Viru maakond', 4, 0.5238095238095238], ['Lääne maakond', 4, 5.4], ['Järva maakond', 4, 4.428571428571429], ['Jõgeva maakond', 4, 19.875], ['Ida-Viru maakond', 4, 0.15], ['Hiiu maakond', 4, 358.0], ['Harju maakond', 4, 0.26881720430107525], ['Võru maakond', 5, 3.8333333333333335], ['Viljandi maakond', 5, 7.0], ['Valga maakond', 5, 12.833333333333334], ['Tartu maakond', 5, 1.25], ['Saare maakond', 5, 7.75], ['Rapla maakond', 5, 10.0], ['Pärnu maakond', 5, 6.222222222222222], ['Lääne-Viru maakond', 5, 1.0], ['Lääne maakond', 5, 25.0], ['Järva maakond', 5, 3.8333333333333335], ['Jõgeva maakond', 5, 179.0], ['Ida-Viru maakond', 5, 9.023255813953488], ['Harju maakond', 5, 0.28703703703703703], ['Võru maakond', 6, 9.333333333333334], ['Viljandi maakond', 6, 12.666666666666666], ['Valga maakond', 6, 21.666666666666668], ['Tartu maakond', 6, 2.0], ['Saare maakond', 6, 5.0], ['Rapla maakond', 6, 12.0], ['Pärnu maakond', 6, 2.1], ['Põlva maakond', 6, 33.0], ['Lääne-Viru maakond', 6, 1.875], ['Lääne maakond', 6, 5.25], ['Järva maakond', 6, 6.5], ['Jõgeva maakond', 6, 41.6], ['Ida-Viru maakond', 6, 0.22580645161290322], ['Hiiu maakond', 6, 339.0], ['Harju maakond', 6, 0.25], ['Võru maakond', 7, 9.666666666666666], ['Viljandi maakond', 7, 5.333333333333333], ['Valga maakond', 7, 25.666666666666668], ['Tartu maakond', 7, 1.2666666666666666], ['Saare maakond', 7, 20.0], ['Rapla maakond', 7, 12.0], ['Pärnu maakond', 7, 1.6], ['Põlva maakond', 7, 28.0], ['Lääne-Viru maakond', 7, 1.5555555555555556], ['Lääne maakond', 7, 5.5], ['Järva maakond', 7, 8.0], ['Jõgeva maakond', 7, 28.4], ['Ida-Viru maakond', 7, 9.266666666666667], ['Harju maakond', 7, 0.4716981132075472], ['Võru maakond', 8, 2.6666666666666665], ['Viljandi maakond', 8, 5.2], ['Valga maakond', 8, 12.0], ['Tartu maakond', 8, 1.6], ['Saare maakond', 8, 4.2], ['Rapla maakond', 8, 4.875], ['Pärnu maakond', 8, 7.625], ['Lääne-Viru maakond', 8, 1.6666666666666667], ['Lääne maakond', 8, 21.0], ['Järva maakond', 8, 7.0], ['Jõgeva maakond', 8, 41.75], ['Ida-Viru maakond', 8, 8.073170731707316], ['Harju maakond', 8, 0.24107142857142858], ['Võru maakond', 9, 2.625], ['Viljandi maakond', 9, 6.0], ['Valga maakond', 9, 5.4], ['Tartu maakond', 9, 1.2], ['Saare maakond', 9, 7.0], ['Rapla maakond', 9, 45.0], ['Pärnu maakond', 9, 1.1818181818181819], ['Põlva maakond', 9, 12.75], ['Lääne-Viru maakond', 9, 0.5833333333333334], ['Lääne maakond', 9, 6.0], ['Järva maakond', 9, 2.5], ['Jõgeva maakond', 9, 13.3], ['Ida-Viru maakond', 9, 0.125], ['Hiiu maakond', 9, 261.0], ['Harju maakond', 9, 0.46551724137931033], ['Võru maakond', 10, 8.0], ['Viljandi maakond', 10, 7.333333333333333], ['Valga maakond', 10, 9.714285714285714], ['Tartu maakond', 10, 1.1666666666666667], ['Saare maakond', 10, 5.333333333333333], ['Rapla maakond', 10, 13.0], ['Pärnu maakond', 10, 0.5625], ['Põlva maakond', 10, 11.0], ['Lääne-Viru maakond', 10, 1.3333333333333333], ['Lääne maakond', 10, 12.5], ['Järva maakond', 10, 2.857142857142857], ['Jõgeva maakond', 10, 28.75], ['Ida-Viru maakond', 10, 7.470588235294118], ['Harju maakond', 10, 0.34782608695652173], ['Võru maakond', 11, 4.2], ['Viljandi maakond', 11, 4.2], ['Valga maakond', 11, 23.0], ['Tartu maakond', 11, 0.5], ['Saare maakond', 11, 14.0], ['Rapla maakond', 11, 20.5], ['Pärnu maakond', 11, 1.0], ['Põlva maakond', 11, 12.666666666666666], ['Lääne-Viru maakond', 11, 1.4285714285714286], ['Lääne maakond', 11, 9.0], ['Järva maakond', 11, 3.4], ['Jõgeva maakond', 11, 49.0], ['Ida-Viru maakond', 11, 0.2631578947368421], ['Hiiu maakond', 11, 215.0], ['Harju maakond', 11, 0.42], ['Võru maakond', 12, 7.5], ['Viljandi maakond', 12, 2.8], ['Valga maakond', 12, 33.0], ['Tartu maakond', 12, 1.0714285714285714], ['Saare maakond', 12, 7.5], ['Rapla maakond', 12, 13.666666666666666], ['Pärnu maakond', 12, 1.5], ['Põlva maakond', 12, 10.0], ['Lääne-Viru maakond', 12, 0.9285714285714286], ['Lääne maakond', 12, 20.0], ['Järva maakond', 12, 2.5], ['Jõgeva maakond', 12, 37.0], ['Ida-Viru maakond', 12, 11.6], ['Harju maakond', 12, 0.5689655172413793], ['Võru maakond', 1, 3.3333333333333335], ['Viljandi maakond', 1, 20.0], ['Valga maakond', 1, 73.0], ['Tartu maakond', 1, 2.5714285714285716], ['Saare maakond', 1, 1.8571428571428572], ['Rapla maakond', 1, 52.0], ['Pärnu maakond', 1, 1.0], ['Põlva maakond', 1, 14.5], ['Lääne-Viru maakond', 1, 3.0], ['Lääne maakond', 1, 9.5], ['Järva maakond', 1, 3.75], ['Jõgeva maakond', 1, 104.0], ['Ida-Viru maakond', 1, 0.2777777777777778], ['Hiiu maakond', 1, 234.0], ['Harju maakond', 1, 0.4888888888888889], ['Võru maakond', 2, 4.25], ['Viljandi maakond', 2, 8.0], ['Valga maakond', 2, 16.0], ['Tartu maakond', 2, 1.25], ['Saare maakond', 2, 8.5], ['Rapla maakond', 2, 9.25], ['Pärnu maakond', 2, 2.0], ['Põlva maakond', 2, 7.75], ['Lääne-Viru maakond', 2, 2.0], ['Järva maakond', 2, 3.5], ['Jõgeva maakond', 2, 40.0], ['Ida-Viru maakond', 2, 0.2222222222222222], ['Hiiu maakond', 2, 197.0], ['Harju maakond', 2, 0.5], ['Võru maakond', 3, 3.6666666666666665], ['Viljandi maakond', 3, 3.8], ['Valga maakond', 3, 15.5], ['Tartu maakond', 3, 1.1333333333333333], ['Saare maakond', 3, 2.5], ['Rapla maakond', 3, 14.666666666666666], ['Pärnu maakond', 3, 3.2], ['Lääne-Viru maakond', 3, 1.0], ['Lääne maakond', 3, 16.0], ['Järva maakond', 3, 4.0], ['Jõgeva maakond', 3, 17.666666666666668], ['Ida-Viru maakond', 3, 10.818181818181818], ['Harju maakond', 3, 0.45714285714285713], ['Võru maakond', 4, 8.75], ['Viljandi maakond', 4, 4.5], ['Valga maakond', 4, 41.0], ['Tartu maakond', 4, 1.2727272727272727], ['Saare maakond', 4, 4.8], ['Rapla maakond', 4, 8.428571428571429], ['Pärnu maakond', 4, 1.8181818181818181], ['Põlva maakond', 4, 22.333333333333332], ['Lääne-Viru maakond', 4, 1.2222222222222223], ['Lääne maakond', 4, 13.5], ['Järva maakond', 4, 6.2], ['Jõgeva maakond', 4, 31.8], ['Ida-Viru maakond', 4, 0.20689655172413793], ['Hiiu maakond', 4, 119.33333333333333], ['Harju maakond', 4, 0.5555555555555556], ['Võru maakond', 5, 7.666666666666667], ['Viljandi maakond', 5, 17.5], ['Valga maakond', 5, 77.0], ['Tartu maakond', 5, 1.4285714285714286], ['Saare maakond', 5, 15.5], ['Rapla maakond', 5, 8.333333333333334], ['Pärnu maakond', 5, 1.7777777777777777], ['Põlva maakond', 5, 28.0], ['Lääne-Viru maakond', 5, 1.1111111111111112], ['Lääne maakond', 5, 12.5], ['Järva maakond', 5, 5.75], ['Jõgeva maakond', 5, 35.8], ['Ida-Viru maakond', 5, 0.058823529411764705], ['Hiiu maakond', 5, 388.0], ['Harju maakond', 5, 0.43661971830985913], ['Võru maakond', 6, 14.0], ['Viljandi maakond', 6, 5.428571428571429], ['Valga maakond', 6, 6.5], ['Tartu maakond', 6, 1.8333333333333333], ['Saare maakond', 6, 7.5], ['Rapla maakond', 6, 9.6], ['Pärnu maakond', 6, 1.75], ['Põlva maakond', 6, 11.0], ['Lääne-Viru maakond', 6, 1.0714285714285714], ['Lääne maakond', 6, 26.0], ['Jõgeva maakond', 6, 69.33333333333333], ['Ida-Viru maakond', 6, 0.1320754716981132], ['Hiiu maakond', 6, 339.0], ['Harju maakond', 6, 0.33962264150943394], ['Võru maakond', 7, 9.666666666666666], ['Viljandi maakond', 7, 5.333333333333333], ['Valga maakond', 7, 19.25], ['Tartu maakond', 7, 2.111111111111111], ['Saare maakond', 7, 6.666666666666667], ['Rapla maakond', 7, 18.0], ['Pärnu maakond', 7, 2.6666666666666665], ['Põlva maakond', 7, 56.0], ['Lääne-Viru maakond', 7, 1.1666666666666667], ['Lääne maakond', 7, 11.0], ['Järva maakond', 7, 6.0], ['Jõgeva maakond', 7, 47.333333333333336], ['Ida-Viru maakond', 7, 11.12], ['Harju maakond', 7, 0.46296296296296297], ['Võru maakond', 8, 4.0], ['Viljandi maakond', 8, 13.0], ['Valga maakond', 8, 18.0], ['Tartu maakond', 8, 1.7777777777777777], ['Saare maakond', 8, 21.0], ['Rapla maakond', 8, 19.5], ['Pärnu maakond', 8, 1.0], ['Põlva maakond', 8, 30.5], ['Lääne-Viru maakond', 8, 1.1666666666666667], ['Järva maakond', 8, 5.25], ['Jõgeva maakond', 8, 55.666666666666664], ['Ida-Viru maakond', 8, 0.07692307692307693], ['Hiiu maakond', 8, 331.0], ['Harju maakond', 8, 0.40298507462686567], ['Võru maakond', 9, 7.0], ['Viljandi maakond', 9, 10.0], ['Valga maakond', 9, 13.5], ['Tartu maakond', 9, 1.0909090909090908], ['Saare maakond', 9, 4.666666666666667], ['Rapla maakond', 9, 6.428571428571429], ['Pärnu maakond', 9, 4.333333333333333], ['Põlva maakond', 9, 17.0], ['Lääne-Viru maakond', 9, 0.875], ['Lääne maakond', 9, 24.0], ['Järva maakond', 9, 8.333333333333334], ['Jõgeva maakond', 9, 44.333333333333336], ['Ida-Viru maakond', 9, 15.352941176470589], ['Harju maakond', 9, 0.4909090909090909], ['Võru maakond', 10, 6.0], ['Viljandi maakond', 10, 5.5], ['Valga maakond', 10, 22.666666666666668], ['Tartu maakond', 10, 0.7368421052631579], ['Saare maakond', 10, 8.0], ['Rapla maakond', 10, 52.0], ['Pärnu maakond', 10, 0.8181818181818182], ['Põlva maakond', 10, 44.0], ['Lääne-Viru maakond', 10, 1.0909090909090908], ['Lääne maakond', 10, 8.333333333333334], ['Järva maakond', 10, 10.0], ['Jõgeva maakond', 10, 38.333333333333336], ['Ida-Viru maakond', 10, 12.7], ['Harju maakond', 10, 0.3559322033898305], ['Viljandi maakond', 11, 7.0], ['Valga maakond', 11, 11.5], ['Tartu maakond', 11, 1.4285714285714286], ['Saare maakond', 11, 14.0], ['Rapla maakond', 11, 10.25], ['Pärnu maakond', 11, 1.8333333333333333], ['Põlva maakond', 11, 38.0], ['Lääne-Viru maakond', 11, 1.6666666666666667], ['Lääne maakond', 11, 18.0], ['Järva maakond', 11, 17.0], ['Jõgeva maakond', 11, 24.5], ['Ida-Viru maakond', 11, 13.4375], ['Harju maakond', 11, 0.4883720930232558], ['Võru maakond', 12, 4.285714285714286], ['Viljandi maakond', 12, 7.0], ['Valga maakond', 12, 16.5], ['Tartu maakond', 12, 1.6666666666666667], ['Saare maakond', 12, 3.75], ['Rapla maakond', 12, 13.666666666666666], ['Pärnu maakond', 12, 2.142857142857143], ['Põlva maakond', 12, 25.0], ['Lääne-Viru maakond', 12, 1.3], ['Lääne maakond', 12, 10.0], ['Järva maakond', 12, 2.0], ['Jõgeva maakond', 12, 111.0], ['Ida-Viru maakond', 12, 0.09523809523809523], ['Hiiu maakond', 12, 232.0], ['Harju maakond', 12, 0.5789473684210527], ['Võru maakond', 1, 3.3333333333333335], ['Viljandi maakond', 1, 6.666666666666667], ['Valga maakond', 1, 8.11111111111111], ['Tartu maakond', 1, 0.9], ['Saare maakond', 1, 1.8571428571428572], ['Rapla maakond', 1, 10.4], ['Pärnu maakond', 1, 1.25], ['Põlva maakond', 1, 4.142857142857143], ['Lääne-Viru maakond', 1, 1.7142857142857142], ['Lääne maakond', 1, 4.75], ['Järva maakond', 1, 2.5], ['Jõgeva maakond', 1, 26.0], ['Ida-Viru maakond', 1, 0.18518518518518517], ['Hiiu maakond', 1, 234.0], ['Harju maakond', 1, 0.4], ['Võru maakond', 2, 17.0], ['Viljandi maakond', 2, 2.6666666666666665], ['Valga maakond', 2, 16.0], ['Tartu maakond', 2, 1.4285714285714286], ['Saare maakond', 2, 17.0], ['Rapla maakond', 2, 12.333333333333334], ['Pärnu maakond', 2, 1.7142857142857142], ['Põlva maakond', 2, 31.0], ['Lääne-Viru maakond', 2, 2.0], ['Järva maakond', 2, 14.0], ['Jõgeva maakond', 2, 26.666666666666668], ['Ida-Viru maakond', 2, 0.4444444444444444], ['Hiiu maakond', 2, 197.0], ['Harju maakond', 2, 0.9310344827586207], ['Võru maakond', 3, 2.75], ['Viljandi maakond', 3, 3.1666666666666665], ['Valga maakond', 3, 62.0], ['Tartu maakond', 3, 2.125], ['Saare maakond', 3, 10.0], ['Rapla maakond', 3, 22.0], ['Pärnu maakond', 3, 2.25], ['Põlva maakond', 3, 32.0], ['Lääne-Viru maakond', 3, 3.0], ['Lääne maakond', 3, 16.0], ['Järva maakond', 3, 8.0], ['Jõgeva maakond', 3, 106.0], ['Ida-Viru maakond', 3, 14.875], ['Harju maakond', 3, 0.8421052631578947], ['Võru maakond', 4, 8.75], ['Viljandi maakond', 4, 3.375], ['Valga maakond', 4, 27.333333333333332], ['Tartu maakond', 4, 1.0769230769230769], ['Saare maakond', 4, 12.0], ['Rapla maakond', 4, 19.666666666666668], ['Pärnu maakond', 4, 2.857142857142857], ['Põlva maakond', 4, 16.75], ['Lääne-Viru maakond', 4, 3.857142857142857], ['Järva maakond', 4, 53.0], ['Ida-Viru maakond', 4, 0.18181818181818182], ['Hiiu maakond', 4, 358.0], ['Harju maakond', 4, 0.43103448275862066], ['Võru maakond', 5, 7.666666666666667], ['Viljandi maakond', 5, 17.5], ['Valga maakond', 5, 15.4], ['Tartu maakond', 5, 1.5384615384615385], ['Saare maakond', 5, 15.5], ['Rapla maakond', 5, 25.0], ['Pärnu maakond', 5, 2.0], ['Põlva maakond', 5, 11.2], ['Lääne-Viru maakond', 5, 1.1111111111111112], ['Lääne maakond', 5, 25.0], ['Järva maakond', 5, 11.5], ['Jõgeva maakond', 5, 44.75], ['Ida-Viru maakond', 5, 14.923076923076923], ['Harju maakond', 5, 0.543859649122807], ['Võru maakond', 6, 3.5], ['Viljandi maakond', 6, 19.0], ['Valga maakond', 6, 5.909090909090909], ['Tartu maakond', 6, 2.4444444444444446], ['Saare maakond', 6, 15.0], ['Rapla maakond', 6, 9.6], ['Pärnu maakond', 6, 3.5], ['Põlva maakond', 6, 33.0], ['Lääne-Viru maakond', 6, 2.5], ['Lääne maakond', 6, 10.5], ['Järva maakond', 6, 5.2], ['Jõgeva maakond', 6, 208.0], ['Ida-Viru maakond', 6, 0.25], ['Hiiu maakond', 6, 113.0], ['Harju maakond', 6, 0.4], ['Võru maakond', 7, 29.0], ['Viljandi maakond', 7, 8.0], ['Valga maakond', 7, 25.666666666666668], ['Tartu maakond', 7, 0.0625], ['!Sisestamata!', 7, 19.0], ['Saare maakond', 7, 6.666666666666667], ['Rapla maakond', 7, 9.0], ['Pärnu maakond', 7, 3.2], ['Põlva maakond', 7, 18.666666666666668], ['Lääne-Viru maakond', 7, 1.75], ['Lääne maakond', 7, 4.4], ['Järva maakond', 7, 6.0], ['Jõgeva maakond', 7, 47.333333333333336], ['Ida-Viru maakond', 7, 19.857142857142858], ['Harju maakond', 7, 0.5434782608695652], ['Võru maakond', 8, 12.0], ['Viljandi maakond', 8, 8.666666666666666], ['Valga maakond', 8, 14.4], ['Tartu maakond', 8, 1.2307692307692308], ['Saare maakond', 8, 10.5], ['Rapla maakond', 8, 19.5], ['Pärnu maakond', 8, 2.0], ['Põlva maakond', 8, 61.0], ['Lääne-Viru maakond', 8, 0.8333333333333334], ['Lääne maakond', 8, 10.5], ['Järva maakond', 8, 5.25], ['Jõgeva maakond', 8, 55.666666666666664], ['Ida-Viru maakond', 8, 16.55], ['Harju maakond', 8, 0.7714285714285715], ['Võru maakond', 9, 3.0], ['Viljandi maakond', 9, 10.0], ['Valga maakond', 9, 9.0], ['Tartu maakond', 9, 2.0], ['Saare maakond', 9, 7.0], ['Rapla maakond', 9, 45.0], ['Pärnu maakond', 9, 2.1666666666666665], ['Põlva maakond', 9, 51.0], ['Lääne-Viru maakond', 9, 3.0], ['Järva maakond', 9, 6.25], ['Jõgeva maakond', 9, 33.25], ['Ida-Viru maakond', 9, 0.2631578947368421], ['Hiiu maakond', 9, 261.0], ['Harju maakond', 9, 0.675], ['Võru maakond', 10, 3.0], ['Viljandi maakond', 10, 22.0], ['Valga maakond', 10, 34.0], ['Tartu maakond', 10, 2.3333333333333335], ['Saare maakond', 10, 8.0], ['Rapla maakond', 10, 26.0], ['Pärnu maakond', 10, 3.0], ['Põlva maakond', 10, 22.0], ['Lääne-Viru maakond', 10, 1.2], ['Lääne maakond', 10, 5.0], ['Järva maakond', 10, 5.0], ['Jõgeva maakond', 10, 28.75], ['Ida-Viru maakond', 10, 16.933333333333334], ['Harju maakond', 10, 0.38095238095238093], ['Võru maakond', 11, 5.25], ['Viljandi maakond', 11, 7.0], ['Valga maakond', 11, 11.5], ['Tartu maakond', 11, 1.6666666666666667], ['Saare maakond', 11, 7.0], ['Rapla maakond', 11, 41.0], ['Pärnu maakond', 11, 2.2], ['Põlva maakond', 11, 9.5], ['Lääne-Viru maakond', 11, 1.1111111111111112], ['Lääne maakond', 11, 9.0], ['Järva maakond', 11, 2.8333333333333335], ['Jõgeva maakond', 11, 16.333333333333332], ['Ida-Viru maakond', 11, 0.38461538461538464], ['Hiiu maakond', 11, 215.0], ['Harju maakond', 11, 0.5384615384615384], ['Võru maakond', 12, 15.0], ['Viljandi maakond', 12, 1.5555555555555556], ['Valga maakond', 12, 66.0], ['Tartu maakond', 12, 1.3636363636363635], ['Saare maakond', 12, 41.0], ['Pärnu maakond', 12, 2.142857142857143], ['Põlva maakond', 12, 50.0], ['Lääne-Viru maakond', 12, 1.4444444444444444], ['Lääne maakond', 12, 10.0], ['Järva maakond', 12, 22.2], ['Ida-Viru maakond', 12, 15.466666666666667], ['Harju maakond', 12, 1.2692307692307692], ['Võru maakond', 1, 5.0], ['Viljandi maakond', 1, 6.666666666666667], ['Valga maakond', 1, 36.5], ['Tartu maakond', 1, 1.125], ['Saare maakond', 1, 6.5], ['Rapla maakond', 1, 52.0], ['Pärnu maakond', 1, 1.875], ['Põlva maakond', 1, 29.0], ['Lääne-Viru maakond', 1, 1.5], ['Lääne maakond', 1, 19.0], ['Järva maakond', 1, 7.5], ['Jõgeva maakond', 1, 34.666666666666664], ['Ida-Viru maakond', 1, 18.0], ['Harju maakond', 1, 0.7096774193548387], ['Võru maakond', 2, 2.8333333333333335], ['Viljandi maakond', 2, 16.0], ['Valga maakond', 2, 12.0], ['Tartu maakond', 2, 1.6666666666666667], ['Saare maakond', 2, 5.666666666666667], ['Rapla maakond', 2, 12.333333333333334], ['Pärnu maakond', 2, 1.5], ['Põlva maakond', 2, 31.0], ['Lääne-Viru maakond', 2, 1.1428571428571428], ['Lääne maakond', 2, 6.0], ['Järva maakond', 2, 7.0], ['Jõgeva maakond', 2, 40.0], ['Ida-Viru maakond', 2, 12.3125], ['Harju maakond', 2, 0.75], ['Võru maakond', 3, 6.333333333333333], ['Valga maakond', 3, 12.4], ['Tartu maakond', 3, 1.4166666666666667], ['Saare maakond', 3, 7.333333333333333], ['Pärnu maakond', 3, 1.2857142857142858], ['Põlva maakond', 3, 16.0], ['Lääne-Viru maakond', 3, 1.8], ['Lääne maakond', 3, 8.0], ['Järva maakond', 3, 5.333333333333333], ['Jõgeva maakond', 3, 53.0], ['Ida-Viru maakond', 3, 0.045454545454545456], ['Hiiu maakond', 3, 238.0], ['Harju maakond', 3, 1.1851851851851851], ['Võru maakond', 4, 8.75], ['Viljandi maakond', 4, 13.5], ['Valga maakond', 4, 20.5], ['Tartu maakond', 4, 2.0], ['Saare maakond', 4, 24.0], ['Rapla maakond', 4, 29.5], ['Pärnu maakond', 4, 22.333333333333332], ['Lääne-Viru maakond', 4, 1.2222222222222223], ['Lääne maakond', 4, 27.0], ['Järva maakond', 4, 7.75], ['Jõgeva maakond', 4, 39.75], ['Ida-Viru maakond', 4, 51.142857142857146], ['Harju maakond', 4, 0.5102040816326531], ['Võru maakond', 5, 3.8333333333333335], ['Viljandi maakond', 5, 7.0], ['Valga maakond', 5, 9.625], ['Tartu maakond', 5, 1.8181818181818181], ['Saare maakond', 5, 5.166666666666667], ['Rapla maakond', 5, 8.333333333333334], ['Pärnu maakond', 5, 1.7777777777777777], ['Põlva maakond', 5, 56.0], ['Lääne-Viru maakond', 5, 1.4285714285714286], ['Lääne maakond', 5, 25.0], ['Järva maakond', 5, 7.666666666666667], ['Jõgeva maakond', 5, 59.666666666666664], ['Ida-Viru maakond', 5, 29.846153846153847], ['Harju maakond', 5, 0.775], ['Võru maakond', 6, 5.6], ['Viljandi maakond', 6, 9.5], ['Valga maakond', 6, 32.5], ['Tartu maakond', 6, 6.0], ['Rapla maakond', 6, 12.0], ['Pärnu maakond', 6, 3.5], ['Põlva maakond', 6, 22.0], ['Lääne-Viru maakond', 6, 3.75], ['Lääne maakond', 6, 10.5], ['Järva maakond', 6, 26.0], ['Jõgeva maakond', 6, 52.0], ['Ida-Viru maakond', 6, 16.95], ['Harju maakond', 6, 0.47368421052631576], ['Võru maakond', 7, 29.0], ['Viljandi maakond', 7, 8.0], ['Valga maakond', 7, 19.25], ['Tartu maakond', 7, 1.9], ['Saare maakond', 7, 6.666666666666667], ['Rapla maakond', 7, 12.0], ['Pärnu maakond', 7, 3.2], ['Põlva maakond', 7, 14.0], ['Lääne-Viru maakond', 7, 2.3333333333333335], ['Lääne maakond', 7, 22.0], ['Järva maakond', 7, 12.0], ['Jõgeva maakond', 7, 35.5], ['Ida-Viru maakond', 7, 0.2], ['Hiiu maakond', 7, 278.0], ['Harju maakond', 7, 0.6153846153846154], ['Viljandi maakond', 8, 8.666666666666666], ['Valga maakond', 8, 18.0], ['Tartu maakond', 8, 1.4545454545454546], ['Saare maakond', 8, 10.5], ['Rapla maakond', 8, 19.5], ['Pärnu maakond', 8, 2.0], ['Põlva maakond', 8, 30.5], ['Lääne-Viru maakond', 8, 2.625], ['Järva maakond', 8, 10.5], ['Jõgeva maakond', 8, 27.833333333333332], ['Ida-Viru maakond', 8, 0.23076923076923078], ['Hiiu maakond', 8, 331.0], ['Harju maakond', 8, 1.173913043478261], ['Võru maakond', 9, 15.0], ['Valga maakond', 9, 54.0], ['Tartu maakond', 9, 1.7142857142857142], ['Saare maakond', 9, 14.0], ['Rapla maakond', 9, 15.0], ['Pärnu maakond', 9, 3.25], ['Põlva maakond', 9, 51.0], ['Lääne-Viru maakond', 9, 1.75], ['Lääne maakond', 9, 24.0], ['Järva maakond', 9, 8.333333333333334], ['Jõgeva maakond', 9, 133.0], ['Ida-Viru maakond', 9, 23.727272727272727], ['Harju maakond', 9, 1.0], ['Võru maakond', 10, 4.8], ['Viljandi maakond', 10, 7.333333333333333], ['Valga maakond', 10, 22.666666666666668], ['Tartu maakond', 10, 2.0], ['Saare maakond', 10, 8.0], ['Rapla maakond', 10, 13.0], ['Pärnu maakond', 10, 4.4], ['Lääne-Viru maakond', 10, 4.0], ['Lääne maakond', 10, 25.0], ['Järva maakond', 10, 6.666666666666667], ['Jõgeva maakond', 10, 28.75], ['Ida-Viru maakond', 10, 0.3076923076923077], ['Hiiu maakond', 10, 254.0], ['Harju maakond', 10, 0.5], ['Võru maakond', 11, 10.5], ['Viljandi maakond', 11, 7.0], ['Valga maakond', 11, 34.5], ['Tartu maakond', 11, 1.4285714285714286], ['Saare maakond', 11, 7.0], ['Rapla maakond', 11, 20.5], ['Pärnu maakond', 11, 2.2], ['Põlva maakond', 11, 38.0], ['Lääne-Viru maakond', 11, 2.5], ['Lääne maakond', 11, 18.0], ['Järva maakond', 11, 8.5], ['Jõgeva maakond', 11, 49.0], ['Ida-Viru maakond', 11, 0.4166666666666667], ['Hiiu maakond', 11, 107.5], ['Harju maakond', 11, 1.1111111111111112], ['Viljandi maakond', 12, 2.8], ['Valga maakond', 12, 66.0], ['Tartu maakond', 12, 1.5], ['Saare maakond', 12, 3.75], ['Rapla maakond', 12, 20.5], ['Pärnu maakond', 12, 3.0], ['Põlva maakond', 12, 50.0], ['Lääne-Viru maakond', 12, 4.333333333333333], ['Lääne maakond', 12, 10.0], ['Järva maakond', 12, 2.5], ['Jõgeva maakond', 12, 27.75], ['Ida-Viru maakond', 12, 0.11764705882352941], ['Hiiu maakond', 12, 232.0], ['Harju maakond', 12, 1.1379310344827587], ['Võru maakond', 1, 5.0], ['Viljandi maakond', 1, 10.0], ['Valga maakond', 1, 24.333333333333332], ['Tartu maakond', 1, 0.8666666666666667], ['Rapla maakond', 1, 26.0], ['Pärnu maakond', 1, 1.25], ['Põlva maakond', 1, 9.666666666666666], ['Lääne-Viru maakond', 1, 4.0], ['Lääne maakond', 1, 19.0], ['Järva maakond', 1, 5.0], ['Jõgeva maakond', 1, 34.666666666666664], ['Ida-Viru maakond', 1, 19.5], ['Harju maakond', 1, 0.5365853658536586], ['Võru maakond', 2, 2.8333333333333335], ['Viljandi maakond', 2, 4.0], ['Valga maakond', 2, 24.0], ['Tartu maakond', 2, 2.0], ['Saare maakond', 2, 8.5], ['Rapla maakond', 2, 6.166666666666667], ['Pärnu maakond', 2, 2.4], ['Põlva maakond', 2, 10.333333333333334], ['Lääne-Viru maakond', 2, 2.0], ['Lääne maakond', 2, 6.0], ['Järva maakond', 2, 4.666666666666667], ['Jõgeva maakond', 2, 13.333333333333334], ['Ida-Viru maakond', 2, 0.3333333333333333], ['Hiiu maakond', 2, 197.0], ['Harju maakond', 2, 0.84375], ['Võru maakond', 3, 2.75], ['Viljandi maakond', 3, 8.857142857142858], ['Tartu maakond', 3, 1.8888888888888888], ['Saare maakond', 3, 3.3333333333333335], ['Rapla maakond', 3, 22.0], ['Pärnu maakond', 3, 0.9], ['Põlva maakond', 3, 16.0], ['Lääne-Viru maakond', 3, 2.0], ['Järva maakond', 3, 4.0], ['Jõgeva maakond', 3, 53.0], ['Ida-Viru maakond', 3, 14.0], ['Harju maakond', 3, 0.9696969696969697], ['Võru maakond', 4, 35.0], ['Viljandi maakond', 4, 13.5], ['Valga maakond', 4, 20.5], ['Tartu maakond', 4, 1.4], ['Saare maakond', 4, 12.0], ['Rapla maakond', 4, 59.0], ['Pärnu maakond', 4, 2.2222222222222223], ['Põlva maakond', 4, 22.333333333333332], ['Lääne-Viru maakond', 4, 3.6666666666666665], ['Lääne maakond', 4, 9.0], ['Järva maakond', 4, 7.75], ['Jõgeva maakond', 4, 39.75], ['Ida-Viru maakond', 4, 27.53846153846154], ['Harju maakond', 4, 0.78125], ['Võru maakond', 5, 11.5], ['Viljandi maakond', 5, 11.666666666666666], ['Valga maakond', 5, 11.0], ['Tartu maakond', 5, 5.0], ['Saare maakond', 5, 31.0], ['Rapla maakond', 5, 8.333333333333334], ['Pärnu maakond', 5, 2.6666666666666665], ['Põlva maakond', 5, 11.2], ['Lääne-Viru maakond', 5, 2.5], ['Lääne maakond', 5, 25.0], ['Järva maakond', 5, 5.75], ['Jõgeva maakond', 5, 89.5], ['Ida-Viru maakond', 5, 14.37037037037037], ['Harju maakond', 5, 0.6595744680851063], ['Võru maakond', 6, 9.333333333333334], ['Viljandi maakond', 6, 9.5], ['Valga maakond', 6, 8.125], ['Tartu maakond', 6, 1.8333333333333333], ['Saare maakond', 6, 10.0], ['Rapla maakond', 6, 24.0], ['Pärnu maakond', 6, 13.2], ['Lääne-Viru maakond', 6, 1.0714285714285714], ['Lääne maakond', 6, 21.0], ['Järva maakond', 6, 8.666666666666666], ['Jõgeva maakond', 6, 104.0], ['Ida-Viru maakond', 6, 7.704545454545454], ['Harju maakond', 6, 0.3673469387755102], ['Võru maakond', 7, 5.8], ['Viljandi maakond', 7, 6.4], ['Valga maakond', 7, 8.555555555555555], ['Tartu maakond', 7, 1.7272727272727273], ['Saare maakond', 7, 5.0], ['Rapla maakond', 7, 12.0], ['Pärnu maakond', 7, 2.6666666666666665], ['Põlva maakond', 7, 28.0], ['Lääne-Viru maakond', 7, 1.1666666666666667], ['Lääne maakond', 7, 22.0], ['Järva maakond', 7, 8.0], ['Jõgeva maakond', 7, 47.333333333333336], ['Ida-Viru maakond', 7, 0.11538461538461539], ['Hiiu maakond', 7, 139.0], ['Harju maakond', 7, 0.6944444444444444], ['Võru maakond', 8, 12.0], ['Viljandi maakond', 8, 8.666666666666666], ['Valga maakond', 8, 72.0], ['Tartu maakond', 8, 1.7777777777777777], ['Saare maakond', 8, 7.0], ['Rapla maakond', 8, 13.0], ['Pärnu maakond', 8, 4.0], ['Põlva maakond', 8, 61.0], ['Lääne-Viru maakond', 8, 2.5], ['Lääne maakond', 8, 7.0], ['Järva maakond', 8, 21.0], ['Jõgeva maakond', 8, 83.5], ['Ida-Viru maakond', 8, 19.470588235294116], ['Harju maakond', 8, 0.7714285714285715], ['Võru maakond', 9, 10.5], ['Viljandi maakond', 9, 15.0], ['Valga maakond', 9, 27.0], ['Tartu maakond', 9, 2.0], ['Saare maakond', 9, 22.5], ['Pärnu maakond', 9, 2.6], ['Põlva maakond', 9, 51.0], ['Lääne-Viru maakond', 9, 3.4285714285714284], ['Järva maakond', 9, 25.0], ['Jõgeva maakond', 9, 44.333333333333336], ['Ida-Viru maakond', 9, 0.29411764705882354], ['Hiiu maakond', 9, 261.0], ['Harju maakond', 9, 1.125], ['Võru maakond', 10, 8.0], ['Viljandi maakond', 10, 3.142857142857143], ['Valga maakond', 10, 13.6], ['Tartu maakond', 10, 1.5555555555555556], ['Saare maakond', 10, 8.0], ['Rapla maakond', 10, 26.0], ['Pärnu maakond', 10, 2.25], ['Põlva maakond', 10, 44.0], ['Lääne-Viru maakond', 10, 2.4], ['Lääne maakond', 10, 25.0], ['Järva maakond', 10, 20.0], ['Jõgeva maakond', 10, 57.5], ['Ida-Viru maakond', 10, 0.4444444444444444], ['Hiiu maakond', 10, 254.0], ['Harju maakond', 10, 0.6153846153846154], ['Võru maakond', 11, 10.5], ['Viljandi maakond', 11, 5.25], ['Valga maakond', 11, 34.5], ['Tartu maakond', 11, 1.0], ['Saare maakond', 11, 4.666666666666667], ['Rapla maakond', 11, 13.666666666666666], ['Pärnu maakond', 11, 5.428571428571429], ['Lääne-Viru maakond', 11, 1.6666666666666667], ['Lääne maakond', 11, 18.0], ['Järva maakond', 11, 17.0], ['Jõgeva maakond', 11, 98.0], ['Ida-Viru maakond', 11, 0.2631578947368421], ['Hiiu maakond', 11, 215.0], ['Harju maakond', 11, 0.8076923076923077], ['Võru maakond', 12, 7.5], ['Viljandi maakond', 12, 2.3333333333333335], ['Valga maakond', 12, 13.2], ['Tartu maakond', 12, 1.25], ['Saare maakond', 12, 5.0], ['Rapla maakond', 12, 20.5], ['Pärnu maakond', 12, 1.6666666666666667], ['Põlva maakond', 12, 25.0], ['Lääne-Viru maakond', 12, 1.8571428571428572], ['Lääne maakond', 12, 27.75], ['Ida-Viru maakond', 12, 9.666666666666666], ['Harju maakond', 12, 1.064516129032258], ['Võru maakond', 1, 2.857142857142857], ['Viljandi maakond', 1, 2.857142857142857], ['Valga maakond', 1, 24.333333333333332], ['Tartu maakond', 1, 3.0], ['Saare maakond', 1, 6.5], ['Rapla maakond', 1, 52.0], ['Pärnu maakond', 1, 9.666666666666666], ['Lääne-Viru maakond', 1, 12.0], ['Lääne maakond', 1, 6.333333333333333], ['Järva maakond', 1, 52.0], ['Ida-Viru maakond', 1, 0.22727272727272727], ['Hiiu maakond', 1, 234.0], ['Harju maakond', 1, 0.5945945945945946], ['Võru maakond', 2, 8.5], ['Viljandi maakond', 2, 5.333333333333333], ['Valga maakond', 2, 24.0], ['Tartu maakond', 2, 0.7142857142857143], ['Saare maakond', 2, 37.0], ['Pärnu maakond', 2, 4.0], ['Põlva maakond', 2, 10.333333333333334], ['Lääne-Viru maakond', 2, 2.8], ['Jõgeva maakond', 2, 80.0], ['Ida-Viru maakond', 2, 0.2857142857142857], ['Hiiu maakond', 2, 197.0], ['Harju maakond', 2, 0.9166666666666666], ['Viljandi maakond', 3, 9.5], ['Valga maakond', 3, 15.5], ['Tartu maakond', 3, 2.125], ['Saare maakond', 3, 10.0], ['Rapla maakond', 3, 22.0], ['Pärnu maakond', 3, 1.0], ['Põlva maakond', 3, 32.0], ['Lääne-Viru maakond', 3, 2.25], ['Lääne maakond', 3, 8.0], ['Järva maakond', 3, 8.0], ['Jõgeva maakond', 3, 106.0], ['Ida-Viru maakond', 3, 23.8], ['Harju maakond', 3, 0.9142857142857143], ['Võru maakond', 4, 8.75], ['Viljandi maakond', 4, 3.857142857142857], ['Valga maakond', 4, 27.333333333333332], ['Tartu maakond', 4, 1.5555555555555556], ['Saare maakond', 4, 24.0], ['Rapla maakond', 4, 59.0], ['Pärnu maakond', 4, 4.0], ['Põlva maakond', 4, 16.75], ['Lääne-Viru maakond', 4, 2.7], ['Järva maakond', 4, 15.5], ['Jõgeva maakond', 4, 31.8], ['Ida-Viru maakond', 4, 0.23076923076923078], ['Hiiu maakond', 4, 358.0], ['Harju maakond', 4, 0.4716981132075472], ['Võru maakond', 5, 7.666666666666667], ['Viljandi maakond', 5, 17.5], ['Valga maakond', 5, 11.0], ['Tartu maakond', 5, 0.1111111111111111], ['!Sisestamata!', 5, 20.0], ['Saare maakond', 5, 15.5], ['Rapla maakond', 5, 16.666666666666668], ['Pärnu maakond', 5, 2.2857142857142856], ['Põlva maakond', 5, 56.0], ['Lääne-Viru maakond', 5, 0.8333333333333334], ['Lääne maakond', 5, 25.0], ['Järva maakond', 5, 23.0], ['Jõgeva maakond', 5, 44.75], ['Ida-Viru maakond', 5, 16.166666666666668], ['Harju maakond', 5, 1.1923076923076923], ['Võru maakond', 6, 4.666666666666667], ['Viljandi maakond', 6, 19.0], ['Valga maakond', 6, 16.25], ['Tartu maakond', 6, 0.1], ['!Sisestamata!', 6, 22.0], ['Saare maakond', 6, 6.0], ['Rapla maakond', 6, 8.0], ['Pärnu maakond', 6, 5.25], ['Põlva maakond', 6, 66.0], ['Lääne-Viru maakond', 6, 1.1538461538461537], ['Lääne maakond', 6, 7.0], ['Järva maakond', 6, 5.2], ['Jõgeva maakond', 6, 34.666666666666664], ['Ida-Viru maakond', 6, 0.4375], ['Hiiu maakond', 6, 169.5], ['Harju maakond', 6, 0.375], ['Võru maakond', 7, 10.666666666666666], ['Valga maakond', 7, 19.25], ['Tartu maakond', 7, 2.7142857142857144], ['Saare maakond', 7, 10.0], ['Rapla maakond', 7, 18.0], ['Pärnu maakond', 7, 16.0], ['Põlva maakond', 7, 18.666666666666668], ['Lääne-Viru maakond', 7, 2.8], ['Lääne maakond', 7, 22.0], ['Järva maakond', 7, 8.0], ['Jõgeva maakond', 7, 47.333333333333336], ['Ida-Viru maakond', 7, 21.384615384615383], ['Harju maakond', 7, 1.0416666666666667], ['Võru maakond', 8, 8.0], ['Viljandi maakond', 8, 6.5], ['Valga maakond', 8, 36.0], ['Tartu maakond', 8, 0.1111111111111111], ['!Sisestamata!', 8, 16.0], ['Saare maakond', 8, 21.0], ['Rapla maakond', 8, 19.5], ['Pärnu maakond', 8, 1.3333333333333333], ['Põlva maakond', 8, 61.0], ['Lääne-Viru maakond', 8, 1.4285714285714286], ['Lääne maakond', 8, 10.5], ['Järva maakond', 8, 4.2], ['Jõgeva maakond', 8, 83.5], ['Ida-Viru maakond', 8, 13.24], ['Harju maakond', 8, 1.125], ['Võru maakond', 9, 10.5], ['Viljandi maakond', 9, 5.0], ['Valga maakond', 9, 18.0], ['Tartu maakond', 9, 3.5], ['Rapla maakond', 9, 45.0], ['Pärnu maakond', 9, 1.4444444444444444], ['Põlva maakond', 9, 25.5], ['Lääne-Viru maakond', 9, 1.1666666666666667], ['Lääne maakond', 9, 24.0], ['Järva maakond', 9, 12.5], ['Jõgeva maakond', 9, 66.5], ['Ida-Viru maakond', 9, 0.35714285714285715], ['Hiiu maakond', 9, 130.5], ['Harju maakond', 9, 0.9], ['Võru maakond', 10, 24.0], ['Viljandi maakond', 10, 7.333333333333333], ['Valga maakond', 10, 68.0], ['Tartu maakond', 10, 1.75], ['Saare maakond', 10, 16.0], ['Rapla maakond', 10, 26.0], ['Pärnu maakond', 10, 1.5], ['Põlva maakond', 10, 44.0], ['Lääne-Viru maakond', 10, 6.25], ['Järva maakond', 10, 10.0], ['Jõgeva maakond', 10, 38.333333333333336], ['Ida-Viru maakond', 10, 0.36363636363636365], ['Hiiu maakond', 10, 127.0], ['Harju maakond', 10, 0.6153846153846154], ['Võru maakond', 11, 21.0], ['Viljandi maakond', 11, 34.5], ['Tartu maakond', 11, 1.0], ['Saare maakond', 11, 14.0], ['Rapla maakond', 11, 20.5], ['Pärnu maakond', 11, 2.75], ['Põlva maakond', 11, 38.0], ['Lääne-Viru maakond', 11, 2.0], ['Lääne maakond', 11, 6.0], ['Järva maakond', 11, 8.5], ['Jõgeva maakond', 11, 49.0], ['Ida-Viru maakond', 11, 19.545454545454547], ['Harju maakond', 11, 0.9130434782608695], ['Võru maakond', 12, 7.5], ['Viljandi maakond', 12, 4.666666666666667], ['Valga maakond', 12, 66.0], ['Tartu maakond', 12, 0.1], ['!Sisestamata!', 12, 15.0], ['Saare maakond', 12, 15.0], ['Rapla maakond', 12, 8.2], ['Pärnu maakond', 12, 5.0], ['Põlva maakond', 12, 12.5], ['Lääne-Viru maakond', 12, 1.8571428571428572], ['Lääne maakond', 12, 10.0], ['Järva maakond', 12, 5.0], ['Jõgeva maakond', 12, 55.5], ['Ida-Viru maakond', 12, 16.571428571428573], ['Harju maakond', 12, 1.064516129032258], ['Võru maakond', 1, 3.3333333333333335], ['Viljandi maakond', 1, 5.0], ['Valga maakond', 1, 36.5], ['Tartu maakond', 1, 1.4444444444444444], ['Rapla maakond', 1, 17.333333333333332], ['Pärnu maakond', 1, 7.5], ['Põlva maakond', 1, 14.5], ['Lääne-Viru maakond', 1, 2.0], ['Lääne maakond', 1, 19.0], ['Järva maakond', 1, 7.5], ['Jõgeva maakond', 1, 26.0], ['Ida-Viru maakond', 1, 0.4166666666666667], ['Hiiu maakond', 1, 117.0], ['Harju maakond', 1, 0.88], ['Võru maakond', 2, 5.666666666666667], ['Viljandi maakond', 2, 16.0], ['Valga maakond', 2, 24.0], ['Tartu maakond', 2, 1.25], ['Saare maakond', 2, 17.0], ['Rapla maakond', 2, 37.0], ['Pärnu maakond', 2, 3.875], ['Lääne-Viru maakond', 2, 2.6666666666666665], ['Lääne maakond', 2, 3.0], ['Järva maakond', 2, 40.0], ['Ida-Viru maakond', 2, 17.90909090909091], ['Harju maakond', 2, 1.2272727272727273], ['Võru maakond', 3, 11.0], ['Viljandi maakond', 3, 9.5], ['Valga maakond', 3, 15.5], ['Tartu maakond', 3, 2.4285714285714284], ['Saare maakond', 3, 22.0], ['Pärnu maakond', 3, 2.25], ['Põlva maakond', 3, 10.666666666666666], ['Lääne-Viru maakond', 3, 3.0], ['Lääne maakond', 3, 8.0], ['Järva maakond', 3, 16.0], ['Jõgeva maakond', 3, 26.5], ['Ida-Viru maakond', 3, 12.526315789473685], ['Harju maakond', 3, 0.9696969696969697], ['Võru maakond', 4, 3.888888888888889], ['Viljandi maakond', 4, 13.5], ['Valga maakond', 4, 82.0], ['Tartu maakond', 4, 2.6666666666666665], ['Rapla maakond', 4, 19.666666666666668], ['Pärnu maakond', 4, 10.0], ['Põlva maakond', 4, 22.333333333333332], ['Lääne-Viru maakond', 4, 3.375], ['Järva maakond', 4, 15.5], ['Jõgeva maakond', 4, 31.8], ['Ida-Viru maakond', 4, 32.54545454545455], ['Harju maakond', 4, 0.8928571428571429], ['Võru maakond', 5, 11.5], ['Viljandi maakond', 5, 8.75], ['Valga maakond', 5, 77.0], ['Tartu maakond', 5, 2.0], ['Saare maakond', 5, 10.333333333333334], ['Rapla maakond', 5, 16.666666666666668], ['Pärnu maakond', 5, 8.0], ['Põlva maakond', 5, 28.0], ['Lääne-Viru maakond', 5, 2.0], ['Lääne maakond', 5, 8.333333333333334], ['Järva maakond', 5, 4.6], ['Jõgeva maakond', 5, 44.75], ['Ida-Viru maakond', 5, 0.16666666666666666], ['Hiiu maakond', 5, 388.0], ['Harju maakond', 5, 0.7948717948717948], ['Võru maakond', 6, 7.0], ['Viljandi maakond', 6, 10.833333333333334], ['Tartu maakond', 6, 3.6666666666666665], ['Saare maakond', 6, 15.0], ['Rapla maakond', 6, 12.0], ['Pärnu maakond', 6, 4.2], ['Põlva maakond', 6, 9.428571428571429], ['Lääne-Viru maakond', 6, 2.142857142857143], ['Lääne maakond', 6, 10.5], ['Järva maakond', 6, 8.666666666666666], ['Jõgeva maakond', 6, 41.6], ['Ida-Viru maakond', 6, 21.1875], ['Harju maakond', 6, 0.5294117647058824], ['Võru maakond', 7, 14.5], ['Viljandi maakond', 7, 8.0], ['Valga maakond', 7, 15.4], ['Tartu maakond', 7, 2.111111111111111], ['Saare maakond', 7, 6.666666666666667], ['Rapla maakond', 7, 12.0], ['Pärnu maakond', 7, 5.333333333333333], ['Põlva maakond', 7, 56.0], ['Lääne-Viru maakond', 7, 5.5], ['Järva maakond', 7, 8.0], ['Jõgeva maakond', 7, 47.333333333333336], ['Ida-Viru maakond', 7, 14.631578947368421], ['Harju maakond', 7, 0.9615384615384616], ['Võru maakond', 8, 8.0], ['Viljandi maakond', 8, 6.5], ['Valga maakond', 8, 18.0], ['Tartu maakond', 8, 1.4545454545454546], ['Saare maakond', 8, 10.5], ['Rapla maakond', 8, 19.5], ['Pärnu maakond', 8, 1.1428571428571428], ['Põlva maakond', 8, 61.0], ['Lääne-Viru maakond', 8, 1.6666666666666667], ['Lääne maakond', 8, 10.5], ['Järva maakond', 8, 10.5], ['Jõgeva maakond', 8, 167.0], ['Ida-Viru maakond', 8, 0.25], ['Hiiu maakond', 8, 331.0], ['Harju maakond', 8, 0.7714285714285715], ['Võru maakond', 9, 7.0], ['Viljandi maakond', 9, 15.0], ['Valga maakond', 9, 13.5], ['Tartu maakond', 9, 1.2], ['Saare maakond', 9, 7.0], ['Rapla maakond', 9, 45.0], ['Pärnu maakond', 9, 1.8571428571428572], ['Põlva maakond', 9, 51.0], ['Lääne-Viru maakond', 9, 4.0], ['Järva maakond', 9, 25.0], ['Jõgeva maakond', 9, 66.5], ['Ida-Viru maakond', 9, 17.4], ['Harju maakond', 9, 1.0], ['Võru maakond', 10, 8.0], ['Viljandi maakond', 10, 7.333333333333333], ['Valga maakond', 10, 68.0], ['Tartu maakond', 10, 2.0], ['Saare maakond', 10, 8.0], ['Rapla maakond', 10, 52.0], ['Pärnu maakond', 10, 22.0], ['Lääne-Viru maakond', 10, 12.5], ['Järva maakond', 10, 19.166666666666668], ['Ida-Viru maakond', 10, 19.53846153846154], ['Harju maakond', 10, 0.6956521739130435], ['Võru maakond', 11, 10.5], ['Viljandi maakond', 11, 21.0], ['Valga maakond', 11, 34.5], ['Tartu maakond', 11, 4.555555555555555], ['Pärnu maakond', 11, 3.6666666666666665], ['Põlva maakond', 11, 38.0], ['Lääne-Viru maakond', 11, 18.0], ['Järva maakond', 11, 98.0], ['Ida-Viru maakond', 11, 26.875]]\n"
     ]
    }
   ],
   "source": [
    "def dataset_with_counties_months(data):\n",
    "    array = []\n",
    "    for i in data:\n",
    "        for j in range(i[5]):\n",
    "            array.append([i[0], i[4]])\n",
    "    return array\n",
    "dataframe = pd.DataFrame((dataset_with_counties_months(data)), columns=['Maakond', 'Kuu'])\n",
    "dataframe['Hoonetulekahjud']=dataframe.groupby(by=['Maakond', 'Kuu'])['Maakond'].transform('count')\n",
    "#dataframe = dataframe.drop_duplicates()\n",
    "\n",
    "uusdata = dataframe.values\n",
    "aastatega = []\n",
    "loendur = 1\n",
    "eelminemaakond = \"\"\n",
    "eelminekuu = 0\n",
    "eelminecount = 0\n",
    "for rida in uusdata:\n",
    "    #print(rida[2])\n",
    "    if rida[0] == eelminemaakond and rida[2]==eelminecount:\n",
    "        loendur = loendur + 1\n",
    "        \n",
    "    else:\n",
    "        aastatega.append([eelminemaakond, eelminekuu, rida[2]/loendur])\n",
    "        eelminemaakond = rida[0]\n",
    "        eelminekuu = rida[1]\n",
    "        eelminecount = rida[2]\n",
    "        loendur = 1\n",
    "\n",
    "    \n",
    "print(aastatega)\n",
    "#print(dataframe)"
   ]
  },
  {
   "cell_type": "code",
   "execution_count": 30,
   "metadata": {
    "scrolled": true
   },
   "outputs": [
    {
     "name": "stdout",
     "output_type": "stream",
     "text": [
      "[['Valga maakond' 2014 'Mitteeluhooned' '!Sisestamata!' 3 1]\n",
      " ['Tartu maakond' 2014 'Mitteeluhooned' '!Sisestamata!' 3 3]\n",
      " ['Rapla maakond' 2014 'Mitteeluhooned' '!Sisestamata!' 3 1]\n",
      " ...\n",
      " ['Harju maakond' 2020 '!Sisestamata!' '!Sisestamata!' 11 1]\n",
      " ['Harju maakond' 2020 'Eluhooned' '!Sisestamata!' 11 1]\n",
      " ['Harju maakond' 2020 'Mitteeluhooned' '!Sisestamata!' 11 5]]\n"
     ]
    },
    {
     "ename": "TypeError",
     "evalue": "only integer scalar arrays can be converted to a scalar index",
     "output_type": "error",
     "traceback": [
      "\u001b[0;31m---------------------------------------------------------------------------\u001b[0m",
      "\u001b[0;31mTypeError\u001b[0m                                 Traceback (most recent call last)",
      "\u001b[0;32m<ipython-input-30-37bcfacc8cc9>\u001b[0m in \u001b[0;36m<module>\u001b[0;34m\u001b[0m\n\u001b[1;32m      9\u001b[0m \u001b[0mdataY\u001b[0m \u001b[0;34m=\u001b[0m \u001b[0my_train\u001b[0m\u001b[0;34m.\u001b[0m\u001b[0mvalues\u001b[0m\u001b[0;34m\u001b[0m\u001b[0;34m\u001b[0m\u001b[0m\n\u001b[1;32m     10\u001b[0m \u001b[0mprint\u001b[0m\u001b[0;34m(\u001b[0m\u001b[0mdata\u001b[0m\u001b[0;34m)\u001b[0m\u001b[0;34m\u001b[0m\u001b[0;34m\u001b[0m\u001b[0m\n\u001b[0;32m---> 11\u001b[0;31m \u001b[0mdataframe_counties_months\u001b[0m \u001b[0;34m=\u001b[0m \u001b[0mpd\u001b[0m\u001b[0;34m.\u001b[0m\u001b[0mDataFrame\u001b[0m\u001b[0;34m(\u001b[0m\u001b[0;34m(\u001b[0m\u001b[0mdataset_with_counties_months\u001b[0m\u001b[0;34m(\u001b[0m\u001b[0mdataX\u001b[0m\u001b[0;34m,\u001b[0m \u001b[0mdataY\u001b[0m\u001b[0;34m)\u001b[0m\u001b[0;34m)\u001b[0m\u001b[0;34m,\u001b[0m \u001b[0mcolumns\u001b[0m\u001b[0;34m=\u001b[0m\u001b[0;34m[\u001b[0m\u001b[0;34m'Maakond'\u001b[0m\u001b[0;34m,\u001b[0m\u001b[0;34m'Kuu'\u001b[0m\u001b[0;34m]\u001b[0m\u001b[0;34m)\u001b[0m\u001b[0;34m\u001b[0m\u001b[0;34m\u001b[0m\u001b[0m\n\u001b[0m\u001b[1;32m     12\u001b[0m \u001b[0;34m\u001b[0m\u001b[0m\n\u001b[1;32m     13\u001b[0m \u001b[0;31m#dataframe_counties_months['Hoonetulekahjud']=dataframe_counties_months.groupby(by=['Maakond', 'Kuu'])['Maakond'].transform('count')\u001b[0m\u001b[0;34m\u001b[0m\u001b[0;34m\u001b[0m\u001b[0;34m\u001b[0m\u001b[0m\n",
      "\u001b[0;32m<ipython-input-30-37bcfacc8cc9>\u001b[0m in \u001b[0;36mdataset_with_counties_months\u001b[0;34m(X_train, y_train)\u001b[0m\n\u001b[1;32m      2\u001b[0m     \u001b[0marray\u001b[0m \u001b[0;34m=\u001b[0m \u001b[0;34m[\u001b[0m\u001b[0;34m]\u001b[0m\u001b[0;34m\u001b[0m\u001b[0;34m\u001b[0m\u001b[0m\n\u001b[1;32m      3\u001b[0m     \u001b[0;32mfor\u001b[0m \u001b[0mi\u001b[0m \u001b[0;32min\u001b[0m \u001b[0mX_train\u001b[0m\u001b[0;34m:\u001b[0m\u001b[0;34m\u001b[0m\u001b[0;34m\u001b[0m\u001b[0m\n\u001b[0;32m----> 4\u001b[0;31m         \u001b[0;32mfor\u001b[0m \u001b[0mj\u001b[0m \u001b[0;32min\u001b[0m \u001b[0mrange\u001b[0m\u001b[0;34m(\u001b[0m\u001b[0my_train\u001b[0m\u001b[0;34m)\u001b[0m\u001b[0;34m:\u001b[0m\u001b[0;34m\u001b[0m\u001b[0;34m\u001b[0m\u001b[0m\n\u001b[0m\u001b[1;32m      5\u001b[0m             \u001b[0marray\u001b[0m\u001b[0;34m.\u001b[0m\u001b[0mappend\u001b[0m\u001b[0;34m(\u001b[0m\u001b[0;34m[\u001b[0m\u001b[0mi\u001b[0m\u001b[0;34m[\u001b[0m\u001b[0;36m0\u001b[0m\u001b[0;34m]\u001b[0m\u001b[0;34m,\u001b[0m \u001b[0mi\u001b[0m\u001b[0;34m[\u001b[0m\u001b[0;36m2\u001b[0m\u001b[0;34m]\u001b[0m\u001b[0;34m]\u001b[0m\u001b[0;34m)\u001b[0m\u001b[0;34m\u001b[0m\u001b[0;34m\u001b[0m\u001b[0m\n\u001b[1;32m      6\u001b[0m     \u001b[0;32mreturn\u001b[0m \u001b[0marray\u001b[0m\u001b[0;34m\u001b[0m\u001b[0;34m\u001b[0m\u001b[0m\n",
      "\u001b[0;31mTypeError\u001b[0m: only integer scalar arrays can be converted to a scalar index"
     ]
    }
   ],
   "source": [
    "def dataset_with_counties_months(X_train, y_train):\n",
    "    array = []\n",
    "    for i in X_train:\n",
    "        for j in range(y_train):\n",
    "            array.append([i[0], i[2]])\n",
    "    return array\n",
    "\n",
    "dataX = X_train.values\n",
    "dataY = y_train.values\n",
    "print(data)\n",
    "dataframe_counties_months = pd.DataFrame((dataset_with_counties_months(dataX, dataY)), columns=['Maakond','Kuu'])\n",
    "\n",
    "#dataframe_counties_months['Hoonetulekahjud']=dataframe_counties_months.groupby(by=['Maakond', 'Kuu'])['Maakond'].transform('count')\n",
    "dataframe_counties_months['Hoonetulekahjud']=dataframe_counties_months.groupby(by=['Maakond', 'Kuu'])['Maakond'].transform('count')\n",
    "dataframe_counties_months = dataframe_counties_months.drop_duplicates()\n",
    "dataframe_counties_months"
   ]
  },
  {
   "cell_type": "markdown",
   "metadata": {},
   "source": [
    "### Using random forest classifier"
   ]
  },
  {
   "cell_type": "code",
   "execution_count": null,
   "metadata": {},
   "outputs": [],
   "source": [
    "from sklearn.ensemble import RandomForestClassifier\n",
    "from sklearn.ensemble import RandomForestRegressor\n",
    "from sklearn.metrics import confusion_matrix\n",
    "train_X, test_X,train_y, test_y = train_test_split(X_train, y_train,random_state=100, \n",
    "                                                   test_size = 0.3)\n",
    "# TODO\n",
    "rf = RandomForestRegressor(criterion='mse',max_depth=6,n_estimators=200)\n",
    "rf.fit(X_train,y_train)"
   ]
  },
  {
   "cell_type": "markdown",
   "metadata": {},
   "source": [
    "# SIIANI"
   ]
  },
  {
   "cell_type": "code",
   "execution_count": null,
   "metadata": {},
   "outputs": [],
   "source": [
    "import sklearn\n",
    "from sklearn.model_selection import train_test_split\n",
    "\n",
    "data_single = []\n",
    "data_copy = data.copy()\n",
    "for i in data_copy:\n",
    "    for j in range(i[5]):\n",
    "        i[5] = 1\n",
    "        data_single.append(i)\n",
    "single = pd.DataFrame(data=data_df, columns=['Maakond', 'Aasta', 'Hoone liik', 'Tekkepõhjus',\n",
    "                                             'Kuu', 'Hoonetulekahjud'])\n",
    "single.head()"
   ]
  },
  {
   "cell_type": "code",
   "execution_count": null,
   "metadata": {},
   "outputs": [],
   "source": [
    "data_dum = pd.get_dummies(data_df, columns=['Maakond', 'Hoone liik', \n",
    "                                                                  'Tekkepõhjus'])\n",
    "test, train = sklearn.model_selection.train_test_split(data_dum, train_size=0.7)\n",
    "X_train = train.drop(columns=['Hoonetulekahjud'])\n",
    "y_train = train['Hoonetulekahjud']\n",
    "X_test = test.drop(columns=['Hoonetulekahjud'])\n",
    "y_test = test['Hoonetulekahjud']\n"
   ]
  },
  {
   "cell_type": "code",
   "execution_count": null,
   "metadata": {},
   "outputs": [],
   "source": [
    "from sklearn.ensemble import RandomForestClassifier\n",
    "from sklearn.ensemble import RandomForestRegressor\n",
    "from sklearn.metrics import confusion_matrix\n",
    "train_X, test_X,train_y, test_y = train_test_split(X_train, y_train,random_state=100, \n",
    "                                                   test_size = 0.3)\n",
    "# TODO\n",
    "rf = RandomForestRegressor(criterion='mse',max_depth=6,n_estimators=200)\n",
    "rf.fit(X_train,y_train)"
   ]
  },
  {
   "cell_type": "code",
   "execution_count": null,
   "metadata": {},
   "outputs": [],
   "source": [
    "from sklearn.metrics import make_scorer, mean_squared_error\n",
    "def RMSE(true_y, preds):\n",
    "    return np.sqrt(mean_squared_error(true_y, preds))\n",
    "rmse_scorer = make_scorer(RMSE, greater_is_better=False) #make own scorer"
   ]
  },
  {
   "cell_type": "code",
   "execution_count": null,
   "metadata": {},
   "outputs": [],
   "source": [
    "RMSE(rf.predict(X_train),y_train)"
   ]
  },
  {
   "cell_type": "code",
   "execution_count": null,
   "metadata": {},
   "outputs": [],
   "source": [
    "RMSE(rf.predict(X_test),y_test)"
   ]
  },
  {
   "cell_type": "code",
   "execution_count": null,
   "metadata": {},
   "outputs": [],
   "source": [
    "from sklearn.neighbors import KNeighborsClassifier\n",
    "from sklearn.metrics import accuracy_score\n",
    "results_df = pd.DataFrame(columns=['model', 'accuracy'])\n",
    "\n",
    "# TODO: uncomment and fill in\n",
    "\n",
    "model = KNeighborsClassifier(n_neighbors = 12)\n",
    "model.fit(X_train, y_train)\n",
    "acc = accuracy_score(y_test, model.predict(X_test))\n",
    "results_df = results_df.append({'model': '12-NN', 'accuracy': acc }, ignore_index=True)\n",
    "results_df\n",
    "#print out the dataframe"
   ]
  },
  {
   "cell_type": "code",
   "execution_count": null,
   "metadata": {},
   "outputs": [],
   "source": [
    "for i in range(18, 24, 2):\n",
    "    model = KNeighborsClassifier(n_neighbors = i)\n",
    "    model.fit(X_train, y_train)\n",
    "    acc = accuracy_score(y_test, model.predict(X_test))\n",
    "    results_df = results_df.append({'model': str(i)+'-NN', 'accuracy': acc }, ignore_index=True)\n",
    "results_df"
   ]
  },
  {
   "cell_type": "code",
   "execution_count": null,
   "metadata": {},
   "outputs": [],
   "source": [
    "model = KNeighborsClassifier(n_neighbors = 12, metric='manhattan')\n",
    "model.fit(X_train, y_train)\n",
    "acc = accuracy_score(y_test, model.predict(X_test))\n",
    "results_df = results_df.append({'model': '12-NN, metric=manhattan', 'accuracy': acc }, ignore_index=True)\n",
    "for i in range(18, 24, 2):\n",
    "    model = KNeighborsClassifier(n_neighbors = i, metric='manhattan')\n",
    "    model.fit(X_train, y_train)\n",
    "    acc = accuracy_score(y_test, model.predict(X_test))\n",
    "    results_df = results_df.append({'model': str(i)+'-NN, metric=manhattan', 'accuracy': acc }, ignore_index=True)\n",
    "results_df"
   ]
  },
  {
   "cell_type": "code",
   "execution_count": null,
   "metadata": {},
   "outputs": [],
   "source": [
    "results_df.sort_values(['accuracy'], ascending=False) "
   ]
  },
  {
   "cell_type": "code",
   "execution_count": null,
   "metadata": {},
   "outputs": [],
   "source": [
    "from sklearn import tree\n",
    "model = tree.DecisionTreeClassifier(random_state = 0)\n",
    "model.fit(X_train, y_train)\n",
    "acc = accuracy_score(y_test, model.predict(X_test))\n",
    "results_df = results_df.append({'model': 'Model 3a' , 'accuracy': acc }, ignore_index=True)\n",
    "results_df\n",
    "# TODO"
   ]
  },
  {
   "cell_type": "code",
   "execution_count": null,
   "metadata": {},
   "outputs": [],
   "source": [
    "model = tree.DecisionTreeClassifier(random_state = 3)\n",
    "model.fit(X_train, y_train)\n",
    "acc = accuracy_score(y_test, model.predict(X_test))\n",
    "results_df = results_df.append({'model': 'Model 3b' , 'accuracy': acc }, ignore_index=True)\n",
    "results_df"
   ]
  },
  {
   "cell_type": "code",
   "execution_count": null,
   "metadata": {},
   "outputs": [],
   "source": [
    "model = tree.DecisionTreeClassifier(random_state = 0, criterion='entropy')\n",
    "model.fit(X_train, y_train)\n",
    "acc = accuracy_score(y_test, model.predict(X_test))\n",
    "results_df = results_df.append({'model': 'Model 3d' , 'accuracy': acc }, ignore_index=True)\n",
    "results_df"
   ]
  },
  {
   "cell_type": "code",
   "execution_count": null,
   "metadata": {},
   "outputs": [],
   "source": [
    "model = tree.DecisionTreeClassifier(random_state = 0, criterion='entropy', min_samples_leaf = 10)\n",
    "model.fit(X_train, y_train)\n",
    "acc = accuracy_score(y_test, model.predict(X_test))\n",
    "results_df = results_df.append({'model': 'Model 3e' , 'accuracy': acc }, ignore_index=True)\n",
    "results_df"
   ]
  },
  {
   "cell_type": "code",
   "execution_count": null,
   "metadata": {},
   "outputs": [],
   "source": [
    " results_df.sort_values(['accuracy'], ascending=False).plot(kind='bar', x='model', y='accuracy')\n",
    "plt.show()"
   ]
  },
  {
   "cell_type": "code",
   "execution_count": null,
   "metadata": {},
   "outputs": [],
   "source": [
    "#Highest accuracy\n",
    "results_df.sort_values(['accuracy'], ascending=False).head(1)"
   ]
  },
  {
   "cell_type": "code",
   "execution_count": null,
   "metadata": {},
   "outputs": [],
   "source": []
  },
  {
   "cell_type": "code",
   "execution_count": null,
   "metadata": {},
   "outputs": [],
   "source": []
  }
 ],
 "metadata": {
  "kernelspec": {
   "display_name": "Python 3",
   "language": "python",
   "name": "python3"
  },
  "language_info": {
   "codemirror_mode": {
    "name": "ipython",
    "version": 3
   },
   "file_extension": ".py",
   "mimetype": "text/x-python",
   "name": "python",
   "nbconvert_exporter": "python",
   "pygments_lexer": "ipython3",
   "version": "3.8.3"
  }
 },
 "nbformat": 4,
 "nbformat_minor": 4
}
