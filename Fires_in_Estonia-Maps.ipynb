{
 "cells": [
  {
   "cell_type": "markdown",
   "metadata": {},
   "source": [
    "# D8 - Building fires in Estonia\n",
    "## Karolin Kivilaan, Kati Ilus, Geitrud Pank"
   ]
  },
  {
   "cell_type": "code",
   "execution_count": 5,
   "metadata": {},
   "outputs": [
    {
     "ename": "ModuleNotFoundError",
     "evalue": "No module named 'apyori'",
     "output_type": "error",
     "traceback": [
      "\u001b[0;31m---------------------------------------------------------------------------\u001b[0m",
      "\u001b[0;31mModuleNotFoundError\u001b[0m                       Traceback (most recent call last)",
      "\u001b[0;32m<ipython-input-5-8a991ab85ce9>\u001b[0m in \u001b[0;36m<module>\u001b[0;34m\u001b[0m\n\u001b[1;32m      1\u001b[0m \u001b[0;32mimport\u001b[0m \u001b[0mnumpy\u001b[0m \u001b[0;32mas\u001b[0m \u001b[0mnp\u001b[0m\u001b[0;34m\u001b[0m\u001b[0;34m\u001b[0m\u001b[0m\n\u001b[1;32m      2\u001b[0m \u001b[0;32mimport\u001b[0m \u001b[0mpandas\u001b[0m \u001b[0;32mas\u001b[0m \u001b[0mpd\u001b[0m\u001b[0;34m\u001b[0m\u001b[0;34m\u001b[0m\u001b[0m\n\u001b[0;32m----> 3\u001b[0;31m \u001b[0;32mimport\u001b[0m \u001b[0mapyori\u001b[0m\u001b[0;34m\u001b[0m\u001b[0;34m\u001b[0m\u001b[0m\n\u001b[0m\u001b[1;32m      4\u001b[0m \u001b[0;32mimport\u001b[0m \u001b[0mmatplotlib\u001b[0m\u001b[0;34m.\u001b[0m\u001b[0mpyplot\u001b[0m \u001b[0;32mas\u001b[0m \u001b[0mplt\u001b[0m\u001b[0;34m\u001b[0m\u001b[0;34m\u001b[0m\u001b[0m\n\u001b[1;32m      5\u001b[0m \u001b[0;32mfrom\u001b[0m \u001b[0msklearn\u001b[0m\u001b[0;34m.\u001b[0m\u001b[0mcluster\u001b[0m \u001b[0;32mimport\u001b[0m \u001b[0mKMeans\u001b[0m\u001b[0;34m\u001b[0m\u001b[0;34m\u001b[0m\u001b[0m\n",
      "\u001b[0;31mModuleNotFoundError\u001b[0m: No module named 'apyori'"
     ]
    }
   ],
   "source": [
    "import numpy as np\n",
    "import pandas as pd\n",
    "import apyori\n",
    "import matplotlib.pyplot as plt\n",
    "from sklearn.cluster import KMeans\n",
    "import ipyleaflet\n",
    "from ipyleaflet import Map, Marker, Popup, MarkerCluster\n",
    "from ipywidgets import HTML\n",
    "import geocoder\n",
    "\n",
    "\n",
    "data_df = pd.read_csv(\"hoonetulekahjud.csv\")\n",
    "data = data_df.values\n",
    "data_with_months = []\n",
    "data_copy = data.copy()\n",
    "for i in data_copy:\n",
    "    if i[4] == 1:\n",
    "        i[4] = 'January'\n",
    "    elif i[4] == 2:\n",
    "        i[4] = 'February'\n",
    "    elif i[4] == 3:\n",
    "        i[4] = 'March'\n",
    "    elif i[4] == 4:\n",
    "        i[4] = 'April'\n",
    "    elif i[4] == 5:\n",
    "        i[4] = 'May'\n",
    "    elif i[4] == 6:\n",
    "        i[4] = 'June'\n",
    "    elif i[4] == 7:\n",
    "        i[4] = 'July'\n",
    "    elif i[4] == 8:\n",
    "        i[4] = 'August'\n",
    "    elif i[4] == 9:\n",
    "        i[4] = 'September'\n",
    "    elif i[4] == 10:\n",
    "        i[4] = 'October'\n",
    "    elif i[4] == 11:\n",
    "        i[4] = 'November'\n",
    "    elif i[4] == 12:\n",
    "        i[4] = 'December'\n",
    "    data_with_months.append(i)\n",
    "data_df"
   ]
  },
  {
   "cell_type": "code",
   "execution_count": null,
   "metadata": {},
<<<<<<< HEAD:Fires_in_Estonia-Copy1.ipynb
   "outputs": [],
=======
   "outputs": [
    {
     "data": {
      "application/vnd.jupyter.widget-view+json": {
       "model_id": "84fab99a56b84a8e8910fd6f55d45ba6",
       "version_major": 2,
       "version_minor": 0
      },
      "text/plain": [
       "Map(center=[58.7523778, 25.3319078], controls=(ZoomControl(options=['position', 'zoom_in_text', 'zoom_in_title…"
      ]
     },
     "metadata": {},
     "output_type": "display_data"
    }
   ],
>>>>>>> 09113f8816d6965acb0261e52b817275df43d1d6:Fires_in_Estonia-Maps.ipynb
   "source": [
    "estonia_coord = geocoder.osm('Estonia')\n",
    "coord = [estonia_coord.lat, estonia_coord.lng]\n",
    "est_map = Map(center=coord, zoom=6.7)\n",
    "est_map_2014 = Map(center=coord, zoom=6.7)\n",
    "est_map_2015 = Map(center=coord, zoom=6.7)\n",
    "est_map_2016 = Map(center=coord, zoom=6.7)\n",
    "est_map_2017 = Map(center=coord, zoom=6.7)\n",
    "est_map_2018 = Map(center=coord, zoom=6.7)\n",
    "est_map_2019 = Map(center=coord, zoom=6.7)\n",
    "est_map_2020 = Map(center=coord, zoom=6.7)\n",
    "\n",
    "est_map"
   ]
  },
  {
   "cell_type": "markdown",
   "metadata": {},
   "source": [
    "### Basic plotting"
   ]
  },
  {
   "cell_type": "code",
   "execution_count": null,
   "metadata": {},
   "outputs": [],
   "source": [
    "year2014 = []\n",
    "year2015 = []\n",
    "year2016 = []\n",
    "year2017 = []\n",
    "year2018 = []\n",
    "year2019 = []\n",
    "year2020 = []\n",
    "year2014_month = []\n",
    "year2015_month = []\n",
    "year2016_month = []\n",
    "year2017_month = []\n",
    "year2018_month = []\n",
    "year2019_month = []\n",
    "year2020_month = []\n",
    "for i in range(len(data)):\n",
    "    if data[i][1] == 2014:\n",
    "        year2014.append(data[i])\n",
    "        year2014_month.append(data_with_months[i])\n",
    "    elif data[i][1] == 2015:\n",
    "        year2015.append(data[i])\n",
    "        year2015_month.append(data_with_months[i])\n",
    "    elif data[i][1] == 2016:\n",
    "        year2016.append(data[i])\n",
    "        year2016_month.append(data_with_months[i])\n",
    "    elif data[i][1] == 2017:\n",
    "        year2017.append(data[i])\n",
    "        year2017_month.append(data_with_months[i])\n",
    "    elif data[i][1] == 2018:\n",
    "        year2018.append(data[i])\n",
    "        year2018_month.append(data_with_months[i])\n",
    "    elif data[i][1] == 2019:\n",
    "        year2019.append(data[i])\n",
    "        year2019_month.append(data_with_months[i])\n",
    "    elif data[i][1] == 2020:\n",
    "        year2020.append(data[i])\n",
    "        year2020_month.append(data_with_months[i])\n",
    "#print(year2014)\n",
    "data_by_years = [year2014, year2015, year2016, year2017, year2018, year2019, year2020]"
   ]
  },
  {
   "cell_type": "code",
   "execution_count": null,
   "metadata": {},
   "outputs": [],
<<<<<<< HEAD:Fires_in_Estonia-Copy1.ipynb
=======
   "source": [
    "#Fires by counties\n",
    "counties = ['Valga maakond', 'Tartu maakond', 'Rapla maakond', 'Lääne maakond',\n",
    "       'Harju maakond', 'Võru maakond', 'Viljandi maakond',\n",
    "       'Saare maakond', 'Pärnu maakond', 'Põlva maakond',\n",
    "       'Lääne-Viru maakond', 'Järva maakond', 'Jõgeva maakond',\n",
    "       'Ida-Viru maakond', 'Hiiu maakond', '!Sisestamata']\n",
    "\n",
    "valga = []\n",
    "tartu = []\n",
    "rapla = []\n",
    "laane = []\n",
    "harju = []\n",
    "voru = []\n",
    "viljandi = []\n",
    "saare = []\n",
    "parnu = []\n",
    "polva = []\n",
    "laane_viru = []\n",
    "jarva = []\n",
    "jogeva = []\n",
    "ida_viru = []\n",
    "hiiu = []\n",
    "sisestamata = []\n",
    "\n",
    "for i in range(len(data)):\n",
    "    if data[i][0] == 'Valga maakond':\n",
    "        valga.append(data[i][3])\n",
    "    elif data[i][0] == 'Tartu maakond':\n",
    "        tartu.append(data[i][3])\n",
    "    elif data[i][0] == 'Rapla maakond':\n",
    "        rapla.append(data[i][3])\n",
    "    elif data[i][0] == 'Lääne maakond':\n",
    "        laane.append(data[i][3])\n",
    "    elif data[i][0] == 'Harju maakond':\n",
    "        harju.append(data[i][3])\n",
    "    elif data[i][0] == 'Võru maakond':\n",
    "        voru.append(data[i][3])\n",
    "    elif data[i][0] == 'Viljandi maakond':\n",
    "        viljandi.append(data[i][3])\n",
    "    elif data[i][0] == 'Saare maakond':\n",
    "        saare.append(data[i][3])\n",
    "    elif data[i][0] == 'Pärnu maakond':\n",
    "        parnu.append(data[i][3])\n",
    "    elif data[i][0] == 'Põlva maakond':\n",
    "        polva.append(data[i][3])\n",
    "    elif data[i][0] == 'Lääne-Viru maakond':\n",
    "        laane_viru.append(data[i][3])\n",
    "    elif data[i][0] == 'Järva maakond':\n",
    "        jarva.append(data[i][3])\n",
    "    elif data[i][0] == 'Jõgeva maakond':\n",
    "        jogeva.append(data[i][3])\n",
    "    elif data[i][0] == 'Ida-Viru maakond':\n",
    "        ida_viru.append(data[i][3])\n",
    "    elif data[i][0] == 'Hiiu maakond':\n",
    "        hiiu.append(data[i][3])\n",
    "    elif data[i][0] == '!Sisestamata!':\n",
    "        sisestamata.append(data[i][3])\n",
    "    else:\n",
    "        print(data[i])\n",
    "\n",
    "causes_by_county = [valga, tartu, rapla, laane, harju, voru, viljandi, saare, parnu, polva, laane_viru, jarva, jogeva, ida_viru, hiiu, sisestamata]\n",
    "#counts,values = pd.Series(LIST).value_counts().values, pd.Series(LIST).value_counts().index\n",
    "#df_results = pd.DataFrame(list(zip(values,counts)),columns=[\"value\",\"count\"])"
   ]
  },
  {
   "cell_type": "code",
   "execution_count": 5,
   "metadata": {},
   "outputs": [
    {
     "name": "stdout",
     "output_type": "stream",
     "text": [
      "1401\n"
     ]
    }
   ],
>>>>>>> 09113f8816d6965acb0261e52b817275df43d1d6:Fires_in_Estonia-Maps.ipynb
   "source": [
    "def fires_in_a_year(year):\n",
    "    counter = 0\n",
    "    for i in year:\n",
    "        counter += int(i[5])\n",
    "    return counter\n",
    "print(fires_in_a_year(year2016))"
   ]
  },
  {
   "cell_type": "code",
<<<<<<< HEAD:Fires_in_Estonia-Copy1.ipynb
   "execution_count": null,
=======
   "execution_count": 6,
>>>>>>> 09113f8816d6965acb0261e52b817275df43d1d6:Fires_in_Estonia-Maps.ipynb
   "metadata": {},
   "outputs": [],
   "source": [
    "def fires_by_month(year):\n",
    "    array = []\n",
    "    for i in year:\n",
    "        for j in range(i[5]):\n",
    "            array.append(i[4])\n",
    "    return array\n",
    "o = pd.Index(fires_by_month(year2020_month))\n",
    "o.value_counts().plot(kind='pie')\n",
    "plt.show()"
   ]
  },
  {
   "cell_type": "code",
<<<<<<< HEAD:Fires_in_Estonia-Copy1.ipynb
   "execution_count": null,
   "metadata": {},
   "outputs": [],
=======
   "execution_count": 7,
   "metadata": {},
   "outputs": [
    {
     "data": {
      "image/png": "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\n",
      "text/plain": [
       "<Figure size 432x288 with 1 Axes>"
      ]
     },
     "metadata": {
      "needs_background": "light"
     },
     "output_type": "display_data"
    }
   ],
>>>>>>> 09113f8816d6965acb0261e52b817275df43d1d6:Fires_in_Estonia-Maps.ipynb
   "source": [
    "def different_causes(year):\n",
    "    array = []\n",
    "    for i in year:\n",
    "        for j in range(i[5]):\n",
    "            array.append(i[3])\n",
    "    return array\n",
    "o = pd.Index(different_causes(year2020))\n",
    "o.value_counts().plot(kind='bar')\n",
    "plt.show()"
   ]
  },
  {
   "cell_type": "code",
<<<<<<< HEAD:Fires_in_Estonia-Copy1.ipynb
   "execution_count": null,
=======
   "execution_count": 8,
>>>>>>> 09113f8816d6965acb0261e52b817275df43d1d6:Fires_in_Estonia-Maps.ipynb
   "metadata": {},
   "outputs": [],
   "source": [
    "def fires_by_county(year):\n",
    "    array = []\n",
    "    for i in year:\n",
    "        for j in range(i[5]):\n",
    "            array.append(i[0])\n",
    "    return array\n",
    "y2019 = pd.Index(fires_by_county(year2019))\n",
    "y2019.value_counts().plot(kind='bar', color='#fb1dbf')\n",
    "plt.show()"
   ]
  },
  {
   "cell_type": "code",
<<<<<<< HEAD:Fires_in_Estonia-Copy1.ipynb
   "execution_count": 2,
=======
   "execution_count": 9,
>>>>>>> 09113f8816d6965acb0261e52b817275df43d1d6:Fires_in_Estonia-Maps.ipynb
   "metadata": {},
   "outputs": [
    {
     "ename": "NameError",
     "evalue": "name 'fires_in_a_year' is not defined",
     "output_type": "error",
     "traceback": [
      "\u001b[0;31m---------------------------------------------------------------------------\u001b[0m",
      "\u001b[0;31mNameError\u001b[0m                                 Traceback (most recent call last)",
      "\u001b[0;32m<ipython-input-2-8719eb00901e>\u001b[0m in \u001b[0;36m<module>\u001b[0;34m\u001b[0m\n\u001b[1;32m      3\u001b[0m \u001b[0max\u001b[0m \u001b[0;34m=\u001b[0m \u001b[0mfig\u001b[0m\u001b[0;34m.\u001b[0m\u001b[0madd_axes\u001b[0m\u001b[0;34m(\u001b[0m\u001b[0;34m[\u001b[0m\u001b[0;36m0\u001b[0m\u001b[0;34m,\u001b[0m\u001b[0;36m0\u001b[0m\u001b[0;34m,\u001b[0m\u001b[0;36m1\u001b[0m\u001b[0;34m,\u001b[0m\u001b[0;36m1\u001b[0m\u001b[0;34m]\u001b[0m\u001b[0;34m)\u001b[0m\u001b[0;34m\u001b[0m\u001b[0;34m\u001b[0m\u001b[0m\n\u001b[1;32m      4\u001b[0m \u001b[0mlangs\u001b[0m \u001b[0;34m=\u001b[0m \u001b[0;34m[\u001b[0m\u001b[0;34m'Year 2014'\u001b[0m\u001b[0;34m,\u001b[0m \u001b[0;34m'Year 2015'\u001b[0m\u001b[0;34m,\u001b[0m \u001b[0;34m'Year 2016'\u001b[0m\u001b[0;34m,\u001b[0m \u001b[0;34m'Year 2017'\u001b[0m\u001b[0;34m,\u001b[0m \u001b[0;34m'Year 2018'\u001b[0m\u001b[0;34m,\u001b[0m \u001b[0;34m'Year 2019'\u001b[0m\u001b[0;34m,\u001b[0m \u001b[0;34m'Year 2020'\u001b[0m\u001b[0;34m]\u001b[0m\u001b[0;34m\u001b[0m\u001b[0;34m\u001b[0m\u001b[0m\n\u001b[0;32m----> 5\u001b[0;31m \u001b[0mcounts\u001b[0m \u001b[0;34m=\u001b[0m \u001b[0;34m[\u001b[0m\u001b[0mfires_in_a_year\u001b[0m\u001b[0;34m(\u001b[0m\u001b[0myear2014\u001b[0m\u001b[0;34m)\u001b[0m\u001b[0;34m,\u001b[0m \u001b[0mfires_in_a_year\u001b[0m\u001b[0;34m(\u001b[0m\u001b[0myear2015\u001b[0m\u001b[0;34m)\u001b[0m\u001b[0;34m,\u001b[0m \u001b[0mfires_in_a_year\u001b[0m\u001b[0;34m(\u001b[0m\u001b[0myear2016\u001b[0m\u001b[0;34m)\u001b[0m\u001b[0;34m,\u001b[0m \u001b[0mfires_in_a_year\u001b[0m\u001b[0;34m(\u001b[0m\u001b[0myear2017\u001b[0m\u001b[0;34m)\u001b[0m\u001b[0;34m,\u001b[0m \u001b[0mfires_in_a_year\u001b[0m\u001b[0;34m(\u001b[0m\u001b[0myear2018\u001b[0m\u001b[0;34m)\u001b[0m\u001b[0;34m,\u001b[0m \u001b[0mfires_in_a_year\u001b[0m\u001b[0;34m(\u001b[0m\u001b[0myear2019\u001b[0m\u001b[0;34m)\u001b[0m\u001b[0;34m,\u001b[0m \u001b[0mfires_in_a_year\u001b[0m\u001b[0;34m(\u001b[0m\u001b[0myear2020\u001b[0m\u001b[0;34m)\u001b[0m\u001b[0;34m]\u001b[0m\u001b[0;34m\u001b[0m\u001b[0;34m\u001b[0m\u001b[0m\n\u001b[0m\u001b[1;32m      6\u001b[0m \u001b[0max\u001b[0m\u001b[0;34m.\u001b[0m\u001b[0mbar\u001b[0m\u001b[0;34m(\u001b[0m\u001b[0mlangs\u001b[0m\u001b[0;34m,\u001b[0m\u001b[0mcounts\u001b[0m\u001b[0;34m,\u001b[0m \u001b[0mcolor\u001b[0m\u001b[0;34m=\u001b[0m\u001b[0;34m'#0203aa'\u001b[0m\u001b[0;34m)\u001b[0m\u001b[0;34m\u001b[0m\u001b[0;34m\u001b[0m\u001b[0m\n\u001b[1;32m      7\u001b[0m \u001b[0max\u001b[0m\u001b[0;34m.\u001b[0m\u001b[0mset_title\u001b[0m\u001b[0;34m(\u001b[0m\u001b[0;34m'Building fires by year'\u001b[0m\u001b[0;34m)\u001b[0m\u001b[0;34m\u001b[0m\u001b[0;34m\u001b[0m\u001b[0m\n",
      "\u001b[0;31mNameError\u001b[0m: name 'fires_in_a_year' is not defined"
     ]
    },
    {
     "data": {
      "image/png": "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\n",
      "text/plain": [
       "<Figure size 432x288 with 1 Axes>"
      ]
     },
     "metadata": {
      "needs_background": "light"
     },
     "output_type": "display_data"
    }
   ],
   "source": [
    "import matplotlib.pyplot as plt\n",
    "fig = plt.figure()\n",
    "ax = fig.add_axes([0,0,1,1])\n",
    "langs = ['Year 2014', 'Year 2015', 'Year 2016', 'Year 2017', 'Year 2018', 'Year 2019', 'Year 2020']\n",
    "counts = [fires_in_a_year(year2014), fires_in_a_year(year2015), fires_in_a_year(year2016), fires_in_a_year(year2017), fires_in_a_year(year2018), fires_in_a_year(year2019), fires_in_a_year(year2020)] \n",
    "ax.bar(langs,counts, color='#0203aa')\n",
    "ax.set_title('Building fires by year')\n",
    "plt.show()"
   ]
  },
  {
   "cell_type": "code",
<<<<<<< HEAD:Fires_in_Estonia-Copy1.ipynb
   "execution_count": null,
   "metadata": {},
   "outputs": [],
=======
   "execution_count": 10,
   "metadata": {},
   "outputs": [
    {
     "data": {
      "text/html": [
       "<div>\n",
       "<style scoped>\n",
       "    .dataframe tbody tr th:only-of-type {\n",
       "        vertical-align: middle;\n",
       "    }\n",
       "\n",
       "    .dataframe tbody tr th {\n",
       "        vertical-align: top;\n",
       "    }\n",
       "\n",
       "    .dataframe thead th {\n",
       "        text-align: right;\n",
       "    }\n",
       "</style>\n",
       "<table border=\"1\" class=\"dataframe\">\n",
       "  <thead>\n",
       "    <tr style=\"text-align: right;\">\n",
       "      <th></th>\n",
       "      <th>0</th>\n",
       "      <th>1</th>\n",
       "    </tr>\n",
       "  </thead>\n",
       "  <tbody>\n",
       "    <tr>\n",
       "      <th>0</th>\n",
       "      <td>Harju maakond</td>\n",
       "      <td>381</td>\n",
       "    </tr>\n",
       "    <tr>\n",
       "      <th>1</th>\n",
       "      <td>Ida-Viru maakond</td>\n",
       "      <td>200</td>\n",
       "    </tr>\n",
       "    <tr>\n",
       "      <th>2</th>\n",
       "      <td>Tartu maakond</td>\n",
       "      <td>104</td>\n",
       "    </tr>\n",
       "    <tr>\n",
       "      <th>3</th>\n",
       "      <td>Lääne-Viru maakond</td>\n",
       "      <td>79</td>\n",
       "    </tr>\n",
       "    <tr>\n",
       "      <th>4</th>\n",
       "      <td>Pärnu maakond</td>\n",
       "      <td>60</td>\n",
       "    </tr>\n",
       "    <tr>\n",
       "      <th>5</th>\n",
       "      <td>Viljandi maakond</td>\n",
       "      <td>41</td>\n",
       "    </tr>\n",
       "    <tr>\n",
       "      <th>6</th>\n",
       "      <td>Võru maakond</td>\n",
       "      <td>36</td>\n",
       "    </tr>\n",
       "    <tr>\n",
       "      <th>7</th>\n",
       "      <td>Valga maakond</td>\n",
       "      <td>34</td>\n",
       "    </tr>\n",
       "    <tr>\n",
       "      <th>8</th>\n",
       "      <td>Jõgeva maakond</td>\n",
       "      <td>31</td>\n",
       "    </tr>\n",
       "    <tr>\n",
       "      <th>9</th>\n",
       "      <td>Järva maakond</td>\n",
       "      <td>28</td>\n",
       "    </tr>\n",
       "    <tr>\n",
       "      <th>10</th>\n",
       "      <td>Rapla maakond</td>\n",
       "      <td>27</td>\n",
       "    </tr>\n",
       "    <tr>\n",
       "      <th>11</th>\n",
       "      <td>Põlva maakond</td>\n",
       "      <td>22</td>\n",
       "    </tr>\n",
       "    <tr>\n",
       "      <th>12</th>\n",
       "      <td>Lääne maakond</td>\n",
       "      <td>18</td>\n",
       "    </tr>\n",
       "    <tr>\n",
       "      <th>13</th>\n",
       "      <td>Saare maakond</td>\n",
       "      <td>18</td>\n",
       "    </tr>\n",
       "    <tr>\n",
       "      <th>14</th>\n",
       "      <td>Hiiu maakond</td>\n",
       "      <td>9</td>\n",
       "    </tr>\n",
       "    <tr>\n",
       "      <th>15</th>\n",
       "      <td>!Sisestamata!</td>\n",
       "      <td>4</td>\n",
       "    </tr>\n",
       "  </tbody>\n",
       "</table>\n",
       "</div>"
      ],
      "text/plain": [
       "                     0    1\n",
       "0        Harju maakond  381\n",
       "1     Ida-Viru maakond  200\n",
       "2        Tartu maakond  104\n",
       "3   Lääne-Viru maakond   79\n",
       "4        Pärnu maakond   60\n",
       "5     Viljandi maakond   41\n",
       "6         Võru maakond   36\n",
       "7        Valga maakond   34\n",
       "8       Jõgeva maakond   31\n",
       "9        Järva maakond   28\n",
       "10       Rapla maakond   27\n",
       "11       Põlva maakond   22\n",
       "12       Lääne maakond   18\n",
       "13       Saare maakond   18\n",
       "14        Hiiu maakond    9\n",
       "15       !Sisestamata!    4"
      ]
     },
     "execution_count": 10,
     "metadata": {},
     "output_type": "execute_result"
    }
   ],
>>>>>>> 09113f8816d6965acb0261e52b817275df43d1d6:Fires_in_Estonia-Maps.ipynb
   "source": [
    "#Maakonnad ja arvud 2019 aastal\n",
    "year = y2019.value_counts().index.tolist()\n",
    "count = []\n",
    "for i in year:\n",
    "    count.append([i, y2019.value_counts().loc[i]])\n",
    "county_counter = pd.DataFrame(count)\n",
    "county_counter"
   ]
  },
  {
   "cell_type": "code",
<<<<<<< HEAD:Fires_in_Estonia-Copy1.ipynb
   "execution_count": 3,
=======
   "execution_count": 11,
>>>>>>> 09113f8816d6965acb0261e52b817275df43d1d6:Fires_in_Estonia-Maps.ipynb
   "metadata": {},
   "outputs": [
    {
     "ename": "NameError",
     "evalue": "name 'data_df' is not defined",
     "output_type": "error",
     "traceback": [
      "\u001b[0;31m---------------------------------------------------------------------------\u001b[0m",
      "\u001b[0;31mNameError\u001b[0m                                 Traceback (most recent call last)",
      "\u001b[0;32m<ipython-input-3-2c784fb2b6db>\u001b[0m in \u001b[0;36m<module>\u001b[0;34m\u001b[0m\n\u001b[1;32m      1\u001b[0m \u001b[0;31m#Clustering fires by month\u001b[0m\u001b[0;34m\u001b[0m\u001b[0;34m\u001b[0m\u001b[0;34m\u001b[0m\u001b[0m\n\u001b[0;32m----> 2\u001b[0;31m \u001b[0mk\u001b[0m \u001b[0;34m=\u001b[0m \u001b[0mdata_df\u001b[0m\u001b[0;34m.\u001b[0m\u001b[0mloc\u001b[0m\u001b[0;34m[\u001b[0m\u001b[0mdata_df\u001b[0m\u001b[0;34m[\u001b[0m\u001b[0;34m'Aasta'\u001b[0m\u001b[0;34m]\u001b[0m \u001b[0;34m==\u001b[0m \u001b[0;36m2014\u001b[0m\u001b[0;34m]\u001b[0m\u001b[0;34m\u001b[0m\u001b[0;34m\u001b[0m\u001b[0m\n\u001b[0m\u001b[1;32m      3\u001b[0m \u001b[0mplt\u001b[0m\u001b[0;34m.\u001b[0m\u001b[0mscatter\u001b[0m\u001b[0;34m(\u001b[0m\u001b[0mk\u001b[0m\u001b[0;34m[\u001b[0m\u001b[0;34m'Hoonetulekahjud'\u001b[0m\u001b[0;34m]\u001b[0m\u001b[0;34m,\u001b[0m \u001b[0mk\u001b[0m\u001b[0;34m[\u001b[0m\u001b[0;34m'Kuu'\u001b[0m\u001b[0;34m]\u001b[0m\u001b[0;34m)\u001b[0m\u001b[0;34m\u001b[0m\u001b[0;34m\u001b[0m\u001b[0m\n\u001b[1;32m      4\u001b[0m \u001b[0mplt\u001b[0m\u001b[0;34m.\u001b[0m\u001b[0mxlabel\u001b[0m\u001b[0;34m(\u001b[0m\u001b[0;34m'Building fires'\u001b[0m\u001b[0;34m)\u001b[0m\u001b[0;34m\u001b[0m\u001b[0;34m\u001b[0m\u001b[0m\n\u001b[1;32m      5\u001b[0m \u001b[0mplt\u001b[0m\u001b[0;34m.\u001b[0m\u001b[0mylabel\u001b[0m\u001b[0;34m(\u001b[0m\u001b[0;34m'Month'\u001b[0m\u001b[0;34m)\u001b[0m\u001b[0;34m\u001b[0m\u001b[0;34m\u001b[0m\u001b[0m\n",
      "\u001b[0;31mNameError\u001b[0m: name 'data_df' is not defined"
     ]
    }
   ],
   "source": [
    "#Clustering fires by month\n",
    "k = data_df.loc[data_df['Aasta'] == 2014]\n",
    "plt.scatter(k['Hoonetulekahjud'], k['Kuu'])\n",
    "plt.xlabel('Building fires')\n",
    "plt.ylabel('Month')\n",
    "plt.show()"
   ]
  },
  {
   "cell_type": "code",
<<<<<<< HEAD:Fires_in_Estonia-Copy1.ipynb
   "execution_count": 4,
=======
   "execution_count": 12,
>>>>>>> 09113f8816d6965acb0261e52b817275df43d1d6:Fires_in_Estonia-Maps.ipynb
   "metadata": {
    "scrolled": true
   },
   "outputs": [],
   "source": [
    "#counties = ['Valga maakond', 'Tartu maakond', 'Rapla maakond', 'Lääne maakond',\n",
    "#       'Harju maakond', 'Võru maakond', 'Viljandi maakond',\n",
    "#       'Saare maakond', 'Pärnu maakond', 'Põlva maakond',\n",
    "#       'Lääne-Viru maakond', 'Järva maakond', 'Jõgeva maakond',\n",
    "#       'Ida-Viru maakond', 'Hiiu maakond']\n",
    "\n",
    "def map_counties(county, mapmap, cause, nr):\n",
    "    location = geocoder.osm(county)\n",
    "    coordinates = [location.lat, location.lng]\n",
    "    marker = Marker(location=coordinates, title=county)\n",
    "    \n",
    "    message = HTML()\n",
    "    message.value = \"County: \" + county + \" Most common cause: \" + cause + \" Number of fires: \" + str(nr)\n",
    "    \n",
    "    marker.popup = message\n",
    "    \n",
    "    mapmap.add_layer(marker)\n",
    "\n",
    "#for i in range(len(counties)):\n",
    "#    map_counties(counties[i], est_map)\n",
    "    \n",
    "#est_map"
   ]
  },
  {
   "cell_type": "code",
   "execution_count": 13,
   "metadata": {},
   "outputs": [],
   "source": [
    "def create_markers(coordinates, nr):\n",
    "    lst = []\n",
    "    for i in range(nr):\n",
    "        marker = Marker(location=coordinates)\n",
    "        lst.append(marker)\n",
    "    return lst"
   ]
  },
  {
   "cell_type": "code",
   "execution_count": 14,
   "metadata": {},
   "outputs": [
    {
     "data": {
      "application/vnd.jupyter.widget-view+json": {
       "model_id": "b90130ef06084a59b5d0b0eb979608f7",
       "version_major": 2,
       "version_minor": 0
      },
      "text/plain": [
       "Map(center=[58.7523778, 25.3319078], controls=(ZoomControl(options=['position', 'zoom_in_text', 'zoom_in_title…"
      ]
     },
     "metadata": {},
     "output_type": "display_data"
    }
   ],
   "source": [
    "#Maakonnad ja arvud 2014 aastal\n",
    "y2014 = pd.Index(fires_by_county(year2014))\n",
    "year = y2014.value_counts().index.tolist()\n",
    "count = []\n",
    "for i in year:\n",
    "    count.append([i, y2014.value_counts().loc[i]])\n",
    "county_counter = pd.DataFrame(count, columns = ['Maakond', 'Arv'])\n",
    "\n",
    "for row in county_counter.itertuples(index=True):\n",
    "    rida = getattr(row, 'Maakond')\n",
    "    nr = getattr(row, 'Arv')\n",
    "    \n",
    "    if rida == '!Sisestamata!':\n",
    "        rida = 'Liivi laht'\n",
    "        \n",
    "    location = geocoder.osm(rida)\n",
    "    coordinates = [location.lat, location.lng]\n",
    "    \n",
    "    lst = create_markers(coordinates, nr)\n",
    "    cluster = MarkerCluster(\n",
    "        markers = lst\n",
    "    )\n",
    "    est_map_2014.add_layer(cluster)\n",
    "\n",
    "est_map_2014"
   ]
  },
  {
   "cell_type": "code",
   "execution_count": 15,
   "metadata": {},
   "outputs": [
    {
     "data": {
      "application/vnd.jupyter.widget-view+json": {
       "model_id": "4943d872190d40368047d739b389affb",
       "version_major": 2,
       "version_minor": 0
      },
      "text/plain": [
       "Map(center=[58.7523778, 25.3319078], controls=(ZoomControl(options=['position', 'zoom_in_text', 'zoom_in_title…"
      ]
     },
     "metadata": {},
     "output_type": "display_data"
    }
   ],
   "source": [
    "#Maakonnad ja arvud 2015 aastal\n",
    "y2015 = pd.Index(fires_by_county(year2015))\n",
    "year = y2015.value_counts().index.tolist()\n",
    "count = []\n",
    "for i in year:\n",
    "    count.append([i, y2015.value_counts().loc[i]])\n",
    "county_counter = pd.DataFrame(count, columns = ['Maakond', 'Arv'])\n",
    "\n",
    "for row in county_counter.itertuples(index=True):\n",
    "    rida = getattr(row, 'Maakond')\n",
    "    nr = getattr(row, 'Arv')\n",
    "    \n",
    "    if rida == '!Sisestamata!':\n",
    "        rida = 'Liivi laht'\n",
    "    \n",
    "    location = geocoder.osm(rida)\n",
    "    coordinates = [location.lat, location.lng]\n",
    "    \n",
    "    lst = create_markers(coordinates, nr)\n",
    "    cluster = MarkerCluster(\n",
    "        markers = lst\n",
    "    )\n",
    "    est_map_2015.add_layer(cluster)\n",
    "\n",
    "est_map_2015"
   ]
  },
  {
   "cell_type": "code",
   "execution_count": 16,
   "metadata": {},
   "outputs": [
    {
     "data": {
      "application/vnd.jupyter.widget-view+json": {
       "model_id": "4a413a72976046da87d944dbe286f953",
       "version_major": 2,
       "version_minor": 0
      },
      "text/plain": [
       "Map(center=[58.7523778, 25.3319078], controls=(ZoomControl(options=['position', 'zoom_in_text', 'zoom_in_title…"
      ]
     },
     "metadata": {},
     "output_type": "display_data"
    }
   ],
   "source": [
    "#Maakonnad ja arvud 2016 aastal\n",
    "y2016 = pd.Index(fires_by_county(year2016))\n",
    "year = y2016.value_counts().index.tolist()\n",
    "count = []\n",
    "for i in year:\n",
    "    count.append([i, y2016.value_counts().loc[i]])\n",
    "county_counter = pd.DataFrame(count, columns = ['Maakond', 'Arv'])\n",
    "\n",
    "for row in county_counter.itertuples(index=True):\n",
    "    rida = getattr(row, 'Maakond')\n",
    "    nr = getattr(row, 'Arv')\n",
    "    \n",
    "    if rida == '!Sisestamata!':\n",
    "        rida = 'Liivi laht'\n",
    "    \n",
    "    location = geocoder.osm(rida)\n",
    "    coordinates = [location.lat, location.lng]\n",
    "    \n",
    "    lst = create_markers(coordinates, nr)\n",
    "    cluster = MarkerCluster(\n",
    "        markers = lst\n",
    "    )\n",
    "    est_map_2016.add_layer(cluster)\n",
    "\n",
    "est_map_2016"
   ]
  },
  {
   "cell_type": "code",
   "execution_count": 17,
   "metadata": {},
   "outputs": [
    {
     "data": {
      "application/vnd.jupyter.widget-view+json": {
       "model_id": "0fa520281c5842ff92dc60f6a9448057",
       "version_major": 2,
       "version_minor": 0
      },
      "text/plain": [
       "Map(center=[58.7523778, 25.3319078], controls=(ZoomControl(options=['position', 'zoom_in_text', 'zoom_in_title…"
      ]
     },
     "metadata": {},
     "output_type": "display_data"
    }
   ],
   "source": [
    "#Maakonnad ja arvud 2017 aastal\n",
    "y2017 = pd.Index(fires_by_county(year2017))\n",
    "year = y2017.value_counts().index.tolist()\n",
    "count = []\n",
    "for i in year:\n",
    "    count.append([i, y2017.value_counts().loc[i]])\n",
    "county_counter = pd.DataFrame(count, columns = ['Maakond', 'Arv'])\n",
    "\n",
    "for row in county_counter.itertuples(index=True):\n",
    "    rida = getattr(row, 'Maakond')\n",
    "    nr = getattr(row, 'Arv')\n",
    "    \n",
    "    if rida == '!Sisestamata!':\n",
    "        rida = 'Liivi laht'\n",
    "    \n",
    "    location = geocoder.osm(rida)\n",
    "    coordinates = [location.lat, location.lng]\n",
    "    \n",
    "    lst = create_markers(coordinates, nr)\n",
    "    cluster = MarkerCluster(\n",
    "        markers = lst\n",
    "    )\n",
    "    est_map_2017.add_layer(cluster)\n",
    "\n",
    "est_map_2017"
   ]
  },
  {
   "cell_type": "code",
   "execution_count": 18,
   "metadata": {},
   "outputs": [
    {
     "data": {
      "application/vnd.jupyter.widget-view+json": {
       "model_id": "ce0812e3ba164f09ba73cb50f1220e7c",
       "version_major": 2,
       "version_minor": 0
      },
      "text/plain": [
       "Map(center=[58.7523778, 25.3319078], controls=(ZoomControl(options=['position', 'zoom_in_text', 'zoom_in_title…"
      ]
     },
     "metadata": {},
     "output_type": "display_data"
    }
   ],
   "source": [
    "#Maakonnad ja arvud 2018 aastal\n",
    "y2018 = pd.Index(fires_by_county(year2018))\n",
    "year = y2018.value_counts().index.tolist()\n",
    "count = []\n",
    "for i in year:\n",
    "    count.append([i, y2018.value_counts().loc[i]])\n",
    "county_counter = pd.DataFrame(count, columns = ['Maakond', 'Arv'])\n",
    "\n",
    "for row in county_counter.itertuples(index=True):\n",
    "    rida = getattr(row, 'Maakond')\n",
    "    nr = getattr(row, 'Arv')\n",
    "    \n",
    "    if rida == '!Sisestamata!':\n",
    "        rida = 'Liivi laht'\n",
    "    \n",
    "    location = geocoder.osm(rida)\n",
    "    coordinates = [location.lat, location.lng]\n",
    "    \n",
    "    lst = create_markers(coordinates, nr)\n",
    "    cluster = MarkerCluster(\n",
    "        markers = lst\n",
    "    )\n",
    "    est_map_2018.add_layer(cluster)\n",
    "\n",
    "est_map_2018"
   ]
  },
  {
   "cell_type": "code",
   "execution_count": 19,
   "metadata": {},
   "outputs": [
    {
     "data": {
      "application/vnd.jupyter.widget-view+json": {
       "model_id": "2b2837671bdb44f18a9911fde6b8ef88",
       "version_major": 2,
       "version_minor": 0
      },
      "text/plain": [
       "Map(center=[58.7523778, 25.3319078], controls=(ZoomControl(options=['position', 'zoom_in_text', 'zoom_in_title…"
      ]
     },
     "metadata": {},
     "output_type": "display_data"
    }
   ],
   "source": [
    "#Maakonnad ja arvud 2019 aastal\n",
    "y2019 = pd.Index(fires_by_county(year2019))\n",
    "year = y2019.value_counts().index.tolist()\n",
    "count = []\n",
    "for i in year:\n",
    "    count.append([i, y2019.value_counts().loc[i]])\n",
    "county_counter = pd.DataFrame(count, columns = ['Maakond', 'Arv'])\n",
    "\n",
    "for row in county_counter.itertuples(index=True):\n",
    "    rida = getattr(row, 'Maakond')\n",
    "    nr = getattr(row, 'Arv')\n",
    "    \n",
    "    if rida == '!Sisestamata!':\n",
    "        rida = 'Liivi laht'\n",
    "    \n",
    "    location = geocoder.osm(rida)\n",
    "    coordinates = [location.lat, location.lng]\n",
    "    \n",
    "    lst = create_markers(coordinates, nr)\n",
    "    cluster = MarkerCluster(\n",
    "        markers = lst\n",
    "    )\n",
    "    est_map_2019.add_layer(cluster)\n",
    "\n",
    "est_map_2019"
   ]
  },
  {
   "cell_type": "code",
   "execution_count": 20,
   "metadata": {},
   "outputs": [
    {
     "data": {
      "application/vnd.jupyter.widget-view+json": {
       "model_id": "b15b230f3145446196b8520b923b702c",
       "version_major": 2,
       "version_minor": 0
      },
      "text/plain": [
       "Map(center=[58.7523778, 25.3319078], controls=(ZoomControl(options=['position', 'zoom_in_text', 'zoom_in_title…"
      ]
     },
     "metadata": {},
     "output_type": "display_data"
    }
   ],
   "source": [
    "#Maakonnad ja arvud 2020 aastal\n",
    "y2020 = pd.Index(fires_by_county(year2020))\n",
    "year = y2020.value_counts().index.tolist()\n",
    "count = []\n",
    "for i in year:\n",
    "    count.append([i, y2020.value_counts().loc[i]])\n",
    "county_counter = pd.DataFrame(count, columns = ['Maakond', 'Arv'])\n",
    "\n",
    "for row in county_counter.itertuples(index=True):\n",
    "    rida = getattr(row, 'Maakond')\n",
    "    nr = getattr(row, 'Arv')\n",
    "    \n",
    "    if rida == '!Sisestamata!':\n",
    "        rida = 'Liivi laht'\n",
    "    \n",
    "    location = geocoder.osm(rida)\n",
    "    coordinates = [location.lat, location.lng]\n",
    "    \n",
    "    lst = create_markers(coordinates, nr)\n",
    "    cluster = MarkerCluster(\n",
    "        markers = lst\n",
    "    )\n",
    "    est_map_2020.add_layer(cluster)\n",
    "\n",
    "est_map_2020"
   ]
  },
  {
   "cell_type": "code",
   "execution_count": 21,
   "metadata": {},
   "outputs": [
    {
     "data": {
      "application/vnd.jupyter.widget-view+json": {
       "model_id": "84fab99a56b84a8e8910fd6f55d45ba6",
       "version_major": 2,
       "version_minor": 0
      },
      "text/plain": [
       "Map(center=[58.7523778, 25.3319078], controls=(ZoomControl(options=['position', 'zoom_in_text', 'zoom_in_title…"
      ]
     },
     "metadata": {},
     "output_type": "display_data"
    }
   ],
   "source": [
    "#Maakonnad ja levinumad tulekahju tekkepõhjused\n",
    "counties = ['Valga maakond', 'Tartu maakond', 'Rapla maakond', 'Lääne maakond',\n",
    "       'Harju maakond', 'Võru maakond', 'Viljandi maakond',\n",
    "       'Saare maakond', 'Pärnu maakond', 'Põlva maakond',\n",
    "       'Lääne-Viru maakond', 'Järva maakond', 'Jõgeva maakond',\n",
    "       'Ida-Viru maakond', 'Hiiu maakond']\n",
    "\n",
    "nr = [52, 69, 37, 31, 154, 34, 33, 24, 73, 25, 86, 45, 29, 142, 8]\n",
    "causes = ['Lahtise tule kasutamisel', 'Lahtise tule kasutamisel', 'Rike elektripaigaldises', 'Lahtise tule kasutamisel', 'Lahtise tule kasutamisel',\n",
    "         'Rike kütteseadmes', 'Rike elektripaigaldises', 'Rike elektripaigaldises', 'Lahtise tule kasutamisel', 'Rike kütteseadmes', 'Lahtise tule kasutamisel',\n",
    "         'Lahtise tule kasutamisel', 'Kuritahtlik', 'Lahtise tule kasutamisel',  'Rike elektriseadmes']\n",
    "dfs = []\n",
    "\n",
    "for county in causes_by_county:\n",
    "    counts,values = pd.Series(county).value_counts().values, pd.Series(county).value_counts().index\n",
    "    df_results_county = pd.DataFrame(list(zip(values,counts)),columns=[\"value\",\"count\"])\n",
    "    dfs.append([df_results_county])\n",
    "\n",
    "dfs[15]\n",
    "\n",
    "for i in range(len(counties)):\n",
    "    map_counties(counties[i], est_map, causes[i], nr[i])\n",
    "# Jõgeva!! nr 1 põhjus Kuritahtlik, 29'l korral\n",
    "#for i in range(len(counties)):\n",
    "#    map_counties(counties[i], est_map, mcc, nr)\n",
    "    \n",
    "est_map"
   ]
  },
  {
   "cell_type": "code",
   "execution_count": null,
   "metadata": {},
   "outputs": [],
   "source": []
  }
 ],
 "metadata": {
  "kernelspec": {
   "display_name": "Python 3",
   "language": "python",
   "name": "python3"
  },
  "language_info": {
   "codemirror_mode": {
    "name": "ipython",
    "version": 3
   },
   "file_extension": ".py",
   "mimetype": "text/x-python",
   "name": "python",
   "nbconvert_exporter": "python",
   "pygments_lexer": "ipython3",
   "version": "3.8.3"
  }
 },
 "nbformat": 4,
 "nbformat_minor": 4
}
